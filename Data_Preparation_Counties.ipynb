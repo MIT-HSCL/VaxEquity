{
 "cells": [
  {
   "cell_type": "markdown",
   "metadata": {
    "id": "HxjY0rOgT8QH"
   },
   "source": [
    "# Prepare Workspace"
   ]
  },
  {
   "cell_type": "markdown",
   "metadata": {
    "id": "Qrqe3HndUC6b"
   },
   "source": [
    "## Install required modules"
   ]
  },
  {
   "cell_type": "code",
   "execution_count": 1,
   "metadata": {
    "colab": {
     "base_uri": "https://localhost:8080/"
    },
    "executionInfo": {
     "elapsed": 8203,
     "status": "ok",
     "timestamp": 1677872289738,
     "user": {
      "displayName": "Matthias Schumm",
      "userId": "14613872717235634427"
     },
     "user_tz": 300
    },
    "id": "JN_FNm-DTh3W",
    "outputId": "2545cab0-1c94-495e-c130-eaa3ddff9662"
   },
   "outputs": [],
   "source": [
    "#!pip install -U -q PyDrive\n",
    "#!pip install geopandas"
   ]
  },
  {
   "cell_type": "markdown",
   "metadata": {
    "id": "T8JAO25dUDoP"
   },
   "source": [
    "## Load required modules"
   ]
  },
  {
   "cell_type": "code",
   "execution_count": 2,
   "metadata": {
    "executionInfo": {
     "elapsed": 2225,
     "status": "ok",
     "timestamp": 1677872291959,
     "user": {
      "displayName": "Matthias Schumm",
      "userId": "14613872717235634427"
     },
     "user_tz": 300
    },
    "id": "6PS1DPXFlzQF"
   },
   "outputs": [],
   "source": [
    "import pandas as pd\n",
    "import numpy as np\n",
    "\n",
    "import datetime\n",
    "\n",
    "import matplotlib.pyplot as plt\n",
    "import seaborn as sns\n",
    "#from scipy import stats\n",
    "\n",
    "#from google.colab import data_table\n",
    "#data_table.enable_dataframe_formatter()\n",
    "from sklearn.preprocessing import MinMaxScaler\n",
    "\n",
    "# https://scikit-learn.org/stable/modules/impute.html\n",
    "from sklearn.experimental import enable_iterative_imputer\n",
    "from sklearn.impute import IterativeImputer\n",
    "\n",
    "#from sklearn.linear_model import LinearRegression\n",
    "#from scipy.optimize import linprog\n",
    "\n",
    "\n",
    "#from pydrive.auth import GoogleAuth\n",
    "#from pydrive.drive import GoogleDrive\n",
    "#from google.colab import auth\n",
    "#from oauth2client.client import GoogleCredentials\n",
    "#from google.colab import files"
   ]
  },
  {
   "cell_type": "code",
   "execution_count": 3,
   "metadata": {
    "executionInfo": {
     "elapsed": 322,
     "status": "ok",
     "timestamp": 1677872292278,
     "user": {
      "displayName": "Matthias Schumm",
      "userId": "14613872717235634427"
     },
     "user_tz": 300
    },
    "id": "T3Ca0evFQlLb"
   },
   "outputs": [],
   "source": [
    "import geopandas as gpd"
   ]
  },
  {
   "cell_type": "markdown",
   "metadata": {
    "id": "QYpdQ0K2UHh4"
   },
   "source": [
    "## Load files\n",
    "### COVID-19_Vaccinations_in_the_United_States_County.csv'\n"
   ]
  },
  {
   "cell_type": "code",
   "execution_count": 4,
   "metadata": {
    "colab": {
     "base_uri": "https://localhost:8080/"
    },
    "executionInfo": {
     "elapsed": 24214,
     "status": "ok",
     "timestamp": 1677872341558,
     "user": {
      "displayName": "Matthias Schumm",
      "userId": "14613872717235634427"
     },
     "user_tz": 300
    },
    "id": "D1lsuzO4irR5",
    "outputId": "d51e22df-c7be-4778-ec2b-13b1be652423"
   },
   "outputs": [
    {
     "name": "stderr",
     "output_type": "stream",
     "text": [
      "/state/partition1/slurm_tmp/22601130.0.0/ipykernel_13646/1897075600.py:1: DtypeWarning: Columns (6,8,10,12,14,16,18,20,22,24,26,28,30,32,34,36,38,67,68,71,72,74,76,78) have mixed types. Specify dtype option on import or set low_memory=False.\n",
      "  df =pd.read_csv('COVID-19_Vaccinations_in_the_United_States_County.csv')\n"
     ]
    }
   ],
   "source": [
    "df =pd.read_csv('COVID-19_Vaccinations_in_the_United_States_County.csv')"
   ]
  },
  {
   "cell_type": "markdown",
   "metadata": {
    "id": "yiDnPLxSUN88"
   },
   "source": [
    "### ACS, SVI, Medical Facilities"
   ]
  },
  {
   "cell_type": "code",
   "execution_count": 5,
   "metadata": {
    "executionInfo": {
     "elapsed": 268,
     "status": "ok",
     "timestamp": 1677872344503,
     "user": {
      "displayName": "Matthias Schumm",
      "userId": "14613872717235634427"
     },
     "user_tz": 300
    },
    "id": "epf_a3QXinJ_"
   },
   "outputs": [],
   "source": [
    "acs = pd.read_csv('ACS.csv')\n",
    "svi = pd.read_csv('SVI2020_US_COUNTY.csv')"
   ]
  },
  {
   "cell_type": "code",
   "execution_count": 6,
   "metadata": {
    "executionInfo": {
     "elapsed": 28782,
     "status": "ok",
     "timestamp": 1677872373284,
     "user": {
      "displayName": "Matthias Schumm",
      "userId": "14613872717235634427"
     },
     "user_tz": 300
    },
    "id": "DKnuPexZQw2l"
   },
   "outputs": [],
   "source": [
    "facilities = pd.read_csv(\"medical_facilities_counties.csv\")#gpd.read_file(\"./Counties_Medical_Facilities/Counties_Medical_Facilities.shp\")"
   ]
  },
  {
   "cell_type": "code",
   "execution_count": 7,
   "metadata": {
    "executionInfo": {
     "elapsed": 8,
     "status": "ok",
     "timestamp": 1677872373284,
     "user": {
      "displayName": "Matthias Schumm",
      "userId": "14613872717235634427"
     },
     "user_tz": 300
    },
    "id": "jFXnvNGAR8pq"
   },
   "outputs": [],
   "source": [
    "facilities = facilities[[\"FIPS\", \"Point Coun\"]].copy()"
   ]
  },
  {
   "cell_type": "code",
   "execution_count": 8,
   "metadata": {
    "executionInfo": {
     "elapsed": 30285,
     "status": "ok",
     "timestamp": 1677872403563,
     "user": {
      "displayName": "Matthias Schumm",
      "userId": "14613872717235634427"
     },
     "user_tz": 300
    },
    "id": "b8OjuHZxwZ1e"
   },
   "outputs": [],
   "source": [
    "transportation = gpd.read_file(\"../Counties_Transportation/Counties_Transportation.shp\", include_fields=[\"FIPS\", \"Point_Coun\"])"
   ]
  },
  {
   "cell_type": "code",
   "execution_count": 9,
   "metadata": {
    "executionInfo": {
     "elapsed": 141402,
     "status": "ok",
     "timestamp": 1677872422698,
     "user": {
      "displayName": "Matthias Schumm",
      "userId": "14613872717235634427"
     },
     "user_tz": 300
    },
    "id": "KON-YudRwlsI"
   },
   "outputs": [],
   "source": [
    "transportation = transportation[[\"FIPS\", \"Point_Coun\"]].copy()"
   ]
  },
  {
   "cell_type": "markdown",
   "metadata": {
    "id": "S9S-mQE8UTpD"
   },
   "source": [
    "# Prepare Data"
   ]
  },
  {
   "cell_type": "markdown",
   "metadata": {
    "id": "1O9xL9HaUeCW"
   },
   "source": [
    "## Select relevant columns only"
   ]
  },
  {
   "cell_type": "code",
   "execution_count": 10,
   "metadata": {
    "id": "_4EYGCwPqMYc"
   },
   "outputs": [],
   "source": [
    "df[\"Date\"] = pd.to_datetime(df[\"Date\"])\n",
    "df[\"YYYYWW\"] = df[\"Date\"].dt.year*100 + df[\"MMWR_week\"]\n",
    "\n",
    "df2 = df[[#'Date',\n",
    " 'FIPS',\n",
    " #'MMWR_week',\n",
    " #'Recip_County',\n",
    " #'Recip_State',\n",
    " 'Completeness_pct',\n",
    " \"YYYYWW\"]]"
   ]
  },
  {
   "cell_type": "code",
   "execution_count": 11,
   "metadata": {
    "id": "Vbsqav_cR_zx"
   },
   "outputs": [],
   "source": [
    "# Free up some memory\n",
    "df = None"
   ]
  },
  {
   "cell_type": "code",
   "execution_count": 12,
   "metadata": {
    "id": "7LOsxcttNbEx"
   },
   "outputs": [
    {
     "data": {
      "text/html": [
       "<div>\n",
       "<style scoped>\n",
       "    .dataframe tbody tr th:only-of-type {\n",
       "        vertical-align: middle;\n",
       "    }\n",
       "\n",
       "    .dataframe tbody tr th {\n",
       "        vertical-align: top;\n",
       "    }\n",
       "\n",
       "    .dataframe thead th {\n",
       "        text-align: right;\n",
       "    }\n",
       "</style>\n",
       "<table border=\"1\" class=\"dataframe\">\n",
       "  <thead>\n",
       "    <tr style=\"text-align: right;\">\n",
       "      <th></th>\n",
       "      <th>FIPS</th>\n",
       "      <th>Completeness_pct</th>\n",
       "      <th>YYYYWW</th>\n",
       "    </tr>\n",
       "  </thead>\n",
       "  <tbody>\n",
       "  </tbody>\n",
       "</table>\n",
       "</div>"
      ],
      "text/plain": [
       "Empty DataFrame\n",
       "Columns: [FIPS, Completeness_pct, YYYYWW]\n",
       "Index: []"
      ]
     },
     "execution_count": 12,
     "metadata": {},
     "output_type": "execute_result"
    }
   ],
   "source": [
    "# For checks only\n",
    "mask = df2[\"FIPS\"]  == \"202051\"\n",
    "df2[mask]"
   ]
  },
  {
   "cell_type": "markdown",
   "metadata": {
    "id": "l9MysqO0Uo2U"
   },
   "source": [
    "## Aggregate on week level"
   ]
  },
  {
   "cell_type": "code",
   "execution_count": 13,
   "metadata": {
    "id": "prfow_P5Kk7P"
   },
   "outputs": [],
   "source": [
    "df2 = df2.set_index([\"FIPS\", \"YYYYWW\"])\n",
    "df2.reset_index(inplace=True)\n",
    "df_pivot = df2.pivot_table(columns=['FIPS'], aggfunc=np.mean, index=\"YYYYWW\").copy()\n",
    "df_pivot.sort_values(\"YYYYWW\", ascending=True, inplace=True)"
   ]
  },
  {
   "cell_type": "markdown",
   "metadata": {
    "id": "WjGPQytTUu9u"
   },
   "source": [
    "## Calculate the time how long it took to attain the maximum coverage level"
   ]
  },
  {
   "cell_type": "code",
   "execution_count": 14,
   "metadata": {
    "id": "vCBqyXryZV70"
   },
   "outputs": [],
   "source": [
    "# create a function to calculate the time it takes to reach the maximum value\n",
    "def calculate_time_to_reach_max(series):\n",
    "    return (series == series.max()).idxmax()\n",
    "\n",
    "# create a function to calculate the time it takes to reach the target value\n",
    "# specify the target value\n",
    "target = 8\n",
    "\n",
    "def calculate_time_to_reach_target(series):\n",
    "    return (series == target).idxmax()"
   ]
  },
  {
   "cell_type": "markdown",
   "metadata": {
    "id": "I0VIhn1jeLx-"
   },
   "source": [
    "### Cacultate values\n",
    "Also introduced an index:\n",
    "Weeks to max / Max. Completeness to account for speed and highest percentage."
   ]
  },
  {
   "cell_type": "code",
   "execution_count": 15,
   "metadata": {
    "id": "4_JlTiV8e8wd"
   },
   "outputs": [],
   "source": [
    "scaler = MinMaxScaler()"
   ]
  },
  {
   "cell_type": "code",
   "execution_count": 16,
   "metadata": {
    "id": "qgyQH4ZAco-6"
   },
   "outputs": [],
   "source": [
    "# apply the function to each column (time series) in the dataframe\n",
    "df_result = pd.DataFrame()#index=list(df_pivot))\n",
    "df_result[\"W\"] = df_pivot.apply(calculate_time_to_reach_max)\n",
    "df_result[\"MAX_Completeness_pct\"] = df_pivot.max()/100\n",
    "\n",
    "mask = df_result[\"MAX_Completeness_pct\"] == 0\n",
    "start_week = df_result[~mask][\"W\"].min() #min(df_pivot.Completeness_pct.index)\n",
    "offset = -1\n",
    "\n",
    "df_result[\"Weeks2MAX\"] = df_result[\"W\"] - start_week - offset\n",
    "df_result[[\"Weeks2MAX\"]] = scaler.fit_transform(df_result[[\"Weeks2MAX\"]])\n",
    "df_result[\"IDX_W2M\"] = df_result[\"Weeks2MAX\"]/df_result[\"MAX_Completeness_pct\"]"
   ]
  },
  {
   "cell_type": "markdown",
   "metadata": {
    "id": "GvojcQW_U8oj"
   },
   "source": [
    "### Drop those without reliable data"
   ]
  },
  {
   "cell_type": "code",
   "execution_count": 17,
   "metadata": {
    "id": "DoOMwCK5hla7"
   },
   "outputs": [],
   "source": [
    "df_result.drop(df_result[mask].index, inplace=True)"
   ]
  },
  {
   "cell_type": "code",
   "execution_count": 18,
   "metadata": {
    "id": "kCto_SXnaJsX"
   },
   "outputs": [],
   "source": [
    "df_result = df_result.droplevel(0)#.reset_index(\"FIPS\")\n",
    "df_result.replace([np.inf, -np.inf], np.nan, inplace=True)\n",
    "df_result.dropna(inplace = True)"
   ]
  },
  {
   "cell_type": "markdown",
   "metadata": {
    "id": "Ry8fiVwKVAUi"
   },
   "source": [
    "### Results:"
   ]
  },
  {
   "cell_type": "code",
   "execution_count": 19,
   "metadata": {
    "id": "C7kq8deBnF_w"
   },
   "outputs": [
    {
     "data": {
      "text/plain": [
       "array([[<AxesSubplot:title={'center':'W'}>,\n",
       "        <AxesSubplot:title={'center':'MAX_Completeness_pct'}>],\n",
       "       [<AxesSubplot:title={'center':'Weeks2MAX'}>,\n",
       "        <AxesSubplot:title={'center':'IDX_W2M'}>]], dtype=object)"
      ]
     },
     "execution_count": 19,
     "metadata": {},
     "output_type": "execute_result"
    },
    {
     "data": {
      "image/png": "[encoded data removed]",
      "text/plain": [
       "<Figure size 432x288 with 4 Axes>"
      ]
     },
     "metadata": {
      "needs_background": "light"
     },
     "output_type": "display_data"
    }
   ],
   "source": [
    "df_result.hist()"
   ]
  },
  {
   "cell_type": "code",
   "execution_count": 26,
   "metadata": {
    "id": "zjRNOoLTfSTx"
   },
   "outputs": [
    {
     "data": {
      "image/png": "[encoded data removed]",
      "text/plain": [
       "<Figure size 432x288 with 4 Axes>"
      ]
     },
     "metadata": {
      "needs_background": "light"
     },
     "output_type": "display_data"
    }
   ],
   "source": [
    "df_log = df_result\n",
    "df_log[['MAX_Completeness_pct', 'Weeks2MAX', 'IDX_W2M']] = df_result[['MAX_Completeness_pct', 'Weeks2MAX', 'IDX_W2M']].apply(np.log)\n",
    "#np.log(data['Salary'])\n",
    "df_log.hist()\n",
    "df_result['IDX_W2M'] = df_log['IDX_W2M']"
   ]
  },
  {
   "cell_type": "code",
   "execution_count": 21,
   "metadata": {
    "id": "-M5oVzwOpGVF"
   },
   "outputs": [
    {
     "data": {
      "text/plain": [
       "<AxesSubplot:>"
      ]
     },
     "execution_count": 21,
     "metadata": {},
     "output_type": "execute_result"
    },
    {
     "data": {
      "image/png": "[encoded data removed]",
      "text/plain": [
       "<Figure size 432x288 with 1 Axes>"
      ]
     },
     "metadata": {
      "needs_background": "light"
     },
     "output_type": "display_data"
    }
   ],
   "source": [
    "df_log['IDX_W2M'].hist(bins=50)"
   ]
  },
  {
   "cell_type": "code",
   "execution_count": 29,
   "metadata": {},
   "outputs": [
    {
     "data": {
      "text/plain": [
       "1.6082726780102086"
      ]
     },
     "execution_count": 29,
     "metadata": {},
     "output_type": "execute_result"
    }
   ],
   "source": [
    "df_log['IDX_W2M'].max()-df_log['IDX_W2M'].min()"
   ]
  },
  {
   "cell_type": "code",
   "execution_count": 30,
   "metadata": {},
   "outputs": [
    {
     "data": {
      "text/plain": [
       "0.022245608947319737"
      ]
     },
     "execution_count": 30,
     "metadata": {},
     "output_type": "execute_result"
    }
   ],
   "source": [
    "df_log['IDX_W2M'].max()"
   ]
  },
  {
   "cell_type": "code",
   "execution_count": 31,
   "metadata": {},
   "outputs": [
    {
     "data": {
      "text/plain": [
       "-1.5860270690628888"
      ]
     },
     "execution_count": 31,
     "metadata": {},
     "output_type": "execute_result"
    }
   ],
   "source": [
    "df_log['IDX_W2M'].min()"
   ]
  },
  {
   "cell_type": "code",
   "execution_count": 24,
   "metadata": {},
   "outputs": [
    {
     "data": {
      "text/html": [
       "<div>\n",
       "<style scoped>\n",
       "    .dataframe tbody tr th:only-of-type {\n",
       "        vertical-align: middle;\n",
       "    }\n",
       "\n",
       "    .dataframe tbody tr th {\n",
       "        vertical-align: top;\n",
       "    }\n",
       "\n",
       "    .dataframe thead th {\n",
       "        text-align: right;\n",
       "    }\n",
       "</style>\n",
       "<table border=\"1\" class=\"dataframe\">\n",
       "  <thead>\n",
       "    <tr style=\"text-align: right;\">\n",
       "      <th></th>\n",
       "      <th>W</th>\n",
       "      <th>MAX_Completeness_pct</th>\n",
       "      <th>Weeks2MAX</th>\n",
       "      <th>IDX_W2M</th>\n",
       "    </tr>\n",
       "    <tr>\n",
       "      <th>FIPS</th>\n",
       "      <th></th>\n",
       "      <th></th>\n",
       "      <th></th>\n",
       "      <th></th>\n",
       "    </tr>\n",
       "  </thead>\n",
       "  <tbody>\n",
       "    <tr>\n",
       "      <th>01001</th>\n",
       "      <td>202110</td>\n",
       "      <td>0.940286</td>\n",
       "      <td>0.235060</td>\n",
       "      <td>0.249988</td>\n",
       "    </tr>\n",
       "    <tr>\n",
       "      <th>01003</th>\n",
       "      <td>202102</td>\n",
       "      <td>0.946143</td>\n",
       "      <td>0.203187</td>\n",
       "      <td>0.214753</td>\n",
       "    </tr>\n",
       "    <tr>\n",
       "      <th>01005</th>\n",
       "      <td>202110</td>\n",
       "      <td>0.940286</td>\n",
       "      <td>0.235060</td>\n",
       "      <td>0.249988</td>\n",
       "    </tr>\n",
       "    <tr>\n",
       "      <th>01007</th>\n",
       "      <td>202110</td>\n",
       "      <td>0.940286</td>\n",
       "      <td>0.235060</td>\n",
       "      <td>0.249988</td>\n",
       "    </tr>\n",
       "    <tr>\n",
       "      <th>01009</th>\n",
       "      <td>202110</td>\n",
       "      <td>0.940286</td>\n",
       "      <td>0.235060</td>\n",
       "      <td>0.249988</td>\n",
       "    </tr>\n",
       "    <tr>\n",
       "      <th>...</th>\n",
       "      <td>...</td>\n",
       "      <td>...</td>\n",
       "      <td>...</td>\n",
       "      <td>...</td>\n",
       "    </tr>\n",
       "    <tr>\n",
       "      <th>72153</th>\n",
       "      <td>202302</td>\n",
       "      <td>0.978000</td>\n",
       "      <td>1.000000</td>\n",
       "      <td>1.022495</td>\n",
       "    </tr>\n",
       "    <tr>\n",
       "      <th>78010</th>\n",
       "      <td>202247</td>\n",
       "      <td>0.872000</td>\n",
       "      <td>0.780876</td>\n",
       "      <td>0.895501</td>\n",
       "    </tr>\n",
       "    <tr>\n",
       "      <th>78020</th>\n",
       "      <td>202247</td>\n",
       "      <td>0.872000</td>\n",
       "      <td>0.780876</td>\n",
       "      <td>0.895501</td>\n",
       "    </tr>\n",
       "    <tr>\n",
       "      <th>78030</th>\n",
       "      <td>202102</td>\n",
       "      <td>0.927857</td>\n",
       "      <td>0.203187</td>\n",
       "      <td>0.218985</td>\n",
       "    </tr>\n",
       "    <tr>\n",
       "      <th>UNK</th>\n",
       "      <td>202233</td>\n",
       "      <td>0.943925</td>\n",
       "      <td>0.725100</td>\n",
       "      <td>0.768175</td>\n",
       "    </tr>\n",
       "  </tbody>\n",
       "</table>\n",
       "<p>3212 rows × 4 columns</p>\n",
       "</div>"
      ],
      "text/plain": [
       "            W  MAX_Completeness_pct  Weeks2MAX   IDX_W2M\n",
       "FIPS                                                    \n",
       "01001  202110              0.940286   0.235060  0.249988\n",
       "01003  202102              0.946143   0.203187  0.214753\n",
       "01005  202110              0.940286   0.235060  0.249988\n",
       "01007  202110              0.940286   0.235060  0.249988\n",
       "01009  202110              0.940286   0.235060  0.249988\n",
       "...       ...                   ...        ...       ...\n",
       "72153  202302              0.978000   1.000000  1.022495\n",
       "78010  202247              0.872000   0.780876  0.895501\n",
       "78020  202247              0.872000   0.780876  0.895501\n",
       "78030  202102              0.927857   0.203187  0.218985\n",
       "UNK    202233              0.943925   0.725100  0.768175\n",
       "\n",
       "[3212 rows x 4 columns]"
      ]
     },
     "execution_count": 24,
     "metadata": {},
     "output_type": "execute_result"
    }
   ],
   "source": [
    "df_result"
   ]
  },
  {
   "cell_type": "code",
   "execution_count": 22,
   "metadata": {
    "id": "9k2a77nB69Eh"
   },
   "outputs": [
    {
     "data": {
      "text/plain": [
       "(3212, 4)"
      ]
     },
     "execution_count": 22,
     "metadata": {},
     "output_type": "execute_result"
    }
   ],
   "source": [
    "df_result.shape"
   ]
  },
  {
   "cell_type": "code",
   "execution_count": 23,
   "metadata": {
    "id": "PGym3pR5jhWh"
   },
   "outputs": [],
   "source": [
    "df_result.to_csv(\"df_result.csv\")\n",
    "#files.download(\"df_result.csv\")"
   ]
  },
  {
   "cell_type": "code",
   "execution_count": 24,
   "metadata": {
    "id": "kPfT0JrbgCVO"
   },
   "outputs": [],
   "source": [
    "## For checks only\n",
    "#mask = df2[\"FIPS\"]  == \"25017\"\n",
    "#df2[mask].groupby(\"YYYYWW\").mean().round(1)"
   ]
  },
  {
   "cell_type": "markdown",
   "metadata": {
    "id": "ONBPXmgyVVUV"
   },
   "source": [
    "# Join with ACS and SVI"
   ]
  },
  {
   "cell_type": "markdown",
   "metadata": {
    "id": "u6dV2uICVYKs"
   },
   "source": [
    "## join with ACS"
   ]
  },
  {
   "cell_type": "code",
   "execution_count": 25,
   "metadata": {},
   "outputs": [
    {
     "data": {
      "text/plain": [
       "array(['Geo_STUSAB', 'al', 'ak', 'az', 'ar', 'ca', 'co', 'ct', 'de', 'dc',\n",
       "       'fl', 'ga', 'hi', 'id', 'il', 'in', 'ia', 'ks', 'ky', 'la', 'me',\n",
       "       'md', 'ma', 'mi', 'mn', 'ms', 'mo', 'mt', 'ne', 'nv', 'nh', 'nj',\n",
       "       'nm', 'ny', 'nc', 'nd', 'oh', 'ok', 'or', 'pa', 'ri', 'sc', 'sd',\n",
       "       'tn', 'tx', 'ut', 'vt', 'va', 'wa', 'wv', 'wi', 'wy', 'pr'],\n",
       "      dtype=object)"
      ]
     },
     "execution_count": 25,
     "metadata": {},
     "output_type": "execute_result"
    }
   ],
   "source": [
    "acs[\"State Postal Abbreviation\"].unique()"
   ]
  },
  {
   "cell_type": "code",
   "execution_count": 26,
   "metadata": {},
   "outputs": [],
   "source": [
    "mask = ((acs[\"State Postal Abbreviation\"]!=\"ak\") & (acs[\"State Postal Abbreviation\"]!=\"hi\"))\n",
    "#ak=Alaska, hi=Hawaii"
   ]
  },
  {
   "cell_type": "code",
   "execution_count": 27,
   "metadata": {},
   "outputs": [
    {
     "data": {
      "text/plain": [
       "0       True\n",
       "1       True\n",
       "2       True\n",
       "3       True\n",
       "4       True\n",
       "        ... \n",
       "3217    True\n",
       "3218    True\n",
       "3219    True\n",
       "3220    True\n",
       "3221    True\n",
       "Name: State Postal Abbreviation, Length: 3222, dtype: bool"
      ]
     },
     "execution_count": 27,
     "metadata": {},
     "output_type": "execute_result"
    }
   ],
   "source": [
    "mask"
   ]
  },
  {
   "cell_type": "code",
   "execution_count": 28,
   "metadata": {},
   "outputs": [],
   "source": [
    "acs = acs[mask]"
   ]
  },
  {
   "cell_type": "code",
   "execution_count": 29,
   "metadata": {},
   "outputs": [
    {
     "data": {
      "text/plain": [
       "array(['Geo_STUSAB', 'al', 'az', 'ar', 'ca', 'co', 'ct', 'de', 'dc', 'fl',\n",
       "       'ga', 'id', 'il', 'in', 'ia', 'ks', 'ky', 'la', 'me', 'md', 'ma',\n",
       "       'mi', 'mn', 'ms', 'mo', 'mt', 'ne', 'nv', 'nh', 'nj', 'nm', 'ny',\n",
       "       'nc', 'nd', 'oh', 'ok', 'or', 'pa', 'ri', 'sc', 'sd', 'tn', 'tx',\n",
       "       'ut', 'vt', 'va', 'wa', 'wv', 'wi', 'wy', 'pr'], dtype=object)"
      ]
     },
     "execution_count": 29,
     "metadata": {},
     "output_type": "execute_result"
    }
   ],
   "source": [
    "acs[\"State Postal Abbreviation\"].unique()"
   ]
  },
  {
   "cell_type": "code",
   "execution_count": 30,
   "metadata": {
    "id": "ldORR3o0tVm6"
   },
   "outputs": [],
   "source": [
    "df=acs.set_index('FIPS').join(df_result)#.set_index('FIPS'))\n",
    "df = df.sort_values(by=\"FIPS\", ascending=False)\n",
    "df=df.reset_index()"
   ]
  },
  {
   "cell_type": "code",
   "execution_count": 31,
   "metadata": {
    "id": "I_AYOL2cYTYB"
   },
   "outputs": [],
   "source": [
    "#np.issubdtype(df[\"FIPS\"].dtype, np.number)\n",
    "#df[[\"FIPS\"]].applymap(np.isreal)\n",
    "#df[[\"FIPS\"]].applymap(lambda x: isinstance(int(x), (int, float)))"
   ]
  },
  {
   "cell_type": "code",
   "execution_count": 32,
   "metadata": {
    "id": "_Wz3FKs5YACJ"
   },
   "outputs": [],
   "source": [
    "df.drop(0, inplace=True)"
   ]
  },
  {
   "cell_type": "markdown",
   "metadata": {
    "id": "J44G1aWaVjrF"
   },
   "source": [
    "## join with SVI"
   ]
  },
  {
   "cell_type": "code",
   "execution_count": 33,
   "metadata": {},
   "outputs": [],
   "source": [
    "svi.replace([-999], np.nan, inplace=True) # -999 encodes NAN"
   ]
  },
  {
   "cell_type": "code",
   "execution_count": 34,
   "metadata": {},
   "outputs": [],
   "source": [
    "numeric_cols = list(svi.select_dtypes(include=\"number\"))"
   ]
  },
  {
   "cell_type": "code",
   "execution_count": 35,
   "metadata": {},
   "outputs": [],
   "source": [
    "svi_imputed = svi.copy()"
   ]
  },
  {
   "cell_type": "code",
   "execution_count": 36,
   "metadata": {
    "scrolled": true
   },
   "outputs": [],
   "source": [
    "#imp = IterativeImputer(missing_values=-999, max_iter=10, random_state=0)\n",
    "#imp.fit(svi[numeric_cols])\n",
    "#IterativeImputer(random_state=0)\n",
    "#svi_imputed[numeric_cols] = imp.transform(svi[numeric_cols])"
   ]
  },
  {
   "cell_type": "code",
   "execution_count": 37,
   "metadata": {
    "id": "_1R37Kf21gjC"
   },
   "outputs": [],
   "source": [
    "df['FIPS']=df['FIPS'].astype('int64')\n",
    "df_merged=df.set_index('FIPS').join(svi_imputed.set_index('FIPS'))"
   ]
  },
  {
   "cell_type": "code",
   "execution_count": 38,
   "metadata": {
    "id": "dZN1kA2z99NV"
   },
   "outputs": [],
   "source": [
    "df_merged_copy = df_merged.copy()\n",
    "df_merged = df_merged_copy.copy()"
   ]
  },
  {
   "cell_type": "markdown",
   "metadata": {
    "id": "h4K-Rl3ESo8Y"
   },
   "source": [
    "### join with medical facilities"
   ]
  },
  {
   "cell_type": "code",
   "execution_count": 39,
   "metadata": {
    "id": "EOPJ5ahpUxHL"
   },
   "outputs": [],
   "source": [
    "#df_merged['County of current residence']=df_merged['County of current residence'].astype('int64').copy()\n",
    "facilities['FIPS']=facilities['FIPS'].astype('int64').copy()"
   ]
  },
  {
   "cell_type": "code",
   "execution_count": 40,
   "metadata": {
    "id": "R8Zizm9yR4bK"
   },
   "outputs": [],
   "source": [
    "#df_merged.reset_index(inplace=True)"
   ]
  },
  {
   "cell_type": "code",
   "execution_count": 41,
   "metadata": {
    "id": "_YxcmpNoSoZN"
   },
   "outputs": [],
   "source": [
    "df_merged=df_merged.join(facilities.set_index('FIPS'))"
   ]
  },
  {
   "cell_type": "code",
   "execution_count": 42,
   "metadata": {
    "id": "RKRVnhc_TP6S"
   },
   "outputs": [],
   "source": [
    "rename = {'Point Coun': \"Count_Medical_Facilities\"}\n",
    "df_merged.rename(columns=rename, inplace=True)\n",
    "df_merged.reset_index(inplace=True)"
   ]
  },
  {
   "cell_type": "code",
   "execution_count": 43,
   "metadata": {},
   "outputs": [
    {
     "data": {
      "text/plain": [
       "122"
      ]
     },
     "execution_count": 43,
     "metadata": {},
     "output_type": "execute_result"
    }
   ],
   "source": [
    "df_merged[\"Count_Medical_Facilities\"].isna().sum()"
   ]
  },
  {
   "cell_type": "code",
   "execution_count": 44,
   "metadata": {},
   "outputs": [],
   "source": [
    "df_merged[\"Count_Medical_Facilities\"].replace([np.nan], 0, inplace=True)"
   ]
  },
  {
   "cell_type": "code",
   "execution_count": 45,
   "metadata": {
    "id": "FRKMbBK3WvhB"
   },
   "outputs": [],
   "source": [
    "df_merged_copy = df_merged.copy()\n",
    "df_merged = df_merged_copy.copy()"
   ]
  },
  {
   "cell_type": "code",
   "execution_count": 46,
   "metadata": {},
   "outputs": [
    {
     "data": {
      "text/plain": [
       "177766.0"
      ]
     },
     "execution_count": 46,
     "metadata": {},
     "output_type": "execute_result"
    }
   ],
   "source": [
    "df_merged[\"Count_Medical_Facilities\"].sum()"
   ]
  },
  {
   "cell_type": "code",
   "execution_count": 47,
   "metadata": {},
   "outputs": [
    {
     "data": {
      "text/plain": [
       "179003.0"
      ]
     },
     "execution_count": 47,
     "metadata": {},
     "output_type": "execute_result"
    }
   ],
   "source": [
    "facilities[\"Point Coun\"].sum()"
   ]
  },
  {
   "cell_type": "markdown",
   "metadata": {
    "id": "AFWB6_LTyh8P"
   },
   "source": [
    "### join transportation"
   ]
  },
  {
   "cell_type": "code",
   "execution_count": 48,
   "metadata": {
    "id": "aWuFPNu_yhvu"
   },
   "outputs": [],
   "source": [
    "transportation['FIPS']=transportation['FIPS'].astype('int64').copy()"
   ]
  },
  {
   "cell_type": "code",
   "execution_count": 49,
   "metadata": {
    "id": "QetNKF1oyheP"
   },
   "outputs": [],
   "source": [
    "df_merged = df_merged.set_index(\"FIPS\").join(transportation.set_index('FIPS'))\n",
    "rename    = {'Point_Coun': \"Count_Transportation_Stops\"}\n",
    "df_merged.rename(columns=rename, inplace=True)\n",
    "#df_merged.reset_index(inplace=True)"
   ]
  },
  {
   "cell_type": "code",
   "execution_count": 50,
   "metadata": {
    "id": "07MRbXoNPg_e"
   },
   "outputs": [
    {
     "data": {
      "text/plain": [
       "78"
      ]
     },
     "execution_count": 50,
     "metadata": {},
     "output_type": "execute_result"
    }
   ],
   "source": [
    "df_merged[\"Count_Transportation_Stops\"].isna().sum()"
   ]
  },
  {
   "cell_type": "code",
   "execution_count": 51,
   "metadata": {},
   "outputs": [],
   "source": [
    "df_merged[\"Count_Transportation_Stops\"].replace([np.nan], 0, inplace=True)"
   ]
  },
  {
   "cell_type": "markdown",
   "metadata": {
    "id": "2APQTkYLV55o"
   },
   "source": [
    "## Calculate columns"
   ]
  },
  {
   "cell_type": "code",
   "execution_count": 52,
   "metadata": {
    "id": "w9LSyGaMSiF9"
   },
   "outputs": [],
   "source": [
    "df_merged[['Total Population: Under 5 Years',\n",
    "           'Total Population: 5 to 9 Years',\n",
    "           'Total Population: 10 to 14 Years',\n",
    "           'Total Population: 15 to 17 Years',\n",
    "           'Total Population:',\n",
    "          'Population 25 Years and Over: Some College or More',\n",
    "          'Population 25 Years and Over: Doctorate Degree',\n",
    "          'Population 25 Years and Over:',\n",
    "          \"Population 25 Years and Over: High School Graduate or More (Includes Equivalency)\",'Population 25 Years and Over: Less than High School', 'Total Population: 18 to 24 Years','Total Population: 25 to 34 Years','Total Population: 35 to 44 Years','Total Population: 45 to 54 Years','Total Population: 55 to 64 Years','Total Population: 65 to 74 Years','Total Population: 75 to 84 Years','Total Population: 85 Years and Over']]=df_merged[['Total Population: Under 5 Years',\n",
    "                                                                         'Total Population: 5 to 9 Years',\n",
    "                                                                         'Total Population: 10 to 14 Years',\n",
    "                                                                         'Total Population: 15 to 17 Years',\n",
    "                                                                         'Total Population:',\n",
    "                                                                                                           'Population 25 Years and Over: Some College or More',\n",
    "                                                                                                           'Population 25 Years and Over: Doctorate Degree',\n",
    "                                                                                                           'Population 25 Years and Over:',\n",
    "                                                                                                          \"Population 25 Years and Over: High School Graduate or More (Includes Equivalency)\",'Population 25 Years and Over: Less than High School','Total Population: 18 to 24 Years','Total Population: 25 to 34 Years','Total Population: 35 to 44 Years','Total Population: 45 to 54 Years','Total Population: 55 to 64 Years','Total Population: 65 to 74 Years','Total Population: 75 to 84 Years','Total Population: 85 Years and Over']].astype('int64')"
   ]
  },
  {
   "cell_type": "code",
   "execution_count": 53,
   "metadata": {
    "id": "BYxWcKUuQ4o4",
    "scrolled": true
   },
   "outputs": [],
   "source": [
    "df_merged['%Total University'] = ((df_merged['Population 25 Years and Over: Some College or More'] - df_merged['Population 25 Years and Over: Doctorate Degree'])/df_merged['Population 25 Years and Over:'])\n",
    "df_merged['%Total High school'] = ((df_merged[\"Population 25 Years and Over: High School Graduate or More (Includes Equivalency)\"]- df_merged['Population 25 Years and Over: Some College or More'])/df_merged['Population 25 Years and Over:'])\n",
    "df_merged['%Total Less than High School']= (df_merged['Population 25 Years and Over: Less than High School']/df_merged['Population 25 Years and Over:'])\n",
    "df_merged['%Total Child Population'] = ((df_merged[ 'Total Population: Under 5 Years']+ df_merged['Total Population: 5 to 9 Years']+ df_merged['Total Population: 10 to 14 Years']+df_merged['Total Population: 15 to 17 Years'])/df_merged['Total Population:'])\n",
    "df_merged['%Total Adult Population'] = ((df_merged[ 'Total Population: 18 to 24 Years']+ df_merged['Total Population: 25 to 34 Years']+ df_merged['Total Population: 35 to 44 Years']+df_merged['Total Population: 45 to 54 Years']+ df_merged['Total Population: 55 to 64 Years'])/df_merged['Total Population:'])\n",
    "df_merged['%Total Elderly Population'] = ((df_merged['Total Population: 65 to 74 Years']+ df_merged['Total Population: 75 to 84 Years']+ df_merged['Total Population: 85 Years and Over'])/df_merged['Total Population:'])\n",
    "df_merged['%Population with Disability']=(df_merged['E_DISABL']/df_merged['E_TOTPOP'])\n",
    "df_merged['%LIMENG']=(df_merged['E_LIMENG']/df_merged['E_TOTPOP'])\n",
    "df_merged['%NOINT']=(df_merged['E_NOINT']/df_merged['E_TOTPOP'])\n",
    "df_merged['%DAYPOP']=(df_merged['E_DAYPOP']/df_merged['E_TOTPOP'])\n",
    "\n",
    "df_merged['Density_Medical_Facilities_Population']=df_merged['Count_Medical_Facilities']/df_merged['E_TOTPOP']\n",
    "df_merged['Density_Medical_Facilities_Area']=df_merged['Count_Medical_Facilities']/df_merged['AREA_SQMI']\n",
    "df_merged[\"Density_Transportation_Stops_Pop\"]=df_merged['Count_Transportation_Stops']/df_merged['E_TOTPOP']\n",
    "df_merged[\"Density_Transportation_Stops_Area\"]=df_merged['Count_Transportation_Stops']/df_merged['AREA_SQMI']\n",
    "\n",
    "df_merged[\"Stops_per_Facility\"]=df_merged['Count_Transportation_Stops']/df_merged['Count_Medical_Facilities']"
   ]
  },
  {
   "cell_type": "code",
   "execution_count": 54,
   "metadata": {},
   "outputs": [
    {
     "data": {
      "text/html": [
       "<div>\n",
       "<style scoped>\n",
       "    .dataframe tbody tr th:only-of-type {\n",
       "        vertical-align: middle;\n",
       "    }\n",
       "\n",
       "    .dataframe tbody tr th {\n",
       "        vertical-align: top;\n",
       "    }\n",
       "\n",
       "    .dataframe thead th {\n",
       "        text-align: right;\n",
       "    }\n",
       "</style>\n",
       "<table border=\"1\" class=\"dataframe\">\n",
       "  <thead>\n",
       "    <tr style=\"text-align: right;\">\n",
       "      <th></th>\n",
       "      <th>FIPS</th>\n",
       "      <th>Point Coun</th>\n",
       "    </tr>\n",
       "  </thead>\n",
       "  <tbody>\n",
       "    <tr>\n",
       "      <th>0</th>\n",
       "      <td>1001</td>\n",
       "      <td>30.0</td>\n",
       "    </tr>\n",
       "    <tr>\n",
       "      <th>1</th>\n",
       "      <td>1003</td>\n",
       "      <td>139.0</td>\n",
       "    </tr>\n",
       "    <tr>\n",
       "      <th>2</th>\n",
       "      <td>1005</td>\n",
       "      <td>14.0</td>\n",
       "    </tr>\n",
       "    <tr>\n",
       "      <th>3</th>\n",
       "      <td>1007</td>\n",
       "      <td>14.0</td>\n",
       "    </tr>\n",
       "    <tr>\n",
       "      <th>4</th>\n",
       "      <td>1009</td>\n",
       "      <td>32.0</td>\n",
       "    </tr>\n",
       "    <tr>\n",
       "      <th>...</th>\n",
       "      <td>...</td>\n",
       "      <td>...</td>\n",
       "    </tr>\n",
       "    <tr>\n",
       "      <th>3138</th>\n",
       "      <td>56037</td>\n",
       "      <td>20.0</td>\n",
       "    </tr>\n",
       "    <tr>\n",
       "      <th>3139</th>\n",
       "      <td>56039</td>\n",
       "      <td>26.0</td>\n",
       "    </tr>\n",
       "    <tr>\n",
       "      <th>3140</th>\n",
       "      <td>56041</td>\n",
       "      <td>17.0</td>\n",
       "    </tr>\n",
       "    <tr>\n",
       "      <th>3141</th>\n",
       "      <td>56043</td>\n",
       "      <td>7.0</td>\n",
       "    </tr>\n",
       "    <tr>\n",
       "      <th>3142</th>\n",
       "      <td>56045</td>\n",
       "      <td>8.0</td>\n",
       "    </tr>\n",
       "  </tbody>\n",
       "</table>\n",
       "<p>3143 rows × 2 columns</p>\n",
       "</div>"
      ],
      "text/plain": [
       "       FIPS  Point Coun\n",
       "0      1001        30.0\n",
       "1      1003       139.0\n",
       "2      1005        14.0\n",
       "3      1007        14.0\n",
       "4      1009        32.0\n",
       "...     ...         ...\n",
       "3138  56037        20.0\n",
       "3139  56039        26.0\n",
       "3140  56041        17.0\n",
       "3141  56043         7.0\n",
       "3142  56045         8.0\n",
       "\n",
       "[3143 rows x 2 columns]"
      ]
     },
     "execution_count": 54,
     "metadata": {},
     "output_type": "execute_result"
    }
   ],
   "source": [
    "facilities"
   ]
  },
  {
   "cell_type": "code",
   "execution_count": 55,
   "metadata": {
    "id": "TIaM7YtL7ve_"
   },
   "outputs": [
    {
     "data": {
      "text/html": [
       "<div>\n",
       "<style scoped>\n",
       "    .dataframe tbody tr th:only-of-type {\n",
       "        vertical-align: middle;\n",
       "    }\n",
       "\n",
       "    .dataframe tbody tr th {\n",
       "        vertical-align: top;\n",
       "    }\n",
       "\n",
       "    .dataframe thead th {\n",
       "        text-align: right;\n",
       "    }\n",
       "</style>\n",
       "<table border=\"1\" class=\"dataframe\">\n",
       "  <thead>\n",
       "    <tr style=\"text-align: right;\">\n",
       "      <th></th>\n",
       "      <th>0</th>\n",
       "    </tr>\n",
       "  </thead>\n",
       "  <tbody>\n",
       "    <tr>\n",
       "      <th>US</th>\n",
       "      <td>3186</td>\n",
       "    </tr>\n",
       "    <tr>\n",
       "      <th>Census Region</th>\n",
       "      <td>3186</td>\n",
       "    </tr>\n",
       "    <tr>\n",
       "      <th>Census Division</th>\n",
       "      <td>3186</td>\n",
       "    </tr>\n",
       "    <tr>\n",
       "      <th>State (Census Code)</th>\n",
       "      <td>3186</td>\n",
       "    </tr>\n",
       "    <tr>\n",
       "      <th>County Subdivision (FIPS)</th>\n",
       "      <td>3186</td>\n",
       "    </tr>\n",
       "    <tr>\n",
       "      <th>...</th>\n",
       "      <td>...</td>\n",
       "    </tr>\n",
       "    <tr>\n",
       "      <th>F_NOVEH</th>\n",
       "      <td>79</td>\n",
       "    </tr>\n",
       "    <tr>\n",
       "      <th>F_GROUPQ</th>\n",
       "      <td>79</td>\n",
       "    </tr>\n",
       "    <tr>\n",
       "      <th>F_THEME4</th>\n",
       "      <td>79</td>\n",
       "    </tr>\n",
       "    <tr>\n",
       "      <th>F_TOTAL</th>\n",
       "      <td>79</td>\n",
       "    </tr>\n",
       "    <tr>\n",
       "      <th>Stops_per_Facility</th>\n",
       "      <td>133</td>\n",
       "    </tr>\n",
       "  </tbody>\n",
       "</table>\n",
       "<p>66 rows × 1 columns</p>\n",
       "</div>"
      ],
      "text/plain": [
       "                              0\n",
       "US                         3186\n",
       "Census Region              3186\n",
       "Census Division            3186\n",
       "State (Census Code)        3186\n",
       "County Subdivision (FIPS)  3186\n",
       "...                         ...\n",
       "F_NOVEH                      79\n",
       "F_GROUPQ                     79\n",
       "F_THEME4                     79\n",
       "F_TOTAL                      79\n",
       "Stops_per_Facility          133\n",
       "\n",
       "[66 rows x 1 columns]"
      ]
     },
     "execution_count": 55,
     "metadata": {},
     "output_type": "execute_result"
    }
   ],
   "source": [
    "test = pd.DataFrame(df_merged.isna().sum())\n",
    "test[test[0]>78]"
   ]
  },
  {
   "cell_type": "code",
   "execution_count": 56,
   "metadata": {},
   "outputs": [],
   "source": [
    "df_merged[\"Stops_per_Facility\"].replace([np.nan], -np.inf, inplace=True)\n",
    "df_merged[\"Density_Medical_Facilities_Population\"].replace([np.nan], -np.inf, inplace=True)\n",
    "df_merged[\"Density_Medical_Facilities_Area\"].replace([np.nan], -np.inf, inplace=True)\n",
    "df_merged[\"Density_Transportation_Stops_Pop\"].replace([np.nan], np.inf, inplace=True)\n",
    "df_merged[\"Density_Transportation_Stops_Area\"].replace([np.nan], np.inf, inplace=True)"
   ]
  },
  {
   "cell_type": "code",
   "execution_count": 57,
   "metadata": {},
   "outputs": [],
   "source": [
    "targets       = ['MAX_Completeness_pct', 'Weeks2MAX', 'IDX_W2M']\n",
    "spatial       = ['Population Density (Per Sq. Mile)', 'Area (Land)', 'Average Commute to Work (In Min)', 'AREA_SQMI', 'Density_Medical_Facilities_Population', 'Density_Medical_Facilities_Area', 'Density_Transportation_Stops_Pop', 'Density_Transportation_Stops_Area', 'Stops_per_Facility']\n",
    "socioeconomic = [\"Total Population\",\"Total Population:\",\"% Total Population: Male\",\"% Total Population: Female\",\"Total Population:.1\",\"% Total Population: Under 5 Years\",\"% Total Population: 5 to 9 Years\",\"% Total Population: 10 to 14 Years\",\"% Total Population: 15 to 17 Years\",\"% Total Population: 18 to 24 Years\",\"% Total Population: 25 to 34 Years\",\"% Total Population: 35 to 44 Years\",\"% Total Population: 45 to 54 Years\",\"% Total Population: 55 to 64 Years\",\"% Total Population: 65 to 74 Years\",\"% Total Population: 75 to 84 Years\",\"% Total Population: 85 Years and Over\",\"% Total Population: White Alone\",\"% Total Population: Black or African American Alone\",\"% Total Population: American Indian and Alaska Native Alone\",\"% Total Population: Asian Alone\",\"% Total Population: Native Hawaiian and Other Pacific Islander Alone\",\"% Total Population: Some Other Race Alone\",\"% Total Population: Two or More Races\",\"% Population 25 Years and Over: Less than High School\",\"% Population 25 Years and Over: High School Graduate or More (Includes Equivalency)\",\"% Population 25 Years and Over: Some College or More\",\"% Population 25 Years and Over: Bachelor's Degree or More\",\"% Population 25 Years and Over: Master's Degree or More\",\"% Population 25 Years and Over: Professional School Degree or More\",\"% Population 25 Years and Over: Doctorate Degree\",\"% Population 16 Years and Over: in Labor Force\",\"% Population 16 Years and Over: in Labor Force: in Armed Forces\",\"% Population 16 Years and Over: in Labor Force: Civilian\",\"% Population 16 Years and Over: in Labor Force: Civilian: Employed\",\"% Population 16 Years and Over: in Labor Force: Civilian: Unemployed\",\"% Population 16 Years and Over: Not in Labor Force\",\"% Households: Less than $25,000\",\"% Households: $25,000 to $49,999\",\"% Households: $50,000 to $74,999\",\"% Households: $75,000 to $99,999\",\"% Households: $100,000 or More\",\"Median Household Income (In 2021 Inflation Adjusted Dollars)\",\"Gini Index\",\"% Workers 16 Years and Over: Car, Truck, or Van\",\"% Workers 16 Years and Over: Drove Alone\",\"% Workers 16 Years and Over: Carpooled\",\"% Workers 16 Years and Over: Public Transportation (Includes Taxicab)\",\"% Workers 16 Years and Over: Motorcycle\",\"% Workers 16 Years and Over: Bicycle\",\"% Workers 16 Years and Over: Walked\",\"% Workers 16 Years and Over: Other Means\",\"% Workers 16 Years and Over: Worked At Home\",\"% Total: No Health Insurance Coverage\",\"% Total: with Health Insurance Coverage\",\"% Total: with Health Insurance Coverage: Public Health Coverage\",\"% Total: with Health Insurance Coverage: Private Health Insurance\",\"E_TOTPOP\",\"EP_POV150\",\"EP_UNEMP\",\"EP_HBURD\",\"EP_NOHSDP\",\"EP_UNINSUR\",\"EP_AGE65\",\"EP_AGE17\",\"EP_DISABL\",\"EP_SNGPNT\",\"EP_LIMENG\",\"EP_MINRTY\",\"EP_MUNIT\",\"EP_MOBILE\",\"EP_CROWD\",\"EP_NOVEH\",\"EP_GROUPQ\",\"EPL_POV150\",\"EPL_UNEMP\",\"EPL_HBURD\",\"EPL_NOHSDP\",\"EPL_UNINSUR\",\"SPL_THEME1\",\"RPL_THEME1\",\"EPL_AGE65\",\"EPL_AGE17\",\"EPL_DISABL\",\"EPL_SNGPNT\",\"EPL_LIMENG\",\"SPL_THEME2\",\"RPL_THEME2\",\"EPL_MINRTY\",\"SPL_THEME3\",\"RPL_THEME3\",\"EPL_MUNIT\",\"EPL_MOBILE\",\"EPL_CROWD\",\"EPL_NOVEH\",\"EPL_GROUPQ\",\"SPL_THEME4\",\"RPL_THEME4\",\"SPL_THEMES\",\"RPL_THEMES\",\"F_POV150\",\"F_UNEMP\",\"F_HBURD\",\"F_NOHSDP\",\"F_UNINSUR\",\"F_THEME1\",\"F_AGE65\",\"F_AGE17\",\"F_DISABL\",\"F_SNGPNT\",\"F_LIMENG\",\"F_THEME2\",\"F_MINRTY\",\"F_THEME3\",\"F_MUNIT\",\"F_MOBILE\",\"F_CROWD\",\"F_NOVEH\",\"F_GROUPQ\",\"F_THEME4\",\"F_TOTAL\",\"E_DAYPOP\",\"EP_NOINT\",\"EP_AFAM\",\"EP_HISP\",\"EP_ASIAN\",\"EP_AIAN\",\"EP_NHPI\",\"EP_TWOMORE\",\"EP_OTHERRACE\",\"%Total Child Population\",'%Total University','%Total High school','%Total Less than High School','%Total Adult Population','%Total Elderly Population',\"%Population with Disability\",\"%LIMENG\",\"%NOINT\",'%DAYPOP']\n",
    "others        = [\"Qualifying Name\",\"File identification\",\"State Postal Abbreviation\",\"Summary Level\",\"Geographic Component\",\"Logical Record Number\",\"US\",\"Census Region\",\"Census Division\",\"State (Census Code)\",\"State (FIPS Code)\",\"County of current residence\",\"County Subdivision (FIPS)\",\"Place (FIPS Code)\",\"Census Tract\",\"Block Group\",\"Consolidated City\",\"American Indian Area/AlaskaNative Area/ Hawaiian Home Land(Census)\",\"American Indian Area/AlaskaNative Area/ Hawaiian Home Land(FIPS)\",\"American Indian Trust Land/Hawaiian Home Land Indicator\",\"American Indian TribalSubdivision (Census)\",\"American Indian TribalSubdivision (FIPS)\",\"Alaska Native RegionalCorporation (FIPS)\",\"Metropolitan and MicropolitanStatistical Area\",\"Combined Statistical Area\",\"Metropolitan Statistical Area-Metropolitan Division\",\"Metropolitan Area Central City\",\"Metropolitan/MicropolitanIndicator Flag\",\"New England City and Town Area\",\"New England City and TownCombined Statistical Area\",\"New England City and Town AreaDivision\",\"Urban Area\",\"Urban Area Central Place\",\"Current Congressional District ***\",\"State Legislative District Upper\",\"State Legislative District Lower\",\"Voting District\",\"ZIP Code Tabulation Area (3-digit)\",\"5-digit ZIP Code Tabulation Area\",\"Subminor Civil Division (FIPS)\",\"State-School District (Elementary)\",\"State-School District (Secondary)\",\"State-School District (Unified)\",\"Urban/Rural\",\"Principal City Indicator\",\"Traffic Analysis Zone\",\"Urban Growth Area\",\"Public Use Microdata Area â€“ 5%File\",\"Public Use Microdata Area - 1% File\",\"Geographic Identifier\",\"Area Name\",\"Tribal Tract\",\"Tribal Block Group\",\"Place (State FIPS + Place FIPS)\",\"Total Population: Male\",\"Total Population: Female\",\"Total Population: Under 5 Years\",\"Total Population: 5 to 9 Years\",\"Total Population: 10 to 14 Years\",\"Total Population: 15 to 17 Years\",\"Total Population: 18 to 24 Years\",\"Total Population: 25 to 34 Years\",\"Total Population: 35 to 44 Years\",\"Total Population: 45 to 54 Years\",\"Total Population: 55 to 64 Years\",\"Total Population: 65 to 74 Years\",\"Total Population: 75 to 84 Years\",\"Total Population: 85 Years and Over\",\"Total Population:.2\",\"Total Population: White Alone\",\"Total Population: Black or African American Alone\",\"Total Population: American Indian and Alaska Native Alone\",\"Total Population: Asian Alone\",\"Total Population: Native Hawaiian and Other Pacific Islander Alone\",\"Total Population: Some Other Race Alone\",\"Total Population: Two or More Races\",\"Population 25 Years and Over:\",\"Population 25 Years and Over: Less than High School\",\"Population 25 Years and Over: High School Graduate or More (Includes Equivalency)\",\"Population 25 Years and Over: Some College or More\",\"Population 25 Years and Over: Bachelor's Degree or More\",\"Population 25 Years and Over: Master's Degree or More\",\"Population 25 Years and Over: Professional School Degree or More\",\"Population 25 Years and Over: Doctorate Degree\",\"Population 16 Years and Over:\",\"Population 16 Years and Over: in Labor Force\",\"Population 16 Years and Over: in Labor Force: in Armed Forces\",\"Population 16 Years and Over: in Labor Force: Civilian\",\"Population 16 Years and Over: in Labor Force: Civilian: Employed\",\"Population 16 Years and Over: in Labor Force: Civilian: Unemployed\",\"Population 16 Years and Over: Not in Labor Force\",\"Households:\",\"Households: Less than $25,000\",\"Households: $25,000 to $49,999\",\"Households: $50,000 to $74,999\",\"Households: $75,000 to $99,999\",\"Households: $100,000 or More\",\"Workers 16 Years and Over:\",\"Workers 16 Years and Over: Car, Truck, or Van\",\"Workers 16 Years and Over: Drove Alone\",\"Workers 16 Years and Over: Carpooled\",\"Workers 16 Years and Over: Public Transportation (Includes Taxicab)\",\"Workers 16 Years and Over: Motorcycle\",\"Workers 16 Years and Over: Bicycle\",\"Workers 16 Years and Over: Walked\",\"Workers 16 Years and Over: Other Means\",\"Workers 16 Years and Over: Worked At Home\",\"Total:\",\"Total: No Health Insurance Coverage\",\"Total: with Health Insurance Coverage\",\"Total: with Health Insurance Coverage: Public Health Coverage\",\"Total: with Health Insurance Coverage: Private Health Insurance\",\"W\",\"ST\",\"STATE\",\"ST_ABBR\",\"STCNTY\",\"COUNTY\",\"LOCATION\",\"M_TOTPOP\",\"E_HU\",\"M_HU\",\"E_HH\",\"M_HH\",\"E_POV150\",\"M_POV150\",\"E_UNEMP\",\"M_UNEMP\",\"E_HBURD\",\"M_HBURD\",\"E_NOHSDP\",\"M_NOHSDP\",\"E_UNINSUR\",\"M_UNINSUR\",\"E_AGE65\",\"M_AGE65\",\"E_AGE17\",\"M_AGE17\",\"E_DISABL\",\"M_DISABL\",\"E_SNGPNT\",\"M_SNGPNT\",\"E_LIMENG\",\"M_LIMENG\",\"E_MINRTY\",\"M_MINRTY\",\"E_MUNIT\",\"M_MUNIT\",\"E_MOBILE\",\"M_MOBILE\",\"E_CROWD\",\"M_CROWD\",\"E_NOVEH\",\"M_NOVEH\",\"E_GROUPQ\",\"M_GROUPQ\",\"MP_POV150\",\"MP_UNEMP\",\"MP_HBURD\",\"MP_NOHSDP\",\"MP_UNINSUR\",\"MP_AGE65\",\"MP_AGE17\",\"MP_DISABL\",\"MP_SNGPNT\",\"MP_LIMENG\",\"MP_MINRTY\",\"MP_MUNIT\",\"MP_MOBILE\",\"MP_CROWD\",\"MP_NOVEH\",\"MP_GROUPQ\",\"E_NOINT\",\"M_NOINT\",\"E_AFAM\",\"M_AFAM\",\"E_HISP\",\"M_HISP\",\"E_ASIAN\",\"M_ASIAN\",\"E_AIAN\",\"M_AIAN\",\"E_NHPI\",\"M_NHPI\",\"E_TWOMORE\",\"M_TWOMORE\",\"E_OTHERRACE\",\"M_OTHERRACE\",\"MP_NOINT\",\"MP_AFAM\",\"MP_HISP\",\"MP_ASIAN\",\"MP_AIAN\",\"MP_NHPI\",\"MP_TWOMORE\",\"MP_OTHERRACE\",\"Count_Medical_Facilities\",\"Count_Transportation_Stops\"]"
   ]
  },
  {
   "cell_type": "markdown",
   "metadata": {
    "id": "PqqUR2dpV-fq"
   },
   "source": [
    "## Reduce number of columns"
   ]
  },
  {
   "cell_type": "code",
   "execution_count": 58,
   "metadata": {
    "id": "2M8gCuoJOehI"
   },
   "outputs": [],
   "source": [
    "columns_to_keep=  targets + spatial + socioeconomic"
   ]
  },
  {
   "cell_type": "code",
   "execution_count": 59,
   "metadata": {
    "id": "MlkZmpuMUQsu"
   },
   "outputs": [],
   "source": [
    "df_merged=df_merged[columns_to_keep]"
   ]
  },
  {
   "cell_type": "code",
   "execution_count": 60,
   "metadata": {},
   "outputs": [],
   "source": [
    "df_merged.dropna(inplace=True)"
   ]
  },
  {
   "cell_type": "code",
   "execution_count": 61,
   "metadata": {},
   "outputs": [
    {
     "data": {
      "text/html": [
       "<div>\n",
       "<style scoped>\n",
       "    .dataframe tbody tr th:only-of-type {\n",
       "        vertical-align: middle;\n",
       "    }\n",
       "\n",
       "    .dataframe tbody tr th {\n",
       "        vertical-align: top;\n",
       "    }\n",
       "\n",
       "    .dataframe thead th {\n",
       "        text-align: right;\n",
       "    }\n",
       "</style>\n",
       "<table border=\"1\" class=\"dataframe\">\n",
       "  <thead>\n",
       "    <tr style=\"text-align: right;\">\n",
       "      <th></th>\n",
       "      <th>MAX_Completeness_pct</th>\n",
       "      <th>Weeks2MAX</th>\n",
       "      <th>IDX_W2M</th>\n",
       "      <th>Population Density (Per Sq. Mile)</th>\n",
       "      <th>Area (Land)</th>\n",
       "      <th>Average Commute to Work (In Min)</th>\n",
       "      <th>AREA_SQMI</th>\n",
       "      <th>Density_Medical_Facilities_Population</th>\n",
       "      <th>Density_Medical_Facilities_Area</th>\n",
       "      <th>Density_Transportation_Stops_Pop</th>\n",
       "      <th>...</th>\n",
       "      <th>%Total Child Population</th>\n",
       "      <th>%Total University</th>\n",
       "      <th>%Total High school</th>\n",
       "      <th>%Total Less than High School</th>\n",
       "      <th>%Total Adult Population</th>\n",
       "      <th>%Total Elderly Population</th>\n",
       "      <th>%Population with Disability</th>\n",
       "      <th>%LIMENG</th>\n",
       "      <th>%NOINT</th>\n",
       "      <th>%DAYPOP</th>\n",
       "    </tr>\n",
       "    <tr>\n",
       "      <th>FIPS</th>\n",
       "      <th></th>\n",
       "      <th></th>\n",
       "      <th></th>\n",
       "      <th></th>\n",
       "      <th></th>\n",
       "      <th></th>\n",
       "      <th></th>\n",
       "      <th></th>\n",
       "      <th></th>\n",
       "      <th></th>\n",
       "      <th></th>\n",
       "      <th></th>\n",
       "      <th></th>\n",
       "      <th></th>\n",
       "      <th></th>\n",
       "      <th></th>\n",
       "      <th></th>\n",
       "      <th></th>\n",
       "      <th></th>\n",
       "      <th></th>\n",
       "      <th></th>\n",
       "    </tr>\n",
       "  </thead>\n",
       "  <tbody>\n",
       "    <tr>\n",
       "      <th>56045</th>\n",
       "      <td>-0.009041</td>\n",
       "      <td>-1.465010</td>\n",
       "      <td>-1.455969</td>\n",
       "      <td>2.873639</td>\n",
       "      <td>2398.00501932828</td>\n",
       "      <td>27</td>\n",
       "      <td>2398.003892</td>\n",
       "      <td>0.001152</td>\n",
       "      <td>0.003336</td>\n",
       "      <td>0.0</td>\n",
       "      <td>...</td>\n",
       "      <td>0.202003</td>\n",
       "      <td>0.546811</td>\n",
       "      <td>0.373262</td>\n",
       "      <td>0.071137</td>\n",
       "      <td>0.592512</td>\n",
       "      <td>0.205485</td>\n",
       "      <td>0.134976</td>\n",
       "      <td>0.001873</td>\n",
       "      <td>0.150533</td>\n",
       "      <td>0.730913</td>\n",
       "    </tr>\n",
       "    <tr>\n",
       "      <th>56043</th>\n",
       "      <td>-0.009041</td>\n",
       "      <td>-1.465010</td>\n",
       "      <td>-1.455969</td>\n",
       "      <td>3.469903</td>\n",
       "      <td>2238.67936994303</td>\n",
       "      <td>12</td>\n",
       "      <td>2238.678265</td>\n",
       "      <td>0.000882</td>\n",
       "      <td>0.003127</td>\n",
       "      <td>0.0</td>\n",
       "      <td>...</td>\n",
       "      <td>0.227600</td>\n",
       "      <td>0.681173</td>\n",
       "      <td>0.256500</td>\n",
       "      <td>0.059008</td>\n",
       "      <td>0.549691</td>\n",
       "      <td>0.222709</td>\n",
       "      <td>0.133619</td>\n",
       "      <td>0.002017</td>\n",
       "      <td>0.129333</td>\n",
       "      <td>0.918946</td>\n",
       "    </tr>\n",
       "    <tr>\n",
       "      <th>56041</th>\n",
       "      <td>-0.009041</td>\n",
       "      <td>-1.465010</td>\n",
       "      <td>-1.455969</td>\n",
       "      <td>9.854347</td>\n",
       "      <td>2081.72079252877</td>\n",
       "      <td>21</td>\n",
       "      <td>2081.719808</td>\n",
       "      <td>0.000834</td>\n",
       "      <td>0.008166</td>\n",
       "      <td>0.0</td>\n",
       "      <td>...</td>\n",
       "      <td>0.286292</td>\n",
       "      <td>0.565556</td>\n",
       "      <td>0.364241</td>\n",
       "      <td>0.064309</td>\n",
       "      <td>0.566394</td>\n",
       "      <td>0.147314</td>\n",
       "      <td>0.150780</td>\n",
       "      <td>0.011632</td>\n",
       "      <td>0.070089</td>\n",
       "      <td>0.982870</td>\n",
       "    </tr>\n",
       "    <tr>\n",
       "      <th>56039</th>\n",
       "      <td>-0.009041</td>\n",
       "      <td>-1.465010</td>\n",
       "      <td>-1.455969</td>\n",
       "      <td>5.834346</td>\n",
       "      <td>3996.8486649359</td>\n",
       "      <td>16</td>\n",
       "      <td>3996.846846</td>\n",
       "      <td>0.001113</td>\n",
       "      <td>0.006505</td>\n",
       "      <td>0.0</td>\n",
       "      <td>...</td>\n",
       "      <td>0.177966</td>\n",
       "      <td>0.770429</td>\n",
       "      <td>0.168979</td>\n",
       "      <td>0.039696</td>\n",
       "      <td>0.667267</td>\n",
       "      <td>0.154766</td>\n",
       "      <td>0.063067</td>\n",
       "      <td>0.028601</td>\n",
       "      <td>0.099032</td>\n",
       "      <td>1.277274</td>\n",
       "    </tr>\n",
       "    <tr>\n",
       "      <th>56037</th>\n",
       "      <td>-0.009041</td>\n",
       "      <td>-1.465010</td>\n",
       "      <td>-1.455969</td>\n",
       "      <td>4.072032</td>\n",
       "      <td>10426.9801033827</td>\n",
       "      <td>20</td>\n",
       "      <td>10426.975770</td>\n",
       "      <td>0.000461</td>\n",
       "      <td>0.001918</td>\n",
       "      <td>0.0</td>\n",
       "      <td>...</td>\n",
       "      <td>0.257778</td>\n",
       "      <td>0.592896</td>\n",
       "      <td>0.326035</td>\n",
       "      <td>0.072944</td>\n",
       "      <td>0.615276</td>\n",
       "      <td>0.126946</td>\n",
       "      <td>0.130836</td>\n",
       "      <td>0.007405</td>\n",
       "      <td>0.097043</td>\n",
       "      <td>1.040252</td>\n",
       "    </tr>\n",
       "    <tr>\n",
       "      <th>...</th>\n",
       "      <td>...</td>\n",
       "      <td>...</td>\n",
       "      <td>...</td>\n",
       "      <td>...</td>\n",
       "      <td>...</td>\n",
       "      <td>...</td>\n",
       "      <td>...</td>\n",
       "      <td>...</td>\n",
       "      <td>...</td>\n",
       "      <td>...</td>\n",
       "      <td>...</td>\n",
       "      <td>...</td>\n",
       "      <td>...</td>\n",
       "      <td>...</td>\n",
       "      <td>...</td>\n",
       "      <td>...</td>\n",
       "      <td>...</td>\n",
       "      <td>...</td>\n",
       "      <td>...</td>\n",
       "      <td>...</td>\n",
       "      <td>...</td>\n",
       "    </tr>\n",
       "    <tr>\n",
       "      <th>1009</th>\n",
       "      <td>-0.061571</td>\n",
       "      <td>-1.447915</td>\n",
       "      <td>-1.386344</td>\n",
       "      <td>91.3085</td>\n",
       "      <td>644.890660497269</td>\n",
       "      <td>34</td>\n",
       "      <td>644.890375</td>\n",
       "      <td>0.000554</td>\n",
       "      <td>0.049621</td>\n",
       "      <td>0.0</td>\n",
       "      <td>...</td>\n",
       "      <td>0.232372</td>\n",
       "      <td>0.480820</td>\n",
       "      <td>0.351234</td>\n",
       "      <td>0.163519</td>\n",
       "      <td>0.587885</td>\n",
       "      <td>0.179743</td>\n",
       "      <td>0.148282</td>\n",
       "      <td>0.013869</td>\n",
       "      <td>0.155606</td>\n",
       "      <td>0.730188</td>\n",
       "    </tr>\n",
       "    <tr>\n",
       "      <th>1007</th>\n",
       "      <td>-0.061571</td>\n",
       "      <td>-1.447915</td>\n",
       "      <td>-1.386344</td>\n",
       "      <td>36.00497</td>\n",
       "      <td>622.469552754685</td>\n",
       "      <td>30</td>\n",
       "      <td>622.469288</td>\n",
       "      <td>0.000626</td>\n",
       "      <td>0.022491</td>\n",
       "      <td>0.0</td>\n",
       "      <td>...</td>\n",
       "      <td>0.205783</td>\n",
       "      <td>0.361961</td>\n",
       "      <td>0.439185</td>\n",
       "      <td>0.194619</td>\n",
       "      <td>0.633857</td>\n",
       "      <td>0.160361</td>\n",
       "      <td>0.167516</td>\n",
       "      <td>0.003352</td>\n",
       "      <td>0.171583</td>\n",
       "      <td>0.840216</td>\n",
       "    </tr>\n",
       "    <tr>\n",
       "      <th>1005</th>\n",
       "      <td>-0.061571</td>\n",
       "      <td>-1.447915</td>\n",
       "      <td>-1.386344</td>\n",
       "      <td>28.54098</td>\n",
       "      <td>885.008060269005</td>\n",
       "      <td>26</td>\n",
       "      <td>885.007618</td>\n",
       "      <td>0.000559</td>\n",
       "      <td>0.015819</td>\n",
       "      <td>0.0</td>\n",
       "      <td>...</td>\n",
       "      <td>0.208401</td>\n",
       "      <td>0.383773</td>\n",
       "      <td>0.366769</td>\n",
       "      <td>0.243290</td>\n",
       "      <td>0.601528</td>\n",
       "      <td>0.190071</td>\n",
       "      <td>0.166187</td>\n",
       "      <td>0.017302</td>\n",
       "      <td>0.249700</td>\n",
       "      <td>1.084192</td>\n",
       "    </tr>\n",
       "    <tr>\n",
       "      <th>1003</th>\n",
       "      <td>-0.055362</td>\n",
       "      <td>-1.593627</td>\n",
       "      <td>-1.538266</td>\n",
       "      <td>142.8644</td>\n",
       "      <td>1589.83615985866</td>\n",
       "      <td>26</td>\n",
       "      <td>1589.835294</td>\n",
       "      <td>0.000637</td>\n",
       "      <td>0.087430</td>\n",
       "      <td>0.0</td>\n",
       "      <td>...</td>\n",
       "      <td>0.215849</td>\n",
       "      <td>0.622558</td>\n",
       "      <td>0.273755</td>\n",
       "      <td>0.089858</td>\n",
       "      <td>0.578080</td>\n",
       "      <td>0.206071</td>\n",
       "      <td>0.140250</td>\n",
       "      <td>0.007298</td>\n",
       "      <td>0.112021</td>\n",
       "      <td>1.001457</td>\n",
       "    </tr>\n",
       "    <tr>\n",
       "      <th>1001</th>\n",
       "      <td>-0.061571</td>\n",
       "      <td>-1.447915</td>\n",
       "      <td>-1.386344</td>\n",
       "      <td>97.97023</td>\n",
       "      <td>594.456104043725</td>\n",
       "      <td>26</td>\n",
       "      <td>594.455838</td>\n",
       "      <td>0.000539</td>\n",
       "      <td>0.050466</td>\n",
       "      <td>0.0</td>\n",
       "      <td>...</td>\n",
       "      <td>0.236972</td>\n",
       "      <td>0.556546</td>\n",
       "      <td>0.327586</td>\n",
       "      <td>0.104155</td>\n",
       "      <td>0.611669</td>\n",
       "      <td>0.151359</td>\n",
       "      <td>0.173583</td>\n",
       "      <td>0.006524</td>\n",
       "      <td>0.127608</td>\n",
       "      <td>0.751451</td>\n",
       "    </tr>\n",
       "  </tbody>\n",
       "</table>\n",
       "<p>3098 rows × 152 columns</p>\n",
       "</div>"
      ],
      "text/plain": [
       "       MAX_Completeness_pct  Weeks2MAX   IDX_W2M  \\\n",
       "FIPS                                               \n",
       "56045             -0.009041  -1.465010 -1.455969   \n",
       "56043             -0.009041  -1.465010 -1.455969   \n",
       "56041             -0.009041  -1.465010 -1.455969   \n",
       "56039             -0.009041  -1.465010 -1.455969   \n",
       "56037             -0.009041  -1.465010 -1.455969   \n",
       "...                     ...        ...       ...   \n",
       "1009              -0.061571  -1.447915 -1.386344   \n",
       "1007              -0.061571  -1.447915 -1.386344   \n",
       "1005              -0.061571  -1.447915 -1.386344   \n",
       "1003              -0.055362  -1.593627 -1.538266   \n",
       "1001              -0.061571  -1.447915 -1.386344   \n",
       "\n",
       "      Population Density (Per Sq. Mile)       Area (Land)  \\\n",
       "FIPS                                                        \n",
       "56045                          2.873639  2398.00501932828   \n",
       "56043                          3.469903  2238.67936994303   \n",
       "56041                          9.854347  2081.72079252877   \n",
       "56039                          5.834346   3996.8486649359   \n",
       "56037                          4.072032  10426.9801033827   \n",
       "...                                 ...               ...   \n",
       "1009                            91.3085  644.890660497269   \n",
       "1007                           36.00497  622.469552754685   \n",
       "1005                           28.54098  885.008060269005   \n",
       "1003                           142.8644  1589.83615985866   \n",
       "1001                           97.97023  594.456104043725   \n",
       "\n",
       "      Average Commute to Work (In Min)     AREA_SQMI  \\\n",
       "FIPS                                                   \n",
       "56045                               27   2398.003892   \n",
       "56043                               12   2238.678265   \n",
       "56041                               21   2081.719808   \n",
       "56039                               16   3996.846846   \n",
       "56037                               20  10426.975770   \n",
       "...                                ...           ...   \n",
       "1009                                34    644.890375   \n",
       "1007                                30    622.469288   \n",
       "1005                                26    885.007618   \n",
       "1003                                26   1589.835294   \n",
       "1001                                26    594.455838   \n",
       "\n",
       "       Density_Medical_Facilities_Population  Density_Medical_Facilities_Area  \\\n",
       "FIPS                                                                            \n",
       "56045                               0.001152                         0.003336   \n",
       "56043                               0.000882                         0.003127   \n",
       "56041                               0.000834                         0.008166   \n",
       "56039                               0.001113                         0.006505   \n",
       "56037                               0.000461                         0.001918   \n",
       "...                                      ...                              ...   \n",
       "1009                                0.000554                         0.049621   \n",
       "1007                                0.000626                         0.022491   \n",
       "1005                                0.000559                         0.015819   \n",
       "1003                                0.000637                         0.087430   \n",
       "1001                                0.000539                         0.050466   \n",
       "\n",
       "       Density_Transportation_Stops_Pop  ...  %Total Child Population  \\\n",
       "FIPS                                     ...                            \n",
       "56045                               0.0  ...                 0.202003   \n",
       "56043                               0.0  ...                 0.227600   \n",
       "56041                               0.0  ...                 0.286292   \n",
       "56039                               0.0  ...                 0.177966   \n",
       "56037                               0.0  ...                 0.257778   \n",
       "...                                 ...  ...                      ...   \n",
       "1009                                0.0  ...                 0.232372   \n",
       "1007                                0.0  ...                 0.205783   \n",
       "1005                                0.0  ...                 0.208401   \n",
       "1003                                0.0  ...                 0.215849   \n",
       "1001                                0.0  ...                 0.236972   \n",
       "\n",
       "       %Total University %Total High school  %Total Less than High School  \\\n",
       "FIPS                                                                        \n",
       "56045           0.546811           0.373262                      0.071137   \n",
       "56043           0.681173           0.256500                      0.059008   \n",
       "56041           0.565556           0.364241                      0.064309   \n",
       "56039           0.770429           0.168979                      0.039696   \n",
       "56037           0.592896           0.326035                      0.072944   \n",
       "...                  ...                ...                           ...   \n",
       "1009            0.480820           0.351234                      0.163519   \n",
       "1007            0.361961           0.439185                      0.194619   \n",
       "1005            0.383773           0.366769                      0.243290   \n",
       "1003            0.622558           0.273755                      0.089858   \n",
       "1001            0.556546           0.327586                      0.104155   \n",
       "\n",
       "      %Total Adult Population %Total Elderly Population  \\\n",
       "FIPS                                                      \n",
       "56045                0.592512                  0.205485   \n",
       "56043                0.549691                  0.222709   \n",
       "56041                0.566394                  0.147314   \n",
       "56039                0.667267                  0.154766   \n",
       "56037                0.615276                  0.126946   \n",
       "...                       ...                       ...   \n",
       "1009                 0.587885                  0.179743   \n",
       "1007                 0.633857                  0.160361   \n",
       "1005                 0.601528                  0.190071   \n",
       "1003                 0.578080                  0.206071   \n",
       "1001                 0.611669                  0.151359   \n",
       "\n",
       "      %Population with Disability   %LIMENG    %NOINT   %DAYPOP  \n",
       "FIPS                                                             \n",
       "56045                    0.134976  0.001873  0.150533  0.730913  \n",
       "56043                    0.133619  0.002017  0.129333  0.918946  \n",
       "56041                    0.150780  0.011632  0.070089  0.982870  \n",
       "56039                    0.063067  0.028601  0.099032  1.277274  \n",
       "56037                    0.130836  0.007405  0.097043  1.040252  \n",
       "...                           ...       ...       ...       ...  \n",
       "1009                     0.148282  0.013869  0.155606  0.730188  \n",
       "1007                     0.167516  0.003352  0.171583  0.840216  \n",
       "1005                     0.166187  0.017302  0.249700  1.084192  \n",
       "1003                     0.140250  0.007298  0.112021  1.001457  \n",
       "1001                     0.173583  0.006524  0.127608  0.751451  \n",
       "\n",
       "[3098 rows x 152 columns]"
      ]
     },
     "execution_count": 61,
     "metadata": {},
     "output_type": "execute_result"
    }
   ],
   "source": [
    "df_merged"
   ]
  },
  {
   "cell_type": "code",
   "execution_count": 62,
   "metadata": {},
   "outputs": [
    {
     "data": {
      "text/plain": [
       "['MAX_Completeness_pct',\n",
       " 'Weeks2MAX',\n",
       " 'IDX_W2M',\n",
       " 'Population Density (Per Sq. Mile)',\n",
       " 'Area (Land)',\n",
       " 'Average Commute to Work (In Min)',\n",
       " 'AREA_SQMI',\n",
       " 'Density_Medical_Facilities_Population',\n",
       " 'Density_Medical_Facilities_Area',\n",
       " 'Density_Transportation_Stops_Pop',\n",
       " 'Density_Transportation_Stops_Area',\n",
       " 'Stops_per_Facility',\n",
       " 'Total Population',\n",
       " 'Total Population:',\n",
       " '% Total Population: Male',\n",
       " '% Total Population: Female',\n",
       " 'Total Population:.1',\n",
       " '% Total Population: Under 5 Years',\n",
       " '% Total Population: 5 to 9 Years',\n",
       " '% Total Population: 10 to 14 Years',\n",
       " '% Total Population: 15 to 17 Years',\n",
       " '% Total Population: 18 to 24 Years',\n",
       " '% Total Population: 25 to 34 Years',\n",
       " '% Total Population: 35 to 44 Years',\n",
       " '% Total Population: 45 to 54 Years',\n",
       " '% Total Population: 55 to 64 Years',\n",
       " '% Total Population: 65 to 74 Years',\n",
       " '% Total Population: 75 to 84 Years',\n",
       " '% Total Population: 85 Years and Over',\n",
       " '% Total Population: White Alone',\n",
       " '% Total Population: Black or African American Alone',\n",
       " '% Total Population: American Indian and Alaska Native Alone',\n",
       " '% Total Population: Asian Alone',\n",
       " '% Total Population: Native Hawaiian and Other Pacific Islander Alone',\n",
       " '% Total Population: Some Other Race Alone',\n",
       " '% Total Population: Two or More Races',\n",
       " '% Population 25 Years and Over: Less than High School',\n",
       " '% Population 25 Years and Over: High School Graduate or More (Includes Equivalency)',\n",
       " '% Population 25 Years and Over: Some College or More',\n",
       " \"% Population 25 Years and Over: Bachelor's Degree or More\",\n",
       " \"% Population 25 Years and Over: Master's Degree or More\",\n",
       " '% Population 25 Years and Over: Professional School Degree or More',\n",
       " '% Population 25 Years and Over: Doctorate Degree',\n",
       " '% Population 16 Years and Over: in Labor Force',\n",
       " '% Population 16 Years and Over: in Labor Force: in Armed Forces',\n",
       " '% Population 16 Years and Over: in Labor Force: Civilian',\n",
       " '% Population 16 Years and Over: in Labor Force: Civilian: Employed',\n",
       " '% Population 16 Years and Over: in Labor Force: Civilian: Unemployed',\n",
       " '% Population 16 Years and Over: Not in Labor Force',\n",
       " '% Households: Less than $25,000',\n",
       " '% Households: $25,000 to $49,999',\n",
       " '% Households: $50,000 to $74,999',\n",
       " '% Households: $75,000 to $99,999',\n",
       " '% Households: $100,000 or More',\n",
       " 'Median Household Income (In 2021 Inflation Adjusted Dollars)',\n",
       " 'Gini Index',\n",
       " '% Workers 16 Years and Over: Car, Truck, or Van',\n",
       " '% Workers 16 Years and Over: Drove Alone',\n",
       " '% Workers 16 Years and Over: Carpooled',\n",
       " '% Workers 16 Years and Over: Public Transportation (Includes Taxicab)',\n",
       " '% Workers 16 Years and Over: Motorcycle',\n",
       " '% Workers 16 Years and Over: Bicycle',\n",
       " '% Workers 16 Years and Over: Walked',\n",
       " '% Workers 16 Years and Over: Other Means',\n",
       " '% Workers 16 Years and Over: Worked At Home',\n",
       " '% Total: No Health Insurance Coverage',\n",
       " '% Total: with Health Insurance Coverage',\n",
       " '% Total: with Health Insurance Coverage: Public Health Coverage',\n",
       " '% Total: with Health Insurance Coverage: Private Health Insurance',\n",
       " 'E_TOTPOP',\n",
       " 'EP_POV150',\n",
       " 'EP_UNEMP',\n",
       " 'EP_HBURD',\n",
       " 'EP_NOHSDP',\n",
       " 'EP_UNINSUR',\n",
       " 'EP_AGE65',\n",
       " 'EP_AGE17',\n",
       " 'EP_DISABL',\n",
       " 'EP_SNGPNT',\n",
       " 'EP_LIMENG',\n",
       " 'EP_MINRTY',\n",
       " 'EP_MUNIT',\n",
       " 'EP_MOBILE',\n",
       " 'EP_CROWD',\n",
       " 'EP_NOVEH',\n",
       " 'EP_GROUPQ',\n",
       " 'EPL_POV150',\n",
       " 'EPL_UNEMP',\n",
       " 'EPL_HBURD',\n",
       " 'EPL_NOHSDP',\n",
       " 'EPL_UNINSUR',\n",
       " 'SPL_THEME1',\n",
       " 'RPL_THEME1',\n",
       " 'EPL_AGE65',\n",
       " 'EPL_AGE17',\n",
       " 'EPL_DISABL',\n",
       " 'EPL_SNGPNT',\n",
       " 'EPL_LIMENG',\n",
       " 'SPL_THEME2',\n",
       " 'RPL_THEME2',\n",
       " 'EPL_MINRTY',\n",
       " 'SPL_THEME3',\n",
       " 'RPL_THEME3',\n",
       " 'EPL_MUNIT',\n",
       " 'EPL_MOBILE',\n",
       " 'EPL_CROWD',\n",
       " 'EPL_NOVEH',\n",
       " 'EPL_GROUPQ',\n",
       " 'SPL_THEME4',\n",
       " 'RPL_THEME4',\n",
       " 'SPL_THEMES',\n",
       " 'RPL_THEMES',\n",
       " 'F_POV150',\n",
       " 'F_UNEMP',\n",
       " 'F_HBURD',\n",
       " 'F_NOHSDP',\n",
       " 'F_UNINSUR',\n",
       " 'F_THEME1',\n",
       " 'F_AGE65',\n",
       " 'F_AGE17',\n",
       " 'F_DISABL',\n",
       " 'F_SNGPNT',\n",
       " 'F_LIMENG',\n",
       " 'F_THEME2',\n",
       " 'F_MINRTY',\n",
       " 'F_THEME3',\n",
       " 'F_MUNIT',\n",
       " 'F_MOBILE',\n",
       " 'F_CROWD',\n",
       " 'F_NOVEH',\n",
       " 'F_GROUPQ',\n",
       " 'F_THEME4',\n",
       " 'F_TOTAL',\n",
       " 'E_DAYPOP',\n",
       " 'EP_NOINT',\n",
       " 'EP_AFAM',\n",
       " 'EP_HISP',\n",
       " 'EP_ASIAN',\n",
       " 'EP_AIAN',\n",
       " 'EP_NHPI',\n",
       " 'EP_TWOMORE',\n",
       " 'EP_OTHERRACE',\n",
       " '%Total Child Population',\n",
       " '%Total University',\n",
       " '%Total High school',\n",
       " '%Total Less than High School',\n",
       " '%Total Adult Population',\n",
       " '%Total Elderly Population',\n",
       " '%Population with Disability',\n",
       " '%LIMENG',\n",
       " '%NOINT',\n",
       " '%DAYPOP']"
      ]
     },
     "execution_count": 62,
     "metadata": {},
     "output_type": "execute_result"
    }
   ],
   "source": [
    "list(df_merged)"
   ]
  },
  {
   "cell_type": "markdown",
   "metadata": {
    "id": "VubDvYLUWWB3"
   },
   "source": [
    "### Download merged DF"
   ]
  },
  {
   "cell_type": "code",
   "execution_count": 63,
   "metadata": {
    "id": "2hXZPsoXWMmf"
   },
   "outputs": [],
   "source": [
    "df_merged.to_csv('../df_counties.csv')\n",
    "#files.download('df_merged.csv')"
   ]
  }
 ],
 "metadata": {
  "colab": {
   "provenance": [
    {
     "file_id": "11WGYD-oWd7rqYLomrgs9vu9xH1aFO9jp",
     "timestamp": 1675646304252
    }
   ]
  },
  "kernelspec": {
   "display_name": "Python 3 (ipykernel)",
   "language": "python",
   "name": "python3"
  },
  "language_info": {
   "codemirror_mode": {
    "name": "ipython",
    "version": 3
   },
   "file_extension": ".py",
   "mimetype": "text/x-python",
   "name": "python",
   "nbconvert_exporter": "python",
   "pygments_lexer": "ipython3",
   "version": "3.8.13"
  },
  "latex_envs": {
   "LaTeX_envs_menu_present": true,
   "autoclose": false,
   "autocomplete": true,
   "bibliofile": "biblio.bib",
   "cite_by": "apalike",
   "current_citInitial": 1,
   "eqLabelWithNumbers": true,
   "eqNumInitial": 1,
   "hotkeys": {
    "equation": "Ctrl-E",
    "itemize": "Ctrl-I"
   },
   "labels_anchors": false,
   "latex_user_defs": false,
   "report_style_numbering": false,
   "user_envs_cfg": false
  },
  "toc": {
   "base_numbering": 1,
   "nav_menu": {},
   "number_sections": true,
   "sideBar": true,
   "skip_h1_title": false,
   "title_cell": "Table of Contents",
   "title_sidebar": "Contents",
   "toc_cell": false,
   "toc_position": {},
   "toc_section_display": true,
   "toc_window_display": false
  }
 },
 "nbformat": 4,
 "nbformat_minor": 4
}
