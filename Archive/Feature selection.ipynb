{
 "cells": [
  {
   "cell_type": "code",
   "execution_count": null,
   "id": "26f78576",
   "metadata": {},
   "outputs": [],
   "source": [
    "plt.figure(figsize=(20,10))\n",
    "cor = df.corr()\n",
    "mask = np.triu(np.ones_like(df.corr(), dtype=bool))\n",
    "sns.heatmap(cor, annot=True, cmap='BrBG', mask=mask, vmin=-1, vmax=1)#cmap=plt.cm.Reds)\n",
    "plt.show()"
   ]
  },
  {
   "cell_type": "code",
   "execution_count": null,
   "id": "c559a7c5",
   "metadata": {},
   "outputs": [],
   "source": [
    "cor2 = cor.where(mask).round(2)\n",
    "cor2 = cor2.stack().reset_index().rename({0: \"Correlation\"}, axis=1)\n",
    "cor2 = cor2[~(cor2[\"level_0\"]==cor2[\"level_1\"])]\n",
    "cor2[\"Abs. Corr.\"] = abs(cor2[\"Correlation\"])\n",
    "cor2 = cor2.sort_values(\"Abs. Corr.\", ascending=False)\n",
    "\n",
    "display(cor2.head(10))\n",
    "display(cor2.tail(10))"
   ]
  },
  {
   "cell_type": "code",
   "execution_count": null,
   "id": "abd3c204",
   "metadata": {},
   "outputs": [],
   "source": [
    "def VIF(X, threshold = 5):\n",
    "  from statsmodels.stats.outliers_influence import variance_inflation_factor\n",
    "  columns = X.columns.to_list()\n",
    "  vif = pd.DataFrame()\n",
    "  vif[\"VIF Factor\"] = [variance_inflation_factor(X.values, i)\\\n",
    "                       for i in range(len(columns))]\n",
    "  vif[\"features\"] = X.columns\n",
    "\n",
    "  ## Check for infinity VIF\n",
    "  mask = (vif[\"VIF Factor\"] == np.infty)\n",
    "  if mask.any():\n",
    "    to_drop=vif[mask][\"features\"].to_list()\n",
    "    setColumns = set(columns)\n",
    "    setTo_drop = set(to_drop)\n",
    "    columns_new = list(setColumns.difference(setTo_drop))\n",
    "    print(f\"dropping due to infinite VIF:\")\n",
    "    print(\"\\n\".join(setTo_drop))\n",
    "    return VIF(X[columns_new], threshold=threshold)\n",
    "\n",
    "  # Drop feature with highest VIF if exceeding threshold\n",
    "  if vif[\"VIF Factor\"].max() > threshold:\n",
    "    index = vif[\"VIF Factor\"].idxmax()\n",
    "    to_drop = vif.loc[index].to_dict()\n",
    "    print(\"dropping {features} at index {index} with VIF of {VIF Factor:.2f} exceeding threshold of {threshold}\"\\\n",
    "          .format(**to_drop, index=index, threshold=threshold))\n",
    "    columns.remove(to_drop[\"features\"])\n",
    "    return VIF(X[columns], threshold)\n",
    "  \n",
    "  return vif"
   ]
  },
  {
   "cell_type": "code",
   "execution_count": null,
   "id": "f9e344ce",
   "metadata": {},
   "outputs": [],
   "source": [
    "vif = VIF(df_scaled, 10).round(2)\n",
    "vif"
   ]
  }
 ],
 "metadata": {
  "kernelspec": {
   "display_name": "Python 3 (ipykernel)",
   "language": "python",
   "name": "python3"
  },
  "language_info": {
   "codemirror_mode": {
    "name": "ipython",
    "version": 3
   },
   "file_extension": ".py",
   "mimetype": "text/x-python",
   "name": "python",
   "nbconvert_exporter": "python",
   "pygments_lexer": "ipython3",
   "version": "3.8.13"
  },
  "latex_envs": {
   "LaTeX_envs_menu_present": true,
   "autoclose": false,
   "autocomplete": true,
   "bibliofile": "biblio.bib",
   "cite_by": "apalike",
   "current_citInitial": 1,
   "eqLabelWithNumbers": true,
   "eqNumInitial": 1,
   "hotkeys": {
    "equation": "Ctrl-E",
    "itemize": "Ctrl-I"
   },
   "labels_anchors": false,
   "latex_user_defs": false,
   "report_style_numbering": false,
   "user_envs_cfg": false
  },
  "toc": {
   "base_numbering": 1,
   "nav_menu": {},
   "number_sections": true,
   "sideBar": true,
   "skip_h1_title": false,
   "title_cell": "Table of Contents",
   "title_sidebar": "Contents",
   "toc_cell": false,
   "toc_position": {},
   "toc_section_display": true,
   "toc_window_display": false
  }
 },
 "nbformat": 4,
 "nbformat_minor": 5
}
