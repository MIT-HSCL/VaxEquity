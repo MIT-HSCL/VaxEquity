{
 "cells": [
  {
   "cell_type": "markdown",
   "metadata": {
    "id": "HxjY0rOgT8QH"
   },
   "source": [
    "# Prepare Workspace"
   ]
  },
  {
   "cell_type": "markdown",
   "metadata": {
    "id": "Qrqe3HndUC6b"
   },
   "source": [
    "## Install required modules"
   ]
  },
  {
   "cell_type": "code",
   "execution_count": 1,
   "metadata": {
    "colab": {
     "base_uri": "https://localhost:8080/"
    },
    "executionInfo": {
     "elapsed": 8203,
     "status": "ok",
     "timestamp": 1677872289738,
     "user": {
      "displayName": "Matthias Schumm",
      "userId": "14613872717235634427"
     },
     "user_tz": 300
    },
    "id": "JN_FNm-DTh3W",
    "outputId": "2545cab0-1c94-495e-c130-eaa3ddff9662"
   },
   "outputs": [],
   "source": [
    "#!pip install -U -q PyDrive\n",
    "#!pip install geopandas"
   ]
  },
  {
   "cell_type": "markdown",
   "metadata": {
    "id": "T8JAO25dUDoP"
   },
   "source": [
    "## Load required modules"
   ]
  },
  {
   "cell_type": "code",
   "execution_count": 1,
   "metadata": {
    "executionInfo": {
     "elapsed": 2225,
     "status": "ok",
     "timestamp": 1677872291959,
     "user": {
      "displayName": "Matthias Schumm",
      "userId": "14613872717235634427"
     },
     "user_tz": 300
    },
    "id": "6PS1DPXFlzQF"
   },
   "outputs": [
    {
     "name": "stderr",
     "output_type": "stream",
     "text": [
      "/state/partition1/llgrid/pkg/anaconda/anaconda3-2022a/lib/python3.8/site-packages/statsmodels/tsa/base/tsa_model.py:7: FutureWarning: pandas.Int64Index is deprecated and will be removed from pandas in a future version. Use pandas.Index with the appropriate dtype instead.\n",
      "  from pandas import (to_datetime, Int64Index, DatetimeIndex, Period,\n",
      "/state/partition1/llgrid/pkg/anaconda/anaconda3-2022a/lib/python3.8/site-packages/statsmodels/tsa/base/tsa_model.py:7: FutureWarning: pandas.Float64Index is deprecated and will be removed from pandas in a future version. Use pandas.Index with the appropriate dtype instead.\n",
      "  from pandas import (to_datetime, Int64Index, DatetimeIndex, Period,\n"
     ]
    }
   ],
   "source": [
    "import pandas as pd\n",
    "import numpy as np\n",
    "\n",
    "import datetime\n",
    "\n",
    "import matplotlib.pyplot as plt\n",
    "import seaborn as sns\n",
    "#from scipy import stats\n",
    "\n",
    "#from google.colab import data_table\n",
    "#data_table.enable_dataframe_formatter()\n",
    "from sklearn.preprocessing import MinMaxScaler\n",
    "#from sklearn.linear_model import LinearRegression\n",
    "#from scipy.optimize import linprog\n",
    "import statsmodels.api as sm\n",
    "from sklearn.metrics import mean_squared_error, mean_absolute_error, mean_absolute_percentage_error\n",
    "\n",
    "\n",
    "#from pydrive.auth import GoogleAuth\n",
    "#from pydrive.drive import GoogleDrive\n",
    "#from google.colab import auth\n",
    "#from oauth2client.client import GoogleCredentials\n",
    "#from google.colab import files"
   ]
  },
  {
   "cell_type": "code",
   "execution_count": 2,
   "metadata": {},
   "outputs": [],
   "source": [
    "def VIF(X, threshold = 5):\n",
    "  from statsmodels.stats.outliers_influence import variance_inflation_factor\n",
    "  columns = X.columns.to_list()\n",
    "  vif = pd.DataFrame()\n",
    "  vif[\"VIF Factor\"] = [variance_inflation_factor(X.values, i)\\\n",
    "                       for i in range(len(columns))]\n",
    "  vif[\"features\"] = X.columns\n",
    "\n",
    "  ## Check for infinity VIF\n",
    "  mask = (vif[\"VIF Factor\"] == np.infty)\n",
    "  if mask.any():\n",
    "    to_drop=vif[mask][\"features\"].to_list()\n",
    "    setColumns = set(columns)\n",
    "    setTo_drop = set(to_drop)\n",
    "    columns_new = list(setColumns.difference(setTo_drop))\n",
    "    print(f\"dropping due to infinite VIF:\")\n",
    "    print(\"\\n\".join(setTo_drop))\n",
    "    return VIF(X[columns_new], threshold=threshold)\n",
    "\n",
    "  # Drop feature with highest VIF if exceeding threshold\n",
    "  if vif[\"VIF Factor\"].max() > threshold:\n",
    "    index = vif[\"VIF Factor\"].idxmax()\n",
    "    to_drop = vif.loc[index].to_dict()\n",
    "    print(\"dropping {features} at index {index} with VIF of {VIF Factor:.2f} exceeding threshold of {threshold}\"\\\n",
    "          .format(**to_drop, index=index, threshold=threshold))\n",
    "    columns.remove(to_drop[\"features\"])\n",
    "    return VIF(X[columns], threshold)\n",
    "  \n",
    "  return vif"
   ]
  },
  {
   "cell_type": "code",
   "execution_count": 3,
   "metadata": {},
   "outputs": [],
   "source": [
    "targets       = ['MAX_Completeness_pct', 'Weeks2MAX', 'IDX_W2M']\n",
    "spatial       = ['Population Density (Per Sq. Mile)', 'Area (Land)', 'Average Commute to Work (In Min)', 'AREA_SQMI', 'Density_Medical_Facilities_Population', 'Density_Medical_Facilities_Area', 'Density_Transportation_Stops_Pop', 'Density_Transportation_Stops_Area', 'Stops_per_Facility']\n",
    "socioeconomic = [\"Total Population\",\"Total Population:\",\"% Total Population: Male\",\"% Total Population: Female\",\"Total Population:.1\",\"% Total Population: Under 5 Years\",\"% Total Population: 5 to 9 Years\",\"% Total Population: 10 to 14 Years\",\"% Total Population: 15 to 17 Years\",\"% Total Population: 18 to 24 Years\",\"% Total Population: 25 to 34 Years\",\"% Total Population: 35 to 44 Years\",\"% Total Population: 45 to 54 Years\",\"% Total Population: 55 to 64 Years\",\"% Total Population: 65 to 74 Years\",\"% Total Population: 75 to 84 Years\",\"% Total Population: 85 Years and Over\",\"% Total Population: White Alone\",\"% Total Population: Black or African American Alone\",\"% Total Population: American Indian and Alaska Native Alone\",\"% Total Population: Asian Alone\",\"% Total Population: Native Hawaiian and Other Pacific Islander Alone\",\"% Total Population: Some Other Race Alone\",\"% Total Population: Two or More Races\",\"% Population 25 Years and Over: Less than High School\",\"% Population 25 Years and Over: High School Graduate or More (Includes Equivalency)\",\"% Population 25 Years and Over: Some College or More\",\"% Population 25 Years and Over: Bachelor's Degree or More\",\"% Population 25 Years and Over: Master's Degree or More\",\"% Population 25 Years and Over: Professional School Degree or More\",\"% Population 25 Years and Over: Doctorate Degree\",\"% Population 16 Years and Over: in Labor Force\",\"% Population 16 Years and Over: in Labor Force: in Armed Forces\",\"% Population 16 Years and Over: in Labor Force: Civilian\",\"% Population 16 Years and Over: in Labor Force: Civilian: Employed\",\"% Population 16 Years and Over: in Labor Force: Civilian: Unemployed\",\"% Population 16 Years and Over: Not in Labor Force\",\"% Households: Less than $25,000\",\"% Households: $25,000 to $49,999\",\"% Households: $50,000 to $74,999\",\"% Households: $75,000 to $99,999\",\"% Households: $100,000 or More\",\"Median Household Income (In 2021 Inflation Adjusted Dollars)\",\"Gini Index\",\"% Workers 16 Years and Over: Car, Truck, or Van\",\"% Workers 16 Years and Over: Drove Alone\",\"% Workers 16 Years and Over: Carpooled\",\"% Workers 16 Years and Over: Public Transportation (Includes Taxicab)\",\"% Workers 16 Years and Over: Motorcycle\",\"% Workers 16 Years and Over: Bicycle\",\"% Workers 16 Years and Over: Walked\",\"% Workers 16 Years and Over: Other Means\",\"% Workers 16 Years and Over: Worked At Home\",\"% Total: No Health Insurance Coverage\",\"% Total: with Health Insurance Coverage\",\"% Total: with Health Insurance Coverage: Public Health Coverage\",\"% Total: with Health Insurance Coverage: Private Health Insurance\",\"E_TOTPOP\",\"EP_POV150\",\"EP_UNEMP\",\"EP_HBURD\",\"EP_NOHSDP\",\"EP_UNINSUR\",\"EP_AGE65\",\"EP_AGE17\",\"EP_DISABL\",\"EP_SNGPNT\",\"EP_LIMENG\",\"EP_MINRTY\",\"EP_MUNIT\",\"EP_MOBILE\",\"EP_CROWD\",\"EP_NOVEH\",\"EP_GROUPQ\",\"EPL_POV150\",\"EPL_UNEMP\",\"EPL_HBURD\",\"EPL_NOHSDP\",\"EPL_UNINSUR\",\"SPL_THEME1\",\"RPL_THEME1\",\"EPL_AGE65\",\"EPL_AGE17\",\"EPL_DISABL\",\"EPL_SNGPNT\",\"EPL_LIMENG\",\"SPL_THEME2\",\"RPL_THEME2\",\"EPL_MINRTY\",\"SPL_THEME3\",\"RPL_THEME3\",\"EPL_MUNIT\",\"EPL_MOBILE\",\"EPL_CROWD\",\"EPL_NOVEH\",\"EPL_GROUPQ\",\"SPL_THEME4\",\"RPL_THEME4\",\"SPL_THEMES\",\"RPL_THEMES\",\"F_POV150\",\"F_UNEMP\",\"F_HBURD\",\"F_NOHSDP\",\"F_UNINSUR\",\"F_THEME1\",\"F_AGE65\",\"F_AGE17\",\"F_DISABL\",\"F_SNGPNT\",\"F_LIMENG\",\"F_THEME2\",\"F_MINRTY\",\"F_THEME3\",\"F_MUNIT\",\"F_MOBILE\",\"F_CROWD\",\"F_NOVEH\",\"F_GROUPQ\",\"F_THEME4\",\"F_TOTAL\",\"E_DAYPOP\",\"EP_NOINT\",\"EP_AFAM\",\"EP_HISP\",\"EP_ASIAN\",\"EP_AIAN\",\"EP_NHPI\",\"EP_TWOMORE\",\"EP_OTHERRACE\",\"%Total Child Population\",'%Total University','%Total High school','%Total Less than High School','%Total Adult Population','%Total Elderly Population',\"%Population with Disability\",\"%LIMENG\",\"%NOINT\"]\n",
    "others        = [\"Qualifying Name\",\"File identification\",\"State Postal Abbreviation\",\"Summary Level\",\"Geographic Component\",\"Logical Record Number\",\"US\",\"Census Region\",\"Census Division\",\"State (Census Code)\",\"State (FIPS Code)\",\"County of current residence\",\"County Subdivision (FIPS)\",\"Place (FIPS Code)\",\"Census Tract\",\"Block Group\",\"Consolidated City\",\"American Indian Area/AlaskaNative Area/ Hawaiian Home Land(Census)\",\"American Indian Area/AlaskaNative Area/ Hawaiian Home Land(FIPS)\",\"American Indian Trust Land/Hawaiian Home Land Indicator\",\"American Indian TribalSubdivision (Census)\",\"American Indian TribalSubdivision (FIPS)\",\"Alaska Native RegionalCorporation (FIPS)\",\"Metropolitan and MicropolitanStatistical Area\",\"Combined Statistical Area\",\"Metropolitan Statistical Area-Metropolitan Division\",\"Metropolitan Area Central City\",\"Metropolitan/MicropolitanIndicator Flag\",\"New England City and Town Area\",\"New England City and TownCombined Statistical Area\",\"New England City and Town AreaDivision\",\"Urban Area\",\"Urban Area Central Place\",\"Current Congressional District ***\",\"State Legislative District Upper\",\"State Legislative District Lower\",\"Voting District\",\"ZIP Code Tabulation Area (3-digit)\",\"5-digit ZIP Code Tabulation Area\",\"Subminor Civil Division (FIPS)\",\"State-School District (Elementary)\",\"State-School District (Secondary)\",\"State-School District (Unified)\",\"Urban/Rural\",\"Principal City Indicator\",\"Traffic Analysis Zone\",\"Urban Growth Area\",\"Public Use Microdata Area â€“ 5%File\",\"Public Use Microdata Area - 1% File\",\"Geographic Identifier\",\"Area Name\",\"Tribal Tract\",\"Tribal Block Group\",\"Place (State FIPS + Place FIPS)\",\"Total Population: Male\",\"Total Population: Female\",\"Total Population: Under 5 Years\",\"Total Population: 5 to 9 Years\",\"Total Population: 10 to 14 Years\",\"Total Population: 15 to 17 Years\",\"Total Population: 18 to 24 Years\",\"Total Population: 25 to 34 Years\",\"Total Population: 35 to 44 Years\",\"Total Population: 45 to 54 Years\",\"Total Population: 55 to 64 Years\",\"Total Population: 65 to 74 Years\",\"Total Population: 75 to 84 Years\",\"Total Population: 85 Years and Over\",\"Total Population:.2\",\"Total Population: White Alone\",\"Total Population: Black or African American Alone\",\"Total Population: American Indian and Alaska Native Alone\",\"Total Population: Asian Alone\",\"Total Population: Native Hawaiian and Other Pacific Islander Alone\",\"Total Population: Some Other Race Alone\",\"Total Population: Two or More Races\",\"Population 25 Years and Over:\",\"Population 25 Years and Over: Less than High School\",\"Population 25 Years and Over: High School Graduate or More (Includes Equivalency)\",\"Population 25 Years and Over: Some College or More\",\"Population 25 Years and Over: Bachelor's Degree or More\",\"Population 25 Years and Over: Master's Degree or More\",\"Population 25 Years and Over: Professional School Degree or More\",\"Population 25 Years and Over: Doctorate Degree\",\"Population 16 Years and Over:\",\"Population 16 Years and Over: in Labor Force\",\"Population 16 Years and Over: in Labor Force: in Armed Forces\",\"Population 16 Years and Over: in Labor Force: Civilian\",\"Population 16 Years and Over: in Labor Force: Civilian: Employed\",\"Population 16 Years and Over: in Labor Force: Civilian: Unemployed\",\"Population 16 Years and Over: Not in Labor Force\",\"Households:\",\"Households: Less than $25,000\",\"Households: $25,000 to $49,999\",\"Households: $50,000 to $74,999\",\"Households: $75,000 to $99,999\",\"Households: $100,000 or More\",\"Workers 16 Years and Over:\",\"Workers 16 Years and Over: Car, Truck, or Van\",\"Workers 16 Years and Over: Drove Alone\",\"Workers 16 Years and Over: Carpooled\",\"Workers 16 Years and Over: Public Transportation (Includes Taxicab)\",\"Workers 16 Years and Over: Motorcycle\",\"Workers 16 Years and Over: Bicycle\",\"Workers 16 Years and Over: Walked\",\"Workers 16 Years and Over: Other Means\",\"Workers 16 Years and Over: Worked At Home\",\"Total:\",\"Total: No Health Insurance Coverage\",\"Total: with Health Insurance Coverage\",\"Total: with Health Insurance Coverage: Public Health Coverage\",\"Total: with Health Insurance Coverage: Private Health Insurance\",\"W\",\"ST\",\"STATE\",\"ST_ABBR\",\"STCNTY\",\"COUNTY\",\"LOCATION\",\"M_TOTPOP\",\"E_HU\",\"M_HU\",\"E_HH\",\"M_HH\",\"E_POV150\",\"M_POV150\",\"E_UNEMP\",\"M_UNEMP\",\"E_HBURD\",\"M_HBURD\",\"E_NOHSDP\",\"M_NOHSDP\",\"E_UNINSUR\",\"M_UNINSUR\",\"E_AGE65\",\"M_AGE65\",\"E_AGE17\",\"M_AGE17\",\"E_DISABL\",\"M_DISABL\",\"E_SNGPNT\",\"M_SNGPNT\",\"E_LIMENG\",\"M_LIMENG\",\"E_MINRTY\",\"M_MINRTY\",\"E_MUNIT\",\"M_MUNIT\",\"E_MOBILE\",\"M_MOBILE\",\"E_CROWD\",\"M_CROWD\",\"E_NOVEH\",\"M_NOVEH\",\"E_GROUPQ\",\"M_GROUPQ\",\"MP_POV150\",\"MP_UNEMP\",\"MP_HBURD\",\"MP_NOHSDP\",\"MP_UNINSUR\",\"MP_AGE65\",\"MP_AGE17\",\"MP_DISABL\",\"MP_SNGPNT\",\"MP_LIMENG\",\"MP_MINRTY\",\"MP_MUNIT\",\"MP_MOBILE\",\"MP_CROWD\",\"MP_NOVEH\",\"MP_GROUPQ\",\"E_NOINT\",\"M_NOINT\",\"E_AFAM\",\"M_AFAM\",\"E_HISP\",\"M_HISP\",\"E_ASIAN\",\"M_ASIAN\",\"E_AIAN\",\"M_AIAN\",\"E_NHPI\",\"M_NHPI\",\"E_TWOMORE\",\"M_TWOMORE\",\"E_OTHERRACE\",\"M_OTHERRACE\",\"MP_NOINT\",\"MP_AFAM\",\"MP_HISP\",\"MP_ASIAN\",\"MP_AIAN\",\"MP_NHPI\",\"MP_TWOMORE\",\"MP_OTHERRACE\",\"Count_Medical_Facilities\",\"Count_Transportation_Stops\"]"
   ]
  },
  {
   "cell_type": "markdown",
   "metadata": {
    "id": "PqqUR2dpV-fq"
   },
   "source": [
    "## Reduce number of columns"
   ]
  },
  {
   "cell_type": "code",
   "execution_count": 4,
   "metadata": {
    "colab": {
     "base_uri": "https://localhost:8080/",
     "height": 17
    },
    "executionInfo": {
     "elapsed": 430,
     "status": "ok",
     "timestamp": 1677872199662,
     "user": {
      "displayName": "Matthias Schumm",
      "userId": "14613872717235634427"
     },
     "user_tz": 300
    },
    "id": "RTmoXIInn7N5",
    "outputId": "994f009c-501b-43f4-e3a1-72be1dc725a7"
   },
   "outputs": [],
   "source": [
    "df_scaled=pd.read_csv('df_counties.csv')\n",
    "#files.download('df_scaled.csv')"
   ]
  },
  {
   "cell_type": "code",
   "execution_count": 7,
   "metadata": {},
   "outputs": [
    {
     "name": "stderr",
     "output_type": "stream",
     "text": [
      "/state/partition1/llgrid/pkg/anaconda/anaconda3-2022a/lib/python3.8/site-packages/statsmodels/tsa/tsatools.py:142: FutureWarning: In a future version of pandas all arguments of concat except for the argument 'objs' will be keyword-only.\n",
      "  x = pd.concat(x[::order], 1)\n"
     ]
    },
    {
     "name": "stdout",
     "output_type": "stream",
     "text": [
      "\n",
      "Intel MKL ERROR: Parameter 4 was incorrect on entry to DLASCL.\n",
      "\n",
      "Intel MKL ERROR: Parameter 5 was incorrect on entry to DLASCL.\n",
      "\n",
      "Intel MKL ERROR: Parameter 4 was incorrect on entry to DLASCL.\n",
      "\n",
      "Intel MKL ERROR: Parameter 5 was incorrect on entry to DLASCL.\n",
      "\n",
      "Intel MKL ERROR: Parameter 4 was incorrect on entry to DLASCL.\n",
      "\n",
      "Intel MKL ERROR: Parameter 4 was incorrect on entry to DLASCL.\n"
     ]
    },
    {
     "ename": "LinAlgError",
     "evalue": "SVD did not converge",
     "output_type": "error",
     "traceback": [
      "\u001b[0;31m---------------------------------------------------------------------------\u001b[0m",
      "\u001b[0;31mLinAlgError\u001b[0m                               Traceback (most recent call last)",
      "Input \u001b[0;32mIn [7]\u001b[0m, in \u001b[0;36m<cell line: 4>\u001b[0;34m()\u001b[0m\n\u001b[1;32m      2\u001b[0m y \u001b[38;5;241m=\u001b[39m df_scaled[\u001b[38;5;124m'\u001b[39m\u001b[38;5;124mIDX_W2M\u001b[39m\u001b[38;5;124m'\u001b[39m]\n\u001b[1;32m      3\u001b[0m x\u001b[38;5;241m=\u001b[39m sm\u001b[38;5;241m.\u001b[39madd_constant(X)\n\u001b[0;32m----> 4\u001b[0m slr \u001b[38;5;241m=\u001b[39m \u001b[43msm\u001b[49m\u001b[38;5;241;43m.\u001b[39;49m\u001b[43mOLS\u001b[49m\u001b[43m(\u001b[49m\u001b[43my\u001b[49m\u001b[43m,\u001b[49m\u001b[43mX\u001b[49m\u001b[43m)\u001b[49m\u001b[38;5;241;43m.\u001b[39;49m\u001b[43mfit\u001b[49m\u001b[43m(\u001b[49m\u001b[43m)\u001b[49m\n\u001b[1;32m      5\u001b[0m slr_summary\u001b[38;5;241m=\u001b[39mslr\u001b[38;5;241m.\u001b[39msummary()\n\u001b[1;32m      6\u001b[0m \u001b[38;5;28mprint\u001b[39m(slr\u001b[38;5;241m.\u001b[39msummary())\n",
      "File \u001b[0;32m/state/partition1/llgrid/pkg/anaconda/anaconda3-2022a/lib/python3.8/site-packages/statsmodels/regression/linear_model.py:305\u001b[0m, in \u001b[0;36mRegressionModel.fit\u001b[0;34m(self, method, cov_type, cov_kwds, use_t, **kwargs)\u001b[0m\n\u001b[1;32m    300\u001b[0m \u001b[38;5;28;01mif\u001b[39;00m method \u001b[38;5;241m==\u001b[39m \u001b[38;5;124m\"\u001b[39m\u001b[38;5;124mpinv\u001b[39m\u001b[38;5;124m\"\u001b[39m:\n\u001b[1;32m    301\u001b[0m     \u001b[38;5;28;01mif\u001b[39;00m \u001b[38;5;129;01mnot\u001b[39;00m (\u001b[38;5;28mhasattr\u001b[39m(\u001b[38;5;28mself\u001b[39m, \u001b[38;5;124m'\u001b[39m\u001b[38;5;124mpinv_wexog\u001b[39m\u001b[38;5;124m'\u001b[39m) \u001b[38;5;129;01mand\u001b[39;00m\n\u001b[1;32m    302\u001b[0m             \u001b[38;5;28mhasattr\u001b[39m(\u001b[38;5;28mself\u001b[39m, \u001b[38;5;124m'\u001b[39m\u001b[38;5;124mnormalized_cov_params\u001b[39m\u001b[38;5;124m'\u001b[39m) \u001b[38;5;129;01mand\u001b[39;00m\n\u001b[1;32m    303\u001b[0m             \u001b[38;5;28mhasattr\u001b[39m(\u001b[38;5;28mself\u001b[39m, \u001b[38;5;124m'\u001b[39m\u001b[38;5;124mrank\u001b[39m\u001b[38;5;124m'\u001b[39m)):\n\u001b[0;32m--> 305\u001b[0m         \u001b[38;5;28mself\u001b[39m\u001b[38;5;241m.\u001b[39mpinv_wexog, singular_values \u001b[38;5;241m=\u001b[39m \u001b[43mpinv_extended\u001b[49m\u001b[43m(\u001b[49m\u001b[38;5;28;43mself\u001b[39;49m\u001b[38;5;241;43m.\u001b[39;49m\u001b[43mwexog\u001b[49m\u001b[43m)\u001b[49m\n\u001b[1;32m    306\u001b[0m         \u001b[38;5;28mself\u001b[39m\u001b[38;5;241m.\u001b[39mnormalized_cov_params \u001b[38;5;241m=\u001b[39m np\u001b[38;5;241m.\u001b[39mdot(\n\u001b[1;32m    307\u001b[0m             \u001b[38;5;28mself\u001b[39m\u001b[38;5;241m.\u001b[39mpinv_wexog, np\u001b[38;5;241m.\u001b[39mtranspose(\u001b[38;5;28mself\u001b[39m\u001b[38;5;241m.\u001b[39mpinv_wexog))\n\u001b[1;32m    309\u001b[0m         \u001b[38;5;66;03m# Cache these singular values for use later.\u001b[39;00m\n",
      "File \u001b[0;32m/state/partition1/llgrid/pkg/anaconda/anaconda3-2022a/lib/python3.8/site-packages/statsmodels/tools/tools.py:407\u001b[0m, in \u001b[0;36mpinv_extended\u001b[0;34m(x, rcond)\u001b[0m\n\u001b[1;32m    405\u001b[0m x \u001b[38;5;241m=\u001b[39m np\u001b[38;5;241m.\u001b[39masarray(x)\n\u001b[1;32m    406\u001b[0m x \u001b[38;5;241m=\u001b[39m x\u001b[38;5;241m.\u001b[39mconjugate()\n\u001b[0;32m--> 407\u001b[0m u, s, vt \u001b[38;5;241m=\u001b[39m \u001b[43mnp\u001b[49m\u001b[38;5;241;43m.\u001b[39;49m\u001b[43mlinalg\u001b[49m\u001b[38;5;241;43m.\u001b[39;49m\u001b[43msvd\u001b[49m\u001b[43m(\u001b[49m\u001b[43mx\u001b[49m\u001b[43m,\u001b[49m\u001b[43m \u001b[49m\u001b[38;5;28;43;01mFalse\u001b[39;49;00m\u001b[43m)\u001b[49m\n\u001b[1;32m    408\u001b[0m s_orig \u001b[38;5;241m=\u001b[39m np\u001b[38;5;241m.\u001b[39mcopy(s)\n\u001b[1;32m    409\u001b[0m m \u001b[38;5;241m=\u001b[39m u\u001b[38;5;241m.\u001b[39mshape[\u001b[38;5;241m0\u001b[39m]\n",
      "File \u001b[0;32m<__array_function__ internals>:5\u001b[0m, in \u001b[0;36msvd\u001b[0;34m(*args, **kwargs)\u001b[0m\n",
      "File \u001b[0;32m/state/partition1/llgrid/pkg/anaconda/anaconda3-2022a/lib/python3.8/site-packages/numpy/linalg/linalg.py:1660\u001b[0m, in \u001b[0;36msvd\u001b[0;34m(a, full_matrices, compute_uv, hermitian)\u001b[0m\n\u001b[1;32m   1657\u001b[0m         gufunc \u001b[38;5;241m=\u001b[39m _umath_linalg\u001b[38;5;241m.\u001b[39msvd_n_s\n\u001b[1;32m   1659\u001b[0m signature \u001b[38;5;241m=\u001b[39m \u001b[38;5;124m'\u001b[39m\u001b[38;5;124mD->DdD\u001b[39m\u001b[38;5;124m'\u001b[39m \u001b[38;5;28;01mif\u001b[39;00m isComplexType(t) \u001b[38;5;28;01melse\u001b[39;00m \u001b[38;5;124m'\u001b[39m\u001b[38;5;124md->ddd\u001b[39m\u001b[38;5;124m'\u001b[39m\n\u001b[0;32m-> 1660\u001b[0m u, s, vh \u001b[38;5;241m=\u001b[39m \u001b[43mgufunc\u001b[49m\u001b[43m(\u001b[49m\u001b[43ma\u001b[49m\u001b[43m,\u001b[49m\u001b[43m \u001b[49m\u001b[43msignature\u001b[49m\u001b[38;5;241;43m=\u001b[39;49m\u001b[43msignature\u001b[49m\u001b[43m,\u001b[49m\u001b[43m \u001b[49m\u001b[43mextobj\u001b[49m\u001b[38;5;241;43m=\u001b[39;49m\u001b[43mextobj\u001b[49m\u001b[43m)\u001b[49m\n\u001b[1;32m   1661\u001b[0m u \u001b[38;5;241m=\u001b[39m u\u001b[38;5;241m.\u001b[39mastype(result_t, copy\u001b[38;5;241m=\u001b[39m\u001b[38;5;28;01mFalse\u001b[39;00m)\n\u001b[1;32m   1662\u001b[0m s \u001b[38;5;241m=\u001b[39m s\u001b[38;5;241m.\u001b[39mastype(_realType(result_t), copy\u001b[38;5;241m=\u001b[39m\u001b[38;5;28;01mFalse\u001b[39;00m)\n",
      "File \u001b[0;32m/state/partition1/llgrid/pkg/anaconda/anaconda3-2022a/lib/python3.8/site-packages/numpy/linalg/linalg.py:97\u001b[0m, in \u001b[0;36m_raise_linalgerror_svd_nonconvergence\u001b[0;34m(err, flag)\u001b[0m\n\u001b[1;32m     96\u001b[0m \u001b[38;5;28;01mdef\u001b[39;00m \u001b[38;5;21m_raise_linalgerror_svd_nonconvergence\u001b[39m(err, flag):\n\u001b[0;32m---> 97\u001b[0m     \u001b[38;5;28;01mraise\u001b[39;00m LinAlgError(\u001b[38;5;124m\"\u001b[39m\u001b[38;5;124mSVD did not converge\u001b[39m\u001b[38;5;124m\"\u001b[39m)\n",
      "\u001b[0;31mLinAlgError\u001b[0m: SVD did not converge"
     ]
    }
   ],
   "source": [
    "X= df_scaled[socioeconomic+spatial]\n",
    "y = df_scaled['IDX_W2M']\n",
    "x= sm.add_constant(X)\n",
    "slr = sm.OLS(y,X).fit()\n",
    "slr_summary=slr.summary()\n",
    "print(slr.summary())"
   ]
  },
  {
   "cell_type": "code",
   "execution_count": null,
   "metadata": {},
   "outputs": [],
   "source": [
    "vif = VIF(df_scaled[socioeconomic], 10).round(2)\n",
    "vif"
   ]
  },
  {
   "cell_type": "code",
   "execution_count": null,
   "metadata": {},
   "outputs": [],
   "source": [
    "reduced_features=list(vif['features'])\n",
    "reduced_features"
   ]
  },
  {
   "cell_type": "code",
   "execution_count": null,
   "metadata": {},
   "outputs": [],
   "source": [
    "vif.to_excel('vif.xlsx')"
   ]
  },
  {
   "cell_type": "markdown",
   "metadata": {
    "id": "mXlnKvQ04RTX"
   },
   "source": [
    "### Feature engineering"
   ]
  },
  {
   "cell_type": "code",
   "execution_count": null,
   "metadata": {
    "id": "AG4uQt7n4cZq"
   },
   "outputs": [],
   "source": [
    "df = df_scaled[targets].copy()"
   ]
  },
  {
   "cell_type": "code",
   "execution_count": null,
   "metadata": {
    "colab": {
     "base_uri": "https://localhost:8080/"
    },
    "executionInfo": {
     "elapsed": 1211,
     "status": "ok",
     "timestamp": 1677795100763,
     "user": {
      "displayName": "Matthias Schumm",
      "userId": "14613872717235634427"
     },
     "user_tz": 300
    },
    "id": "_dyLSReH5Qx-",
    "outputId": "fd95a438-3884-4175-df73-ea5f0db2e2d0"
   },
   "outputs": [],
   "source": [
    "features=[]\n",
    "for s in spatial:\n",
    "  for p in reduced_features:\n",
    "    df[s + \"*\" + p]= df_scaled[s]*df_scaled[p]\n",
    "    features.append(s + \"*\" + p)"
   ]
  },
  {
   "cell_type": "code",
   "execution_count": null,
   "metadata": {},
   "outputs": [],
   "source": [
    "df.to_csv('df_engin.csv')"
   ]
  },
  {
   "cell_type": "code",
   "execution_count": null,
   "metadata": {},
   "outputs": [],
   "source": [
    "len(features)"
   ]
  },
  {
   "cell_type": "code",
   "execution_count": null,
   "metadata": {
    "scrolled": true
   },
   "outputs": [],
   "source": [
    "X= df[features]\n",
    "y = df['IDX_W2M']\n",
    "x= sm.add_constant(X)\n",
    "slr = sm.OLS(y,X).fit()\n",
    "slr_summary=slr.summary()\n",
    "print(slr.summary())"
   ]
  },
  {
   "cell_type": "code",
   "execution_count": null,
   "metadata": {},
   "outputs": [],
   "source": [
    "pred=slr.predict(X)\n",
    "mse = mean_squared_error(df['IDX_W2M'], pred)\n",
    "rmse = mean_squared_error(df['IDX_W2M'], pred, squared=False)\n",
    "mape = mean_absolute_percentage_error(df['IDX_W2M'], pred)\n",
    "table = pd.DataFrame({'MSE':[mse], 'RMSE':[rmse], 'MAPE':[mape]})\n",
    "table"
   ]
  },
  {
   "cell_type": "code",
   "execution_count": null,
   "metadata": {},
   "outputs": [],
   "source": [
    "slr_as_html = slr_summary.tables[1].as_html()\n",
    "\n",
    "stat=pd.read_html(slr_as_html, header=0, index_col=0)[0]\n",
    "\n",
    "stat"
   ]
  },
  {
   "cell_type": "code",
   "execution_count": null,
   "metadata": {},
   "outputs": [],
   "source": [
    "list(stat.columns)"
   ]
  },
  {
   "cell_type": "code",
   "execution_count": null,
   "metadata": {},
   "outputs": [],
   "source": [
    "stat.loc[stat['P>|t|'] <= 0.01]"
   ]
  },
  {
   "cell_type": "code",
   "execution_count": null,
   "metadata": {},
   "outputs": [],
   "source": [
    "stat"
   ]
  },
  {
   "cell_type": "code",
   "execution_count": null,
   "metadata": {},
   "outputs": [],
   "source": [
    "significant_features=list(stat.index)"
   ]
  },
  {
   "cell_type": "code",
   "execution_count": null,
   "metadata": {
    "scrolled": true
   },
   "outputs": [],
   "source": [
    "len(stat)"
   ]
  },
  {
   "cell_type": "code",
   "execution_count": null,
   "metadata": {},
   "outputs": [],
   "source": [
    "X= df[significant_features]\n",
    "y = df['IDX_W2M']\n",
    "x= sm.add_constant(X)\n",
    "slr = sm.OLS(y,X).fit()\n",
    "slr_summary=slr.summary()\n",
    "print(slr.summary())"
   ]
  },
  {
   "cell_type": "markdown",
   "metadata": {},
   "source": [
    "### Model without density variables"
   ]
  },
  {
   "cell_type": "code",
   "execution_count": null,
   "metadata": {},
   "outputs": [],
   "source": [
    "spatial       = [#'Population Density (Per Sq. Mile)',#'Area (Land)',\n",
    "    'Average Commute to Work (In Min)',# 'AREA_SQMI',\n",
    "                 'Density_Medical_Facilities_Population',\n",
    "                 'Density_Medical_Facilities_Area'\n",
    "                 #'Density_Transportation_Stops_Pop',\n",
    "                 #'Density_Transportation_Stops_Area'\n",
    "                 #'Stops_per_Facility'\n",
    "                ]"
   ]
  },
  {
   "cell_type": "code",
   "execution_count": null,
   "metadata": {},
   "outputs": [],
   "source": [
    "features=[]\n",
    "for s in spatial:\n",
    "  for p in reduced_features:\n",
    "    #df[s + \"*\" + p]= df_scaled[s]*df_scaled[p]\n",
    "    features.append(s + \"*\" + p)"
   ]
  },
  {
   "cell_type": "code",
   "execution_count": null,
   "metadata": {},
   "outputs": [],
   "source": [
    "X= df[features]\n",
    "y = df['IDX_W2M']\n",
    "x= sm.add_constant(X)\n",
    "slr = sm.OLS(y,X).fit()\n",
    "slr_summary=slr.summary()\n",
    "print(slr.summary())"
   ]
  },
  {
   "cell_type": "code",
   "execution_count": null,
   "metadata": {},
   "outputs": [],
   "source": [
    "pred=slr.predict(X)"
   ]
  },
  {
   "cell_type": "code",
   "execution_count": null,
   "metadata": {},
   "outputs": [],
   "source": [
    "mse = mean_squared_error(df['IDX_W2M'], pred)\n",
    "rmse = mean_squared_error(df['IDX_W2M'], pred, squared=False)\n",
    "mape = mean_absolute_percentage_error(df['IDX_W2M'], pred)\n",
    "table = pd.DataFrame({'MSE':[mse], 'RMSE':[rmse], 'MAPE':[mape]})\n",
    "table"
   ]
  },
  {
   "cell_type": "code",
   "execution_count": null,
   "metadata": {},
   "outputs": [],
   "source": []
  }
 ],
 "metadata": {
  "colab": {
   "provenance": [
    {
     "file_id": "11WGYD-oWd7rqYLomrgs9vu9xH1aFO9jp",
     "timestamp": 1675646304252
    }
   ]
  },
  "kernelspec": {
   "display_name": "Python 3 (ipykernel)",
   "language": "python",
   "name": "python3"
  },
  "language_info": {
   "codemirror_mode": {
    "name": "ipython",
    "version": 3
   },
   "file_extension": ".py",
   "mimetype": "text/x-python",
   "name": "python",
   "nbconvert_exporter": "python",
   "pygments_lexer": "ipython3",
   "version": "3.8.13"
  },
  "latex_envs": {
   "LaTeX_envs_menu_present": true,
   "autoclose": false,
   "autocomplete": true,
   "bibliofile": "biblio.bib",
   "cite_by": "apalike",
   "current_citInitial": 1,
   "eqLabelWithNumbers": true,
   "eqNumInitial": 1,
   "hotkeys": {
    "equation": "Ctrl-E",
    "itemize": "Ctrl-I"
   },
   "labels_anchors": false,
   "latex_user_defs": false,
   "report_style_numbering": false,
   "user_envs_cfg": false
  },
  "toc": {
   "base_numbering": 1,
   "nav_menu": {},
   "number_sections": true,
   "sideBar": true,
   "skip_h1_title": false,
   "title_cell": "Table of Contents",
   "title_sidebar": "Contents",
   "toc_cell": false,
   "toc_position": {},
   "toc_section_display": true,
   "toc_window_display": false
  }
 },
 "nbformat": 4,
 "nbformat_minor": 1
}
