{
 "cells": [
  {
   "cell_type": "markdown",
   "metadata": {
    "id": "HxjY0rOgT8QH"
   },
   "source": [
    "# Prepare Workspace"
   ]
  },
  {
   "cell_type": "markdown",
   "metadata": {
    "id": "Qrqe3HndUC6b"
   },
   "source": [
    "## Install required modules"
   ]
  },
  {
   "cell_type": "code",
   "execution_count": 1,
   "metadata": {
    "colab": {
     "base_uri": "https://localhost:8080/"
    },
    "executionInfo": {
     "elapsed": 8203,
     "status": "ok",
     "timestamp": 1677872289738,
     "user": {
      "displayName": "Matthias Schumm",
      "userId": "14613872717235634427"
     },
     "user_tz": 300
    },
    "id": "JN_FNm-DTh3W",
    "outputId": "2545cab0-1c94-495e-c130-eaa3ddff9662"
   },
   "outputs": [],
   "source": [
    "#!pip install -U -q PyDrive\n",
    "#!pip install geopandas"
   ]
  },
  {
   "cell_type": "markdown",
   "metadata": {
    "id": "T8JAO25dUDoP"
   },
   "source": [
    "## Load required modules"
   ]
  },
  {
   "cell_type": "code",
   "execution_count": 2,
   "metadata": {
    "executionInfo": {
     "elapsed": 2225,
     "status": "ok",
     "timestamp": 1677872291959,
     "user": {
      "displayName": "Matthias Schumm",
      "userId": "14613872717235634427"
     },
     "user_tz": 300
    },
    "id": "6PS1DPXFlzQF"
   },
   "outputs": [
    {
     "name": "stderr",
     "output_type": "stream",
     "text": [
      "/state/partition1/llgrid/pkg/anaconda/anaconda3-2022a/lib/python3.8/site-packages/statsmodels/tsa/base/tsa_model.py:7: FutureWarning: pandas.Int64Index is deprecated and will be removed from pandas in a future version. Use pandas.Index with the appropriate dtype instead.\n",
      "  from pandas import (to_datetime, Int64Index, DatetimeIndex, Period,\n",
      "/state/partition1/llgrid/pkg/anaconda/anaconda3-2022a/lib/python3.8/site-packages/statsmodels/tsa/base/tsa_model.py:7: FutureWarning: pandas.Float64Index is deprecated and will be removed from pandas in a future version. Use pandas.Index with the appropriate dtype instead.\n",
      "  from pandas import (to_datetime, Int64Index, DatetimeIndex, Period,\n"
     ]
    }
   ],
   "source": [
    "import pandas as pd\n",
    "import numpy as np\n",
    "\n",
    "import datetime\n",
    "\n",
    "import matplotlib.pyplot as plt\n",
    "#import seaborn as sns\n",
    "#from scipy import stats\n",
    "\n",
    "#from google.colab import data_table\n",
    "#data_table.enable_dataframe_formatter()\n",
    "from sklearn.preprocessing import MinMaxScaler\n",
    "#from sklearn.linear_model import LinearRegression\n",
    "#from scipy.optimize import linprog\n",
    "import statsmodels.api as sm\n",
    "from sklearn.metrics import mean_squared_error, mean_absolute_error, mean_absolute_percentage_error\n",
    "\n",
    "\n",
    "#from pydrive.auth import GoogleAuth\n",
    "#from pydrive.drive import GoogleDrive\n",
    "#from google.colab import auth\n",
    "#from oauth2client.client import GoogleCredentials\n",
    "#from google.colab import files"
   ]
  },
  {
   "cell_type": "code",
   "execution_count": 3,
   "metadata": {},
   "outputs": [],
   "source": [
    "import numpy as np\n",
    "import pandas as pd\n",
    "from sklearn.model_selection import GridSearchCV, KFold, cross_val_score, cross_validate\n",
    "from sklearn.ensemble import RandomForestRegressor\n",
    "from sklearn.feature_selection import RFECV\n",
    "from sklearn.metrics import mean_squared_error, mean_absolute_error, r2_score"
   ]
  },
  {
   "cell_type": "code",
   "execution_count": 4,
   "metadata": {},
   "outputs": [],
   "source": [
    "import numpy as np\n",
    "import pandas as pd\n",
    "from sklearn.linear_model import Ridge\n",
    "from sklearn.model_selection import KFold\n",
    "from sklearn.model_selection import GridSearchCV\n",
    "from sklearn.metrics import mean_squared_error"
   ]
  },
  {
   "cell_type": "code",
   "execution_count": 5,
   "metadata": {},
   "outputs": [],
   "source": [
    "import pandas as pd\n",
    "import numpy as np\n",
    "from sklearn.model_selection import train_test_split, GridSearchCV, StratifiedKFold\n",
    "from sklearn.ensemble import RandomForestClassifier\n",
    "from sklearn.feature_selection import RFECV\n",
    "from sklearn.preprocessing import StandardScaler"
   ]
  },
  {
   "cell_type": "code",
   "execution_count": 6,
   "metadata": {},
   "outputs": [],
   "source": [
    "def VIF(X, threshold = 5):\n",
    "  from statsmodels.stats.outliers_influence import variance_inflation_factor\n",
    "  columns = X.columns.to_list()\n",
    "  vif = pd.DataFrame()\n",
    "  vif[\"VIF Factor\"] = [variance_inflation_factor(X.values, i)\\\n",
    "                       for i in range(len(columns))]\n",
    "  vif[\"features\"] = X.columns\n",
    "\n",
    "  ## Check for infinity VIF\n",
    "  mask = (vif[\"VIF Factor\"] == np.infty)\n",
    "  if mask.any():\n",
    "    to_drop=vif[mask][\"features\"].to_list()\n",
    "    setColumns = set(columns)\n",
    "    setTo_drop = set(to_drop)\n",
    "    columns_new = list(setColumns.difference(setTo_drop))\n",
    "    print(f\"dropping due to infinite VIF:\")\n",
    "    print(\"\\n\".join(setTo_drop))\n",
    "    return VIF(X[columns_new], threshold=threshold)\n",
    "\n",
    "  # Drop feature with highest VIF if exceeding threshold\n",
    "  if vif[\"VIF Factor\"].max() > threshold:\n",
    "    index = vif[\"VIF Factor\"].idxmax()\n",
    "    to_drop = vif.loc[index].to_dict()\n",
    "    print(\"dropping {features} at index {index} with VIF of {VIF Factor:.2f} exceeding threshold of {threshold}\"\\\n",
    "          .format(**to_drop, index=index, threshold=threshold))\n",
    "    columns.remove(to_drop[\"features\"])\n",
    "    return VIF(X[columns], threshold)\n",
    "  \n",
    "  return vif"
   ]
  },
  {
   "cell_type": "code",
   "execution_count": 7,
   "metadata": {},
   "outputs": [],
   "source": [
    "targets       = ['MAX_Completeness_pct', 'Weeks2MAX', 'IDX_W2M']\n",
    "spatial       = ['Population Density (Per Sq. Mile)', 'Average Commute to Work (In Min)', 'AREA_SQMI', 'Density_Medical_Facilities_Population', 'Density_Medical_Facilities_Area', 'Density_Transportation_Stops_Pop', 'Density_Transportation_Stops_Area', 'Stops_per_Facility']\n",
    "socioeconomic = [\"% Total Population: Male\",\"% Total Population: Female\",\"% Total Population: Under 5 Years\",\"% Total Population: 5 to 9 Years\",\"% Total Population: 10 to 14 Years\",\"% Total Population: 15 to 17 Years\",\"% Total Population: 18 to 24 Years\",\"% Total Population: 25 to 34 Years\",\"% Total Population: 35 to 44 Years\",\"% Total Population: 45 to 54 Years\",\"% Total Population: 55 to 64 Years\",\"% Total Population: 65 to 74 Years\",\"% Total Population: 75 to 84 Years\",\"% Total Population: 85 Years and Over\",\"% Total Population: White Alone\",\"% Total Population: Black or African American Alone\",\"% Total Population: American Indian and Alaska Native Alone\",\"% Total Population: Asian Alone\",\"% Total Population: Two or More Races\",\"% Population 25 Years and Over: Less than High School\",\"% Population 25 Years and Over: High School Graduate or More (Includes Equivalency)\",\"% Population 25 Years and Over: Some College or More\",\"% Population 25 Years and Over: Bachelor's Degree or More\",\"% Population 25 Years and Over: Master's Degree or More\",\"% Population 25 Years and Over: Professional School Degree or More\",\"% Population 25 Years and Over: Doctorate Degree\",\"% Population 16 Years and Over: in Labor Force\",\"% Population 16 Years and Over: in Labor Force: in Armed Forces\",\"% Population 16 Years and Over: in Labor Force: Civilian\",\"% Population 16 Years and Over: in Labor Force: Civilian: Employed\",\"% Population 16 Years and Over: in Labor Force: Civilian: Unemployed\",\"% Population 16 Years and Over: Not in Labor Force\",\"% Households: Less than $25,000\",\"% Households: $25,000 to $49,999\",\"% Households: $50,000 to $74,999\",\"% Households: $75,000 to $99,999\",\"% Households: $100,000 or More\",\"Median Household Income (In 2021 Inflation Adjusted Dollars)\",\"Gini Index\",\"% Workers 16 Years and Over: Car, Truck, or Van\",\"% Workers 16 Years and Over: Drove Alone\",\"% Workers 16 Years and Over: Carpooled\",\"% Workers 16 Years and Over: Public Transportation (Includes Taxicab)\",\"% Workers 16 Years and Over: Motorcycle\",\"% Workers 16 Years and Over: Bicycle\",\"% Workers 16 Years and Over: Walked\",\"% Workers 16 Years and Over: Other Means\",\"% Workers 16 Years and Over: Worked At Home\",\"% Total: No Health Insurance Coverage\",\"% Total: with Health Insurance Coverage\",\"% Total: with Health Insurance Coverage: Public Health Coverage\",\"% Total: with Health Insurance Coverage: Private Health Insurance\",\"EP_POV150\",\"EP_UNEMP\",\"EP_HBURD\",\"EP_NOHSDP\",\"EP_UNINSUR\",\"EP_AGE65\",\"EP_AGE17\",\"EP_SNGPNT\",\"EP_LIMENG\",\"EP_MINRTY\",\"EP_MUNIT\",\"EP_MOBILE\",\"EP_CROWD\",\"EP_NOVEH\",\"EP_GROUPQ\",\"F_POV150\",\"F_UNEMP\",\"F_HBURD\",\"F_NOHSDP\",\"F_UNINSUR\",\"F_THEME1\",\"F_AGE65\",\"F_AGE17\",\"F_DISABL\",\"F_SNGPNT\",\"F_LIMENG\",\"F_THEME2\",\"F_MINRTY\",\"F_THEME3\",\"F_MUNIT\",\"F_MOBILE\",\"F_CROWD\",\"F_NOVEH\",\"F_GROUPQ\",\"F_THEME4\",\"F_TOTAL\",'%DAYPOP',\"EP_NOINT\",\"EP_AFAM\",\"EP_HISP\",\"EP_ASIAN\",\"EP_AIAN\",\"EP_TWOMORE\",\"EP_OTHERRACE\",\"%Total Child Population\",'%Total University','%Total High school','%Total Less than High School','%Total Adult Population','%Total Elderly Population',\"%Population with Disability\",\"%LIMENG\",\"%NOINT\"]\n",
    "others        = [\"Total Population\", 'Area (Land)',\"Total Population:\",\"Total Population:.1\",\"EP_NHPI\",\"Qualifying Name\",\"File identification\",\"State Postal Abbreviation\",\"Summary Level\",\"Geographic Component\",\"Logical Record Number\",\"US\",\"Census Region\",\"Census Division\",\"State (Census Code)\",\"State (FIPS Code)\",\"County of current residence\",\"County Subdivision (FIPS)\",\"Place (FIPS Code)\",\"Census Tract\",\"Block Group\",\"Consolidated City\",\"American Indian Area/AlaskaNative Area/ Hawaiian Home Land(Census)\",\"American Indian Area/AlaskaNative Area/ Hawaiian Home Land(FIPS)\",\"American Indian Trust Land/Hawaiian Home Land Indicator\",\"American Indian TribalSubdivision (Census)\",\"American Indian TribalSubdivision (FIPS)\",\"% Total Population: Some Other Race Alone\",\"Alaska Native RegionalCorporation (FIPS)\",\"% Total Population: Native Hawaiian and Other Pacific Islander Alone\",\"Metropolitan and MicropolitanStatistical Area\",\"Combined Statistical Area\",\"Metropolitan Statistical Area-Metropolitan Division\",\"Metropolitan Area Central City\",\"Metropolitan/MicropolitanIndicator Flag\",\"New England City and Town Area\",\"New England City and TownCombined Statistical Area\",\"New England City and Town AreaDivision\",\"Urban Area\",\"Urban Area Central Place\",\"Current Congressional District ***\",\"State Legislative District Upper\",\"State Legislative District Lower\",\"Voting District\",\"ZIP Code Tabulation Area (3-digit)\",\"5-digit ZIP Code Tabulation Area\",\"Subminor Civil Division (FIPS)\",\"State-School District (Elementary)\",\"State-School District (Secondary)\",\"State-School District (Unified)\",\"Urban/Rural\",\"Principal City Indicator\",\"Traffic Analysis Zone\",\"Urban Growth Area\",\"Public Use Microdata Area â€“ 5%File\",\"Public Use Microdata Area - 1% File\",\"Geographic Identifier\",\"Area Name\",\"Tribal Tract\",\"Tribal Block Group\",\"Place (State FIPS + Place FIPS)\",\"Total Population: Male\",\"Total Population: Female\",\"Total Population: Under 5 Years\",\"Total Population: 5 to 9 Years\",\"Total Population: 10 to 14 Years\",\"Total Population: 15 to 17 Years\",\"Total Population: 18 to 24 Years\",\"Total Population: 25 to 34 Years\",\"Total Population: 35 to 44 Years\",\"Total Population: 45 to 54 Years\",\"Total Population: 55 to 64 Years\",\"Total Population: 65 to 74 Years\",\"Total Population: 75 to 84 Years\",\"Total Population: 85 Years and Over\",\"Total Population:.2\",\"Total Population: White Alone\",\"Total Population: Black or African American Alone\",\"Total Population: American Indian and Alaska Native Alone\",\"Total Population: Asian Alone\",\"EP_DISABL\",\"Total Population: Native Hawaiian and Other Pacific Islander Alone\",\"Total Population: Some Other Race Alone\",\"Total Population: Two or More Races\",\"SPL_THEME1\",\"RPL_THEME1\",\"E_TOTPOP\",\"Population 25 Years and Over:\",\"SPL_THEME2\",\"RPL_THEME2\",\"SPL_THEME3\",\"RPL_THEME3\",\"SPL_THEME4\",\"RPL_THEME4\",\"SPL_THEMES\",\"E_DAYPOP\",\"RPL_THEMES\",\"Population 25 Years and Over: Less than High School\",\"Population 25 Years and Over: High School Graduate or More (Includes Equivalency)\",\"Population 25 Years and Over: Some College or More\",\"Population 25 Years and Over: Bachelor's Degree or More\",\"Population 25 Years and Over: Master's Degree or More\",\"Population 25 Years and Over: Professional School Degree or More\",\"Population 25 Years and Over: Doctorate Degree\",\"Population 16 Years and Over:\",\"Population 16 Years and Over: in Labor Force\",\"Population 16 Years and Over: in Labor Force: in Armed Forces\",\"Population 16 Years and Over: in Labor Force: Civilian\",\"Population 16 Years and Over: in Labor Force: Civilian: Employed\",\"Population 16 Years and Over: in Labor Force: Civilian: Unemployed\",\"Population 16 Years and Over: Not in Labor Force\",\"Households:\",\"Households: Less than $25,000\",\"Households: $25,000 to $49,999\",\"Households: $50,000 to $74,999\",\"Households: $75,000 to $99,999\",\"Households: $100,000 or More\",\"Workers 16 Years and Over:\",\"Workers 16 Years and Over: Car, Truck, or Van\",\"Workers 16 Years and Over: Drove Alone\",\"Workers 16 Years and Over: Carpooled\",\"Workers 16 Years and Over: Public Transportation (Includes Taxicab)\",\"Workers 16 Years and Over: Motorcycle\",\"Workers 16 Years and Over: Bicycle\",\"Workers 16 Years and Over: Walked\",\"Workers 16 Years and Over: Other Means\",\"Workers 16 Years and Over: Worked At Home\",\"Total:\",\"Total: No Health Insurance Coverage\",\"Total: with Health Insurance Coverage\",\"Total: with Health Insurance Coverage: Public Health Coverage\",\"Total: with Health Insurance Coverage: Private Health Insurance\",\"W\",\"ST\",\"STATE\",\"ST_ABBR\",\"STCNTY\",\"COUNTY\",\"LOCATION\",\"M_TOTPOP\",\"E_HU\",\"M_HU\",\"E_HH\",\"M_HH\",\"E_POV150\",\"M_POV150\",\"E_UNEMP\",\"M_UNEMP\",\"E_HBURD\",\"M_HBURD\",\"E_NOHSDP\",\"M_NOHSDP\",\"E_UNINSUR\",\"M_UNINSUR\",\"E_AGE65\",\"M_AGE65\",\"E_AGE17\",\"M_AGE17\",\"E_DISABL\",\"M_DISABL\",\"E_SNGPNT\",\"M_SNGPNT\",\"E_LIMENG\",\"M_LIMENG\",\"E_MINRTY\",\"M_MINRTY\",\"E_MUNIT\",\"M_MUNIT\",\"E_MOBILE\",\"M_MOBILE\",\"E_CROWD\",\"M_CROWD\",\"E_NOVEH\",\"M_NOVEH\",\"E_GROUPQ\",\"M_GROUPQ\",\"MP_POV150\",\"MP_UNEMP\",\"MP_HBURD\",\"MP_NOHSDP\",\"MP_UNINSUR\",\"MP_AGE65\",\"MP_AGE17\",\"MP_DISABL\",\"MP_SNGPNT\",\"MP_LIMENG\",\"MP_MINRTY\",\"MP_MUNIT\",\"MP_MOBILE\",\"MP_CROWD\",\"MP_NOVEH\",\"MP_GROUPQ\",\"E_NOINT\",\"M_NOINT\",\"E_AFAM\",\"M_AFAM\",\"E_HISP\",\"M_HISP\",\"E_ASIAN\",\"M_ASIAN\",\"E_AIAN\",\"M_AIAN\",\"E_NHPI\",\"M_NHPI\",\"E_TWOMORE\",\"M_TWOMORE\",\"E_OTHERRACE\",\"M_OTHERRACE\",\"MP_NOINT\",\"MP_AFAM\",\"MP_HISP\",\"MP_ASIAN\",\"MP_AIAN\",\"MP_NHPI\",\"MP_TWOMORE\",\"MP_OTHERRACE\",\"Count_Medical_Facilities\",\"Count_Transportation_Stops\",\"EPL_POV150\",\"EPL_UNEMP\",\"EPL_HBURD\",\"EPL_NOHSDP\",\"EPL_UNINSUR\",\"EPL_AGE65\",\"EPL_AGE17\",\"EPL_DISABL\",\"EPL_SNGPNT\",\"EPL_LIMENG\",\"EPL_MINRTY\",\"EPL_MUNIT\",\"EPL_MOBILE\",\"EPL_CROWD\",\"EPL_NOVEH\",\"EPL_GROUPQ\"]"
   ]
  },
  {
   "cell_type": "markdown",
   "metadata": {
    "id": "PqqUR2dpV-fq"
   },
   "source": [
    "## Read the file"
   ]
  },
  {
   "cell_type": "code",
   "execution_count": 8,
   "metadata": {
    "colab": {
     "base_uri": "https://localhost:8080/",
     "height": 17
    },
    "executionInfo": {
     "elapsed": 430,
     "status": "ok",
     "timestamp": 1677872199662,
     "user": {
      "displayName": "Matthias Schumm",
      "userId": "14613872717235634427"
     },
     "user_tz": 300
    },
    "id": "RTmoXIInn7N5",
    "outputId": "994f009c-501b-43f4-e3a1-72be1dc725a7"
   },
   "outputs": [],
   "source": [
    "df_scaled=pd.read_csv('df_counties.csv')\n",
    "#files.download('df_scaled.csv')"
   ]
  },
  {
   "cell_type": "code",
   "execution_count": 9,
   "metadata": {
    "scrolled": true
   },
   "outputs": [
    {
     "data": {
      "text/html": [
       "<div>\n",
       "<style scoped>\n",
       "    .dataframe tbody tr th:only-of-type {\n",
       "        vertical-align: middle;\n",
       "    }\n",
       "\n",
       "    .dataframe tbody tr th {\n",
       "        vertical-align: top;\n",
       "    }\n",
       "\n",
       "    .dataframe thead th {\n",
       "        text-align: right;\n",
       "    }\n",
       "</style>\n",
       "<table border=\"1\" class=\"dataframe\">\n",
       "  <thead>\n",
       "    <tr style=\"text-align: right;\">\n",
       "      <th></th>\n",
       "      <th>FIPS</th>\n",
       "      <th>MAX_Completeness_pct</th>\n",
       "      <th>Weeks2MAX</th>\n",
       "      <th>IDX_W2M</th>\n",
       "      <th>Population Density (Per Sq. Mile)</th>\n",
       "      <th>Area (Land)</th>\n",
       "      <th>Average Commute to Work (In Min)</th>\n",
       "      <th>AREA_SQMI</th>\n",
       "      <th>Density_Medical_Facilities_Population</th>\n",
       "      <th>Density_Medical_Facilities_Area</th>\n",
       "      <th>...</th>\n",
       "      <th>%Total Child Population</th>\n",
       "      <th>%Total University</th>\n",
       "      <th>%Total High school</th>\n",
       "      <th>%Total Less than High School</th>\n",
       "      <th>%Total Adult Population</th>\n",
       "      <th>%Total Elderly Population</th>\n",
       "      <th>%Population with Disability</th>\n",
       "      <th>%LIMENG</th>\n",
       "      <th>%NOINT</th>\n",
       "      <th>%DAYPOP</th>\n",
       "    </tr>\n",
       "  </thead>\n",
       "  <tbody>\n",
       "    <tr>\n",
       "      <th>0</th>\n",
       "      <td>56045</td>\n",
       "      <td>-0.009041</td>\n",
       "      <td>-1.465010</td>\n",
       "      <td>-1.455969</td>\n",
       "      <td>2.873639</td>\n",
       "      <td>2398.005019</td>\n",
       "      <td>27</td>\n",
       "      <td>2398.003892</td>\n",
       "      <td>0.001152</td>\n",
       "      <td>0.003336</td>\n",
       "      <td>...</td>\n",
       "      <td>0.202003</td>\n",
       "      <td>0.546811</td>\n",
       "      <td>0.373262</td>\n",
       "      <td>0.071137</td>\n",
       "      <td>0.592512</td>\n",
       "      <td>0.205485</td>\n",
       "      <td>0.134976</td>\n",
       "      <td>0.001873</td>\n",
       "      <td>0.150533</td>\n",
       "      <td>0.730913</td>\n",
       "    </tr>\n",
       "    <tr>\n",
       "      <th>1</th>\n",
       "      <td>56043</td>\n",
       "      <td>-0.009041</td>\n",
       "      <td>-1.465010</td>\n",
       "      <td>-1.455969</td>\n",
       "      <td>3.469903</td>\n",
       "      <td>2238.679370</td>\n",
       "      <td>12</td>\n",
       "      <td>2238.678265</td>\n",
       "      <td>0.000882</td>\n",
       "      <td>0.003127</td>\n",
       "      <td>...</td>\n",
       "      <td>0.227600</td>\n",
       "      <td>0.681173</td>\n",
       "      <td>0.256500</td>\n",
       "      <td>0.059008</td>\n",
       "      <td>0.549691</td>\n",
       "      <td>0.222709</td>\n",
       "      <td>0.133619</td>\n",
       "      <td>0.002017</td>\n",
       "      <td>0.129333</td>\n",
       "      <td>0.918946</td>\n",
       "    </tr>\n",
       "    <tr>\n",
       "      <th>2</th>\n",
       "      <td>56041</td>\n",
       "      <td>-0.009041</td>\n",
       "      <td>-1.465010</td>\n",
       "      <td>-1.455969</td>\n",
       "      <td>9.854347</td>\n",
       "      <td>2081.720793</td>\n",
       "      <td>21</td>\n",
       "      <td>2081.719808</td>\n",
       "      <td>0.000834</td>\n",
       "      <td>0.008166</td>\n",
       "      <td>...</td>\n",
       "      <td>0.286292</td>\n",
       "      <td>0.565556</td>\n",
       "      <td>0.364241</td>\n",
       "      <td>0.064309</td>\n",
       "      <td>0.566394</td>\n",
       "      <td>0.147314</td>\n",
       "      <td>0.150780</td>\n",
       "      <td>0.011632</td>\n",
       "      <td>0.070089</td>\n",
       "      <td>0.982870</td>\n",
       "    </tr>\n",
       "    <tr>\n",
       "      <th>3</th>\n",
       "      <td>56039</td>\n",
       "      <td>-0.009041</td>\n",
       "      <td>-1.465010</td>\n",
       "      <td>-1.455969</td>\n",
       "      <td>5.834346</td>\n",
       "      <td>3996.848665</td>\n",
       "      <td>16</td>\n",
       "      <td>3996.846846</td>\n",
       "      <td>0.001113</td>\n",
       "      <td>0.006505</td>\n",
       "      <td>...</td>\n",
       "      <td>0.177966</td>\n",
       "      <td>0.770429</td>\n",
       "      <td>0.168979</td>\n",
       "      <td>0.039696</td>\n",
       "      <td>0.667267</td>\n",
       "      <td>0.154766</td>\n",
       "      <td>0.063067</td>\n",
       "      <td>0.028601</td>\n",
       "      <td>0.099032</td>\n",
       "      <td>1.277274</td>\n",
       "    </tr>\n",
       "    <tr>\n",
       "      <th>4</th>\n",
       "      <td>56037</td>\n",
       "      <td>-0.009041</td>\n",
       "      <td>-1.465010</td>\n",
       "      <td>-1.455969</td>\n",
       "      <td>4.072032</td>\n",
       "      <td>10426.980103</td>\n",
       "      <td>20</td>\n",
       "      <td>10426.975770</td>\n",
       "      <td>0.000461</td>\n",
       "      <td>0.001918</td>\n",
       "      <td>...</td>\n",
       "      <td>0.257778</td>\n",
       "      <td>0.592896</td>\n",
       "      <td>0.326035</td>\n",
       "      <td>0.072944</td>\n",
       "      <td>0.615276</td>\n",
       "      <td>0.126946</td>\n",
       "      <td>0.130836</td>\n",
       "      <td>0.007405</td>\n",
       "      <td>0.097043</td>\n",
       "      <td>1.040252</td>\n",
       "    </tr>\n",
       "    <tr>\n",
       "      <th>...</th>\n",
       "      <td>...</td>\n",
       "      <td>...</td>\n",
       "      <td>...</td>\n",
       "      <td>...</td>\n",
       "      <td>...</td>\n",
       "      <td>...</td>\n",
       "      <td>...</td>\n",
       "      <td>...</td>\n",
       "      <td>...</td>\n",
       "      <td>...</td>\n",
       "      <td>...</td>\n",
       "      <td>...</td>\n",
       "      <td>...</td>\n",
       "      <td>...</td>\n",
       "      <td>...</td>\n",
       "      <td>...</td>\n",
       "      <td>...</td>\n",
       "      <td>...</td>\n",
       "      <td>...</td>\n",
       "      <td>...</td>\n",
       "      <td>...</td>\n",
       "    </tr>\n",
       "    <tr>\n",
       "      <th>3093</th>\n",
       "      <td>1009</td>\n",
       "      <td>-0.061571</td>\n",
       "      <td>-1.447915</td>\n",
       "      <td>-1.386344</td>\n",
       "      <td>91.308500</td>\n",
       "      <td>644.890660</td>\n",
       "      <td>34</td>\n",
       "      <td>644.890375</td>\n",
       "      <td>0.000554</td>\n",
       "      <td>0.049621</td>\n",
       "      <td>...</td>\n",
       "      <td>0.232372</td>\n",
       "      <td>0.480820</td>\n",
       "      <td>0.351234</td>\n",
       "      <td>0.163519</td>\n",
       "      <td>0.587885</td>\n",
       "      <td>0.179743</td>\n",
       "      <td>0.148282</td>\n",
       "      <td>0.013869</td>\n",
       "      <td>0.155606</td>\n",
       "      <td>0.730188</td>\n",
       "    </tr>\n",
       "    <tr>\n",
       "      <th>3094</th>\n",
       "      <td>1007</td>\n",
       "      <td>-0.061571</td>\n",
       "      <td>-1.447915</td>\n",
       "      <td>-1.386344</td>\n",
       "      <td>36.004970</td>\n",
       "      <td>622.469553</td>\n",
       "      <td>30</td>\n",
       "      <td>622.469288</td>\n",
       "      <td>0.000626</td>\n",
       "      <td>0.022491</td>\n",
       "      <td>...</td>\n",
       "      <td>0.205783</td>\n",
       "      <td>0.361961</td>\n",
       "      <td>0.439185</td>\n",
       "      <td>0.194619</td>\n",
       "      <td>0.633857</td>\n",
       "      <td>0.160361</td>\n",
       "      <td>0.167516</td>\n",
       "      <td>0.003352</td>\n",
       "      <td>0.171583</td>\n",
       "      <td>0.840216</td>\n",
       "    </tr>\n",
       "    <tr>\n",
       "      <th>3095</th>\n",
       "      <td>1005</td>\n",
       "      <td>-0.061571</td>\n",
       "      <td>-1.447915</td>\n",
       "      <td>-1.386344</td>\n",
       "      <td>28.540980</td>\n",
       "      <td>885.008060</td>\n",
       "      <td>26</td>\n",
       "      <td>885.007618</td>\n",
       "      <td>0.000559</td>\n",
       "      <td>0.015819</td>\n",
       "      <td>...</td>\n",
       "      <td>0.208401</td>\n",
       "      <td>0.383773</td>\n",
       "      <td>0.366769</td>\n",
       "      <td>0.243290</td>\n",
       "      <td>0.601528</td>\n",
       "      <td>0.190071</td>\n",
       "      <td>0.166187</td>\n",
       "      <td>0.017302</td>\n",
       "      <td>0.249700</td>\n",
       "      <td>1.084192</td>\n",
       "    </tr>\n",
       "    <tr>\n",
       "      <th>3096</th>\n",
       "      <td>1003</td>\n",
       "      <td>-0.055362</td>\n",
       "      <td>-1.593627</td>\n",
       "      <td>-1.538266</td>\n",
       "      <td>142.864400</td>\n",
       "      <td>1589.836160</td>\n",
       "      <td>26</td>\n",
       "      <td>1589.835294</td>\n",
       "      <td>0.000637</td>\n",
       "      <td>0.087430</td>\n",
       "      <td>...</td>\n",
       "      <td>0.215849</td>\n",
       "      <td>0.622558</td>\n",
       "      <td>0.273755</td>\n",
       "      <td>0.089858</td>\n",
       "      <td>0.578080</td>\n",
       "      <td>0.206071</td>\n",
       "      <td>0.140250</td>\n",
       "      <td>0.007298</td>\n",
       "      <td>0.112021</td>\n",
       "      <td>1.001457</td>\n",
       "    </tr>\n",
       "    <tr>\n",
       "      <th>3097</th>\n",
       "      <td>1001</td>\n",
       "      <td>-0.061571</td>\n",
       "      <td>-1.447915</td>\n",
       "      <td>-1.386344</td>\n",
       "      <td>97.970230</td>\n",
       "      <td>594.456104</td>\n",
       "      <td>26</td>\n",
       "      <td>594.455838</td>\n",
       "      <td>0.000539</td>\n",
       "      <td>0.050466</td>\n",
       "      <td>...</td>\n",
       "      <td>0.236972</td>\n",
       "      <td>0.556546</td>\n",
       "      <td>0.327586</td>\n",
       "      <td>0.104155</td>\n",
       "      <td>0.611669</td>\n",
       "      <td>0.151359</td>\n",
       "      <td>0.173583</td>\n",
       "      <td>0.006524</td>\n",
       "      <td>0.127608</td>\n",
       "      <td>0.751451</td>\n",
       "    </tr>\n",
       "  </tbody>\n",
       "</table>\n",
       "<p>3098 rows × 153 columns</p>\n",
       "</div>"
      ],
      "text/plain": [
       "       FIPS  MAX_Completeness_pct  Weeks2MAX   IDX_W2M  \\\n",
       "0     56045             -0.009041  -1.465010 -1.455969   \n",
       "1     56043             -0.009041  -1.465010 -1.455969   \n",
       "2     56041             -0.009041  -1.465010 -1.455969   \n",
       "3     56039             -0.009041  -1.465010 -1.455969   \n",
       "4     56037             -0.009041  -1.465010 -1.455969   \n",
       "...     ...                   ...        ...       ...   \n",
       "3093   1009             -0.061571  -1.447915 -1.386344   \n",
       "3094   1007             -0.061571  -1.447915 -1.386344   \n",
       "3095   1005             -0.061571  -1.447915 -1.386344   \n",
       "3096   1003             -0.055362  -1.593627 -1.538266   \n",
       "3097   1001             -0.061571  -1.447915 -1.386344   \n",
       "\n",
       "      Population Density (Per Sq. Mile)   Area (Land)  \\\n",
       "0                              2.873639   2398.005019   \n",
       "1                              3.469903   2238.679370   \n",
       "2                              9.854347   2081.720793   \n",
       "3                              5.834346   3996.848665   \n",
       "4                              4.072032  10426.980103   \n",
       "...                                 ...           ...   \n",
       "3093                          91.308500    644.890660   \n",
       "3094                          36.004970    622.469553   \n",
       "3095                          28.540980    885.008060   \n",
       "3096                         142.864400   1589.836160   \n",
       "3097                          97.970230    594.456104   \n",
       "\n",
       "      Average Commute to Work (In Min)     AREA_SQMI  \\\n",
       "0                                   27   2398.003892   \n",
       "1                                   12   2238.678265   \n",
       "2                                   21   2081.719808   \n",
       "3                                   16   3996.846846   \n",
       "4                                   20  10426.975770   \n",
       "...                                ...           ...   \n",
       "3093                                34    644.890375   \n",
       "3094                                30    622.469288   \n",
       "3095                                26    885.007618   \n",
       "3096                                26   1589.835294   \n",
       "3097                                26    594.455838   \n",
       "\n",
       "      Density_Medical_Facilities_Population  Density_Medical_Facilities_Area  \\\n",
       "0                                  0.001152                         0.003336   \n",
       "1                                  0.000882                         0.003127   \n",
       "2                                  0.000834                         0.008166   \n",
       "3                                  0.001113                         0.006505   \n",
       "4                                  0.000461                         0.001918   \n",
       "...                                     ...                              ...   \n",
       "3093                               0.000554                         0.049621   \n",
       "3094                               0.000626                         0.022491   \n",
       "3095                               0.000559                         0.015819   \n",
       "3096                               0.000637                         0.087430   \n",
       "3097                               0.000539                         0.050466   \n",
       "\n",
       "      ...  %Total Child Population  %Total University  %Total High school  \\\n",
       "0     ...                 0.202003           0.546811            0.373262   \n",
       "1     ...                 0.227600           0.681173            0.256500   \n",
       "2     ...                 0.286292           0.565556            0.364241   \n",
       "3     ...                 0.177966           0.770429            0.168979   \n",
       "4     ...                 0.257778           0.592896            0.326035   \n",
       "...   ...                      ...                ...                 ...   \n",
       "3093  ...                 0.232372           0.480820            0.351234   \n",
       "3094  ...                 0.205783           0.361961            0.439185   \n",
       "3095  ...                 0.208401           0.383773            0.366769   \n",
       "3096  ...                 0.215849           0.622558            0.273755   \n",
       "3097  ...                 0.236972           0.556546            0.327586   \n",
       "\n",
       "      %Total Less than High School  %Total Adult Population  \\\n",
       "0                         0.071137                 0.592512   \n",
       "1                         0.059008                 0.549691   \n",
       "2                         0.064309                 0.566394   \n",
       "3                         0.039696                 0.667267   \n",
       "4                         0.072944                 0.615276   \n",
       "...                            ...                      ...   \n",
       "3093                      0.163519                 0.587885   \n",
       "3094                      0.194619                 0.633857   \n",
       "3095                      0.243290                 0.601528   \n",
       "3096                      0.089858                 0.578080   \n",
       "3097                      0.104155                 0.611669   \n",
       "\n",
       "      %Total Elderly Population  %Population with Disability   %LIMENG  \\\n",
       "0                      0.205485                     0.134976  0.001873   \n",
       "1                      0.222709                     0.133619  0.002017   \n",
       "2                      0.147314                     0.150780  0.011632   \n",
       "3                      0.154766                     0.063067  0.028601   \n",
       "4                      0.126946                     0.130836  0.007405   \n",
       "...                         ...                          ...       ...   \n",
       "3093                   0.179743                     0.148282  0.013869   \n",
       "3094                   0.160361                     0.167516  0.003352   \n",
       "3095                   0.190071                     0.166187  0.017302   \n",
       "3096                   0.206071                     0.140250  0.007298   \n",
       "3097                   0.151359                     0.173583  0.006524   \n",
       "\n",
       "        %NOINT   %DAYPOP  \n",
       "0     0.150533  0.730913  \n",
       "1     0.129333  0.918946  \n",
       "2     0.070089  0.982870  \n",
       "3     0.099032  1.277274  \n",
       "4     0.097043  1.040252  \n",
       "...        ...       ...  \n",
       "3093  0.155606  0.730188  \n",
       "3094  0.171583  0.840216  \n",
       "3095  0.249700  1.084192  \n",
       "3096  0.112021  1.001457  \n",
       "3097  0.127608  0.751451  \n",
       "\n",
       "[3098 rows x 153 columns]"
      ]
     },
     "execution_count": 9,
     "metadata": {},
     "output_type": "execute_result"
    }
   ],
   "source": [
    "df_scaled"
   ]
  },
  {
   "cell_type": "code",
   "execution_count": 10,
   "metadata": {},
   "outputs": [],
   "source": [
    "df_scaled[\"Stops_per_Facility\"].replace([-np.inf],np.nan, inplace=True)\n",
    "df_scaled[\"Density_Medical_Facilities_Population\"].replace([-np.inf],np.nan, inplace=True)\n",
    "df_scaled[\"Density_Medical_Facilities_Area\"].replace([-np.inf],np.nan, inplace=True)\n",
    "df_scaled[\"Density_Transportation_Stops_Pop\"].replace([np.inf],np.nan, inplace=True)\n",
    "df_scaled[\"Density_Transportation_Stops_Area\"].replace([np.inf],np.nan, inplace=True)"
   ]
  },
  {
   "cell_type": "code",
   "execution_count": 11,
   "metadata": {},
   "outputs": [
    {
     "data": {
      "text/html": [
       "<div>\n",
       "<style scoped>\n",
       "    .dataframe tbody tr th:only-of-type {\n",
       "        vertical-align: middle;\n",
       "    }\n",
       "\n",
       "    .dataframe tbody tr th {\n",
       "        vertical-align: top;\n",
       "    }\n",
       "\n",
       "    .dataframe thead th {\n",
       "        text-align: right;\n",
       "    }\n",
       "</style>\n",
       "<table border=\"1\" class=\"dataframe\">\n",
       "  <thead>\n",
       "    <tr style=\"text-align: right;\">\n",
       "      <th></th>\n",
       "      <th>Stops_per_Facility</th>\n",
       "      <th>Density_Medical_Facilities_Population</th>\n",
       "      <th>Density_Medical_Facilities_Area</th>\n",
       "      <th>Density_Transportation_Stops_Pop</th>\n",
       "      <th>Density_Transportation_Stops_Area</th>\n",
       "    </tr>\n",
       "  </thead>\n",
       "  <tbody>\n",
       "    <tr>\n",
       "      <th>0</th>\n",
       "      <td>0.0</td>\n",
       "      <td>0.001152</td>\n",
       "      <td>0.003336</td>\n",
       "      <td>0.0</td>\n",
       "      <td>0.0</td>\n",
       "    </tr>\n",
       "    <tr>\n",
       "      <th>1</th>\n",
       "      <td>0.0</td>\n",
       "      <td>0.000882</td>\n",
       "      <td>0.003127</td>\n",
       "      <td>0.0</td>\n",
       "      <td>0.0</td>\n",
       "    </tr>\n",
       "    <tr>\n",
       "      <th>2</th>\n",
       "      <td>0.0</td>\n",
       "      <td>0.000834</td>\n",
       "      <td>0.008166</td>\n",
       "      <td>0.0</td>\n",
       "      <td>0.0</td>\n",
       "    </tr>\n",
       "    <tr>\n",
       "      <th>3</th>\n",
       "      <td>0.0</td>\n",
       "      <td>0.001113</td>\n",
       "      <td>0.006505</td>\n",
       "      <td>0.0</td>\n",
       "      <td>0.0</td>\n",
       "    </tr>\n",
       "    <tr>\n",
       "      <th>4</th>\n",
       "      <td>0.0</td>\n",
       "      <td>0.000461</td>\n",
       "      <td>0.001918</td>\n",
       "      <td>0.0</td>\n",
       "      <td>0.0</td>\n",
       "    </tr>\n",
       "    <tr>\n",
       "      <th>...</th>\n",
       "      <td>...</td>\n",
       "      <td>...</td>\n",
       "      <td>...</td>\n",
       "      <td>...</td>\n",
       "      <td>...</td>\n",
       "    </tr>\n",
       "    <tr>\n",
       "      <th>3093</th>\n",
       "      <td>0.0</td>\n",
       "      <td>0.000554</td>\n",
       "      <td>0.049621</td>\n",
       "      <td>0.0</td>\n",
       "      <td>0.0</td>\n",
       "    </tr>\n",
       "    <tr>\n",
       "      <th>3094</th>\n",
       "      <td>0.0</td>\n",
       "      <td>0.000626</td>\n",
       "      <td>0.022491</td>\n",
       "      <td>0.0</td>\n",
       "      <td>0.0</td>\n",
       "    </tr>\n",
       "    <tr>\n",
       "      <th>3095</th>\n",
       "      <td>0.0</td>\n",
       "      <td>0.000559</td>\n",
       "      <td>0.015819</td>\n",
       "      <td>0.0</td>\n",
       "      <td>0.0</td>\n",
       "    </tr>\n",
       "    <tr>\n",
       "      <th>3096</th>\n",
       "      <td>0.0</td>\n",
       "      <td>0.000637</td>\n",
       "      <td>0.087430</td>\n",
       "      <td>0.0</td>\n",
       "      <td>0.0</td>\n",
       "    </tr>\n",
       "    <tr>\n",
       "      <th>3097</th>\n",
       "      <td>0.0</td>\n",
       "      <td>0.000539</td>\n",
       "      <td>0.050466</td>\n",
       "      <td>0.0</td>\n",
       "      <td>0.0</td>\n",
       "    </tr>\n",
       "  </tbody>\n",
       "</table>\n",
       "<p>3098 rows × 5 columns</p>\n",
       "</div>"
      ],
      "text/plain": [
       "      Stops_per_Facility  Density_Medical_Facilities_Population  \\\n",
       "0                    0.0                               0.001152   \n",
       "1                    0.0                               0.000882   \n",
       "2                    0.0                               0.000834   \n",
       "3                    0.0                               0.001113   \n",
       "4                    0.0                               0.000461   \n",
       "...                  ...                                    ...   \n",
       "3093                 0.0                               0.000554   \n",
       "3094                 0.0                               0.000626   \n",
       "3095                 0.0                               0.000559   \n",
       "3096                 0.0                               0.000637   \n",
       "3097                 0.0                               0.000539   \n",
       "\n",
       "      Density_Medical_Facilities_Area  Density_Transportation_Stops_Pop  \\\n",
       "0                            0.003336                               0.0   \n",
       "1                            0.003127                               0.0   \n",
       "2                            0.008166                               0.0   \n",
       "3                            0.006505                               0.0   \n",
       "4                            0.001918                               0.0   \n",
       "...                               ...                               ...   \n",
       "3093                         0.049621                               0.0   \n",
       "3094                         0.022491                               0.0   \n",
       "3095                         0.015819                               0.0   \n",
       "3096                         0.087430                               0.0   \n",
       "3097                         0.050466                               0.0   \n",
       "\n",
       "      Density_Transportation_Stops_Area  \n",
       "0                                   0.0  \n",
       "1                                   0.0  \n",
       "2                                   0.0  \n",
       "3                                   0.0  \n",
       "4                                   0.0  \n",
       "...                                 ...  \n",
       "3093                                0.0  \n",
       "3094                                0.0  \n",
       "3095                                0.0  \n",
       "3096                                0.0  \n",
       "3097                                0.0  \n",
       "\n",
       "[3098 rows x 5 columns]"
      ]
     },
     "execution_count": 11,
     "metadata": {},
     "output_type": "execute_result"
    }
   ],
   "source": [
    "df_scaled[[\"Stops_per_Facility\",\"Density_Medical_Facilities_Population\",\"Density_Medical_Facilities_Area\",\"Density_Transportation_Stops_Pop\",\"Density_Transportation_Stops_Area\"]]"
   ]
  },
  {
   "cell_type": "code",
   "execution_count": 12,
   "metadata": {},
   "outputs": [
    {
     "data": {
      "text/html": [
       "<div>\n",
       "<style scoped>\n",
       "    .dataframe tbody tr th:only-of-type {\n",
       "        vertical-align: middle;\n",
       "    }\n",
       "\n",
       "    .dataframe tbody tr th {\n",
       "        vertical-align: top;\n",
       "    }\n",
       "\n",
       "    .dataframe thead th {\n",
       "        text-align: right;\n",
       "    }\n",
       "</style>\n",
       "<table border=\"1\" class=\"dataframe\">\n",
       "  <thead>\n",
       "    <tr style=\"text-align: right;\">\n",
       "      <th></th>\n",
       "      <th>FIPS</th>\n",
       "      <th>MAX_Completeness_pct</th>\n",
       "      <th>Weeks2MAX</th>\n",
       "      <th>IDX_W2M</th>\n",
       "      <th>Population Density (Per Sq. Mile)</th>\n",
       "      <th>Area (Land)</th>\n",
       "      <th>Average Commute to Work (In Min)</th>\n",
       "      <th>AREA_SQMI</th>\n",
       "      <th>Density_Medical_Facilities_Population</th>\n",
       "      <th>Density_Medical_Facilities_Area</th>\n",
       "      <th>...</th>\n",
       "      <th>%Total Child Population</th>\n",
       "      <th>%Total University</th>\n",
       "      <th>%Total High school</th>\n",
       "      <th>%Total Less than High School</th>\n",
       "      <th>%Total Adult Population</th>\n",
       "      <th>%Total Elderly Population</th>\n",
       "      <th>%Population with Disability</th>\n",
       "      <th>%LIMENG</th>\n",
       "      <th>%NOINT</th>\n",
       "      <th>%DAYPOP</th>\n",
       "    </tr>\n",
       "  </thead>\n",
       "  <tbody>\n",
       "    <tr>\n",
       "      <th>282</th>\n",
       "      <td>51081</td>\n",
       "      <td>-0.175545</td>\n",
       "      <td>-1.048116</td>\n",
       "      <td>-0.872572</td>\n",
       "      <td>38.83451</td>\n",
       "      <td>295.227067</td>\n",
       "      <td>23</td>\n",
       "      <td>295.22693</td>\n",
       "      <td>0.0</td>\n",
       "      <td>0.0</td>\n",
       "      <td>...</td>\n",
       "      <td>0.154993</td>\n",
       "      <td>0.358521</td>\n",
       "      <td>0.40742</td>\n",
       "      <td>0.228046</td>\n",
       "      <td>0.692979</td>\n",
       "      <td>0.152028</td>\n",
       "      <td>0.115934</td>\n",
       "      <td>0.003069</td>\n",
       "      <td>0.1675</td>\n",
       "      <td>1.027975</td>\n",
       "    </tr>\n",
       "  </tbody>\n",
       "</table>\n",
       "<p>1 rows × 153 columns</p>\n",
       "</div>"
      ],
      "text/plain": [
       "      FIPS  MAX_Completeness_pct  Weeks2MAX   IDX_W2M  \\\n",
       "282  51081             -0.175545  -1.048116 -0.872572   \n",
       "\n",
       "     Population Density (Per Sq. Mile)  Area (Land)  \\\n",
       "282                           38.83451   295.227067   \n",
       "\n",
       "     Average Commute to Work (In Min)  AREA_SQMI  \\\n",
       "282                                23  295.22693   \n",
       "\n",
       "     Density_Medical_Facilities_Population  Density_Medical_Facilities_Area  \\\n",
       "282                                    0.0                              0.0   \n",
       "\n",
       "     ...  %Total Child Population  %Total University  %Total High school  \\\n",
       "282  ...                 0.154993           0.358521             0.40742   \n",
       "\n",
       "     %Total Less than High School  %Total Adult Population  \\\n",
       "282                      0.228046                 0.692979   \n",
       "\n",
       "     %Total Elderly Population  %Population with Disability   %LIMENG  %NOINT  \\\n",
       "282                   0.152028                     0.115934  0.003069  0.1675   \n",
       "\n",
       "      %DAYPOP  \n",
       "282  1.027975  \n",
       "\n",
       "[1 rows x 153 columns]"
      ]
     },
     "execution_count": 12,
     "metadata": {},
     "output_type": "execute_result"
    }
   ],
   "source": [
    "df_scaled[np.isinf(df_scaled).any(axis=1)]"
   ]
  },
  {
   "cell_type": "code",
   "execution_count": 13,
   "metadata": {},
   "outputs": [],
   "source": [
    "df_scaled.replace([np.inf], np.nan, inplace=True)"
   ]
  },
  {
   "cell_type": "code",
   "execution_count": 14,
   "metadata": {},
   "outputs": [],
   "source": [
    "df_scaled.dropna(inplace=True)"
   ]
  },
  {
   "cell_type": "code",
   "execution_count": 15,
   "metadata": {},
   "outputs": [],
   "source": [
    "df_scaled[\"% Total: No Health Insurance Coverage\"] = df_scaled[\"% Total: No Health Insurance Coverage\"].astype(float)/100"
   ]
  },
  {
   "cell_type": "markdown",
   "metadata": {},
   "source": [
    "## Scale"
   ]
  },
  {
   "cell_type": "code",
   "execution_count": 16,
   "metadata": {},
   "outputs": [],
   "source": [
    "scaler = StandardScaler()\n",
    "df_scaled1=df_scaled.copy()\n",
    "#scaler.fit(df_scaled[['Average Commute to Work (In Min)', \"%LIMENG\"]])\n",
    "#scaler.fit(df_scaled[spatial+socioeconomic])\n",
    "df_scaled[spatial+socioeconomic] = scaler.fit_transform(df_scaled[spatial+socioeconomic])\n",
    "#df_scaled[['Average Commute to Work (In Min)', \"%LIMENG\"]] = scaler.transform(df_scaled[['Average Commute to Work (In Min)', \"%LIMENG\"]])\n",
    "#df_scaled[['Average Commute to Work (In Min)', \"%LIMENG\"]] = scaler.transform(df_scaled[['Average Commute to Work (In Min)', \"%LIMENG\"]])\n",
    "\n",
    "#df_scaled[\"%Total Child Population\"] = df_scaled[\"%Total Child Population\"]/100 #move later to data preparation"
   ]
  },
  {
   "cell_type": "markdown",
   "metadata": {},
   "source": [
    "## Socio-economic Feature selection"
   ]
  },
  {
   "cell_type": "code",
   "execution_count": 17,
   "metadata": {},
   "outputs": [
    {
     "name": "stdout",
     "output_type": "stream",
     "text": [
      "                                 OLS Regression Results                                \n",
      "=======================================================================================\n",
      "Dep. Variable:                IDX_W2M   R-squared (uncentered):                   0.023\n",
      "Model:                            OLS   Adj. R-squared (uncentered):             -0.012\n",
      "Method:                 Least Squares   F-statistic:                             0.6608\n",
      "Date:                Sat, 15 Apr 2023   Prob (F-statistic):                       0.997\n",
      "Time:                        21:35:28   Log-Likelihood:                         -4772.2\n",
      "No. Observations:                3043   AIC:                                      9750.\n",
      "Df Residuals:                    2940   BIC:                                  1.037e+04\n",
      "Df Model:                         103                                                  \n",
      "Covariance Type:            nonrobust                                                  \n",
      "=======================================================================================================================================================\n",
      "                                                                                          coef    std err          t      P>|t|      [0.025      0.975]\n",
      "-------------------------------------------------------------------------------------------------------------------------------------------------------\n",
      "% Total Population: Male                                                               -0.0008      0.019     -0.041      0.967      -0.037       0.036\n",
      "% Total Population: Female                                                              0.0008      0.019      0.041      0.967      -0.036       0.037\n",
      "% Total Population: Under 5 Years                                                      -0.5386      4.411     -0.122      0.903      -9.187       8.110\n",
      "% Total Population: 5 to 9 Years                                                       -0.5599      4.673     -0.120      0.905      -9.722       8.602\n",
      "% Total Population: 10 to 14 Years                                                     -0.5492      4.622     -0.119      0.905      -9.611       8.513\n",
      "% Total Population: 15 to 17 Years                                                     -0.3078      2.563     -0.120      0.904      -5.333       4.717\n",
      "% Total Population: 18 to 24 Years                                                     -7.2230     11.366     -0.635      0.525     -29.510      15.064\n",
      "% Total Population: 25 to 34 Years                                                     -4.6863      7.347     -0.638      0.524     -19.093       9.720\n",
      "% Total Population: 35 to 44 Years                                                     -3.3369      5.249     -0.636      0.525     -13.630       6.956\n",
      "% Total Population: 45 to 54 Years                                                     -3.1203      4.895     -0.637      0.524     -12.719       6.478\n",
      "% Total Population: 55 to 64 Years                                                     -4.3456      6.852     -0.634      0.526     -17.781       9.090\n",
      "% Total Population: 65 to 74 Years                                                     -1.0055     11.383     -0.088      0.930     -23.326      21.315\n",
      "% Total Population: 75 to 84 Years                                                     -0.6213      7.226     -0.086      0.931     -14.790      13.547\n",
      "% Total Population: 85 Years and Over                                                  -0.2750      3.903     -0.070      0.944      -7.928       7.378\n",
      "% Total Population: White Alone                                                        -0.1531      0.151     -1.013      0.311      -0.449       0.143\n",
      "% Total Population: Black or African American Alone                                     0.1488      0.576      0.258      0.796      -0.981       1.278\n",
      "% Total Population: American Indian and Alaska Native Alone                             0.2465      0.335      0.735      0.462      -0.411       0.904\n",
      "% Total Population: Asian Alone                                                         0.1397      0.191      0.733      0.464      -0.234       0.513\n",
      "% Total Population: Two or More Races                                                  -0.0170      0.056     -0.305      0.760      -0.126       0.092\n",
      "% Population 25 Years and Over: Less than High School                                 -16.2427     21.723     -0.748      0.455     -58.836      26.351\n",
      "% Population 25 Years and Over: High School Graduate or More (Includes Equivalency)    16.2427     21.723      0.748      0.455     -26.351      58.836\n",
      "% Population 25 Years and Over: Some College or More                                   19.3504     81.271      0.238      0.812    -140.004     178.705\n",
      "% Population 25 Years and Over: Bachelor's Degree or More                              -0.0219      0.106     -0.207      0.836      -0.229       0.185\n",
      "% Population 25 Years and Over: Master's Degree or More                                -0.0038      0.093     -0.040      0.968      -0.187       0.180\n",
      "% Population 25 Years and Over: Professional School Degree or More                      0.1045      0.080      1.309      0.191      -0.052       0.261\n",
      "% Population 25 Years and Over: Doctorate Degree                                        2.7866      7.623      0.366      0.715     -12.161      17.734\n",
      "% Population 16 Years and Over: in Labor Force                                         -5.2036     21.496     -0.242      0.809     -47.352      36.945\n",
      "% Population 16 Years and Over: in Labor Force: in Armed Forces                         2.1893      8.998      0.243      0.808     -15.454      19.833\n",
      "% Population 16 Years and Over: in Labor Force: Civilian                               -7.2153     47.252     -0.153      0.879     -99.866      85.436\n",
      "% Population 16 Years and Over: in Labor Force: Civilian: Employed                     18.1858     35.995      0.505      0.613     -52.392      88.764\n",
      "% Population 16 Years and Over: in Labor Force: Civilian: Unemployed                    2.9319      5.763      0.509      0.611      -8.369      14.232\n",
      "% Population 16 Years and Over: Not in Labor Force                                      5.2036     21.496      0.242      0.809     -36.945      47.352\n",
      "% Households: Less than $25,000                                                        -4.0851     25.011     -0.163      0.870     -53.126      44.956\n",
      "% Households: $25,000 to $49,999                                                       -2.4728     15.271     -0.162      0.871     -32.416      27.471\n",
      "% Households: $50,000 to $74,999                                                       -1.5985      9.789     -0.163      0.870     -20.793      17.596\n",
      "% Households: $75,000 to $99,999                                                       -1.4693      8.910     -0.165      0.869     -18.941      16.002\n",
      "% Households: $100,000 or More                                                         -5.2905     32.194     -0.164      0.869     -68.415      57.834\n",
      "Median Household Income (In 2021 Inflation Adjusted Dollars)                            0.0765      0.126      0.605      0.545      -0.171       0.324\n",
      "Gini Index                                                                             -0.0157      0.035     -0.446      0.656      -0.085       0.053\n",
      "% Workers 16 Years and Over: Car, Truck, or Van                                         0.8524     31.088      0.027      0.978     -60.104      61.809\n",
      "% Workers 16 Years and Over: Drove Alone                                               -8.5186     29.091     -0.293      0.770     -65.559      48.522\n",
      "% Workers 16 Years and Over: Carpooled                                                 -3.7446     12.797     -0.293      0.770     -28.837      21.347\n",
      "% Workers 16 Years and Over: Public Transportation (Includes Taxicab)                  -3.1504      8.699     -0.362      0.717     -20.208      13.907\n",
      "% Workers 16 Years and Over: Motorcycle                                                -0.2026      0.550     -0.369      0.712      -1.280       0.875\n",
      "% Workers 16 Years and Over: Bicycle                                                   -0.7008      1.869     -0.375      0.708      -4.365       2.964\n",
      "% Workers 16 Years and Over: Walked                                                    -2.7832      7.705     -0.361      0.718     -17.892      12.325\n",
      "% Workers 16 Years and Over: Other Means                                               -1.0823      2.985     -0.363      0.717      -6.935       4.771\n",
      "% Workers 16 Years and Over: Worked At Home                                            -4.4435     12.276     -0.362      0.717     -28.513      19.626\n",
      "% Total: No Health Insurance Coverage                                                   0.0017      0.061      0.028      0.977      -0.118       0.122\n",
      "% Total: with Health Insurance Coverage                                                -0.0017      0.061     -0.028      0.977      -0.122       0.118\n",
      "% Total: with Health Insurance Coverage: Public Health Coverage                        -0.1283      0.114     -1.121      0.262      -0.353       0.096\n",
      "% Total: with Health Insurance Coverage: Private Health Insurance                      -0.0261      0.121     -0.216      0.829      -0.263       0.211\n",
      "EP_POV150                                                                              -0.0054      0.078     -0.070      0.945      -0.159       0.148\n",
      "EP_UNEMP                                                                               -0.0012      0.064     -0.019      0.985      -0.127       0.124\n",
      "EP_HBURD                                                                                0.0526      0.039      1.333      0.183      -0.025       0.130\n",
      "EP_NOHSDP                                                                              -0.1353      0.129     -1.047      0.295      -0.389       0.118\n",
      "EP_UNINSUR                                                                             -0.0515      0.108     -0.478      0.633      -0.263       0.160\n",
      "EP_AGE65                                                                                0.1215      0.203      0.598      0.550      -0.277       0.520\n",
      "EP_AGE17                                                                               -0.0798      0.147     -0.542      0.588      -0.369       0.209\n",
      "EP_SNGPNT                                                                              -0.0318      0.041     -0.786      0.432      -0.111       0.048\n",
      "EP_LIMENG                                                                              -0.2231      1.127     -0.198      0.843      -2.434       1.987\n",
      "EP_MINRTY                                                                              -0.3410      2.240     -0.152      0.879      -4.732       4.050\n",
      "EP_MUNIT                                                                               -0.1048      0.053     -1.978      0.048      -0.209      -0.001\n",
      "EP_MOBILE                                                                              -0.0330      0.047     -0.704      0.481      -0.125       0.059\n",
      "EP_CROWD                                                                                0.0145      0.042      0.343      0.732      -0.068       0.097\n",
      "EP_NOVEH                                                                                0.0308      0.052      0.596      0.551      -0.071       0.132\n",
      "EP_GROUPQ                                                                              -0.0069      0.077     -0.089      0.929      -0.158       0.145\n",
      "F_POV150                                                                               -0.0005      0.031     -0.016      0.987      -0.062       0.061\n",
      "F_UNEMP                                                                                -0.0079      0.030     -0.261      0.794      -0.067       0.051\n",
      "F_HBURD                                                                                 0.0101      0.028      0.361      0.718      -0.045       0.065\n",
      "F_NOHSDP                                                                               -0.0103      0.032     -0.319      0.749      -0.074       0.053\n",
      "F_UNINSUR                                                                               0.0075      0.031      0.241      0.810      -0.053       0.068\n",
      "F_THEME1                                                                               -0.0003      0.014     -0.021      0.983      -0.028       0.028\n",
      "F_AGE65                                                                                -0.0124      0.031     -0.407      0.684      -0.072       0.047\n",
      "F_AGE17                                                                                 0.0151      0.030      0.497      0.619      -0.044       0.075\n",
      "F_DISABL                                                                               -0.0103      0.029     -0.352      0.725      -0.068       0.047\n",
      "F_SNGPNT                                                                                0.0297      0.030      1.003      0.316      -0.028       0.088\n",
      "F_LIMENG                                                                               -0.0002      0.035     -0.005      0.996      -0.068       0.068\n",
      "F_THEME2                                                                                0.0091      0.015      0.598      0.550      -0.021       0.039\n",
      "F_MINRTY                                                                               -0.0052      0.017     -0.299      0.765      -0.039       0.029\n",
      "F_THEME3                                                                               -0.0052      0.017     -0.299      0.765      -0.039       0.029\n",
      "F_MUNIT                                                                                -0.0151      0.034     -0.446      0.655      -0.082       0.051\n",
      "F_MOBILE                                                                                0.0241      0.030      0.792      0.428      -0.036       0.084\n",
      "F_CROWD                                                                                 0.0280      0.032      0.888      0.375      -0.034       0.090\n",
      "F_NOVEH                                                                                 0.0156      0.029      0.535      0.593      -0.042       0.073\n",
      "F_GROUPQ                                                                               -0.0232      0.034     -0.687      0.492      -0.089       0.043\n",
      "F_THEME4                                                                                0.0115      0.016      0.708      0.479      -0.020       0.043\n",
      "F_TOTAL                                                                                 0.0065      0.008      0.851      0.395      -0.009       0.022\n",
      "%DAYPOP                                                                                -0.0202      0.031     -0.659      0.510      -0.080       0.040\n",
      "EP_NOINT                                                                                0.2939      0.399      0.736      0.462      -0.489       1.077\n",
      "EP_AFAM                                                                                -0.0163      1.698     -0.010      0.992      -3.345       3.312\n",
      "EP_HISP                                                                                 0.2647      1.557      0.170      0.865      -2.789       3.318\n",
      "EP_ASIAN                                                                               -0.0595      0.329     -0.181      0.857      -0.706       0.586\n",
      "EP_AIAN                                                                                -0.2049      0.805     -0.255      0.799      -1.784       1.374\n",
      "EP_TWOMORE                                                                              0.0088      0.178      0.049      0.961      -0.341       0.359\n",
      "EP_OTHERRACE                                                                            0.0010      0.035      0.029      0.977      -0.069       0.071\n",
      "%Total Child Population                                                                -1.5969     12.471     -0.128      0.898     -26.049      22.855\n",
      "%Total University                                                                      29.9723     80.330      0.373      0.709    -127.537     187.482\n",
      "%Total High school                                                                     35.5747     82.825      0.430      0.668    -126.826     197.975\n",
      "%Total Less than High School                                                           59.9777     77.494      0.774      0.439     -91.970     211.925\n",
      "%Total Adult Population                                                                 4.6312     12.153      0.381      0.703     -19.199      28.461\n",
      "%Total Elderly Population                                                              -2.6651     13.150     -0.203      0.839     -28.450      23.120\n",
      "%Population with Disability                                                             0.0473      0.050      0.950      0.342      -0.050       0.145\n",
      "%LIMENG                                                                                 0.2497      1.127      0.222      0.825      -1.960       2.459\n",
      "%NOINT                                                                                 -0.2458      0.398     -0.618      0.536      -1.025       0.534\n",
      "Population Density (Per Sq. Mile)                                                      -0.0209      0.135     -0.155      0.877      -0.286       0.244\n",
      "Average Commute to Work (In Min)                                                       -0.0455      0.038     -1.203      0.229      -0.120       0.029\n",
      "AREA_SQMI                                                                              -0.0466      0.026     -1.791      0.073      -0.098       0.004\n",
      "Density_Medical_Facilities_Population                                                   0.0174      0.027      0.637      0.524      -0.036       0.071\n",
      "Density_Medical_Facilities_Area                                                         0.0203      0.107      0.189      0.850      -0.190       0.231\n",
      "Density_Transportation_Stops_Pop                                                       -0.0323      0.061     -0.533      0.594      -0.151       0.086\n",
      "Density_Transportation_Stops_Area                                                       0.0166      0.031      0.531      0.595      -0.045       0.078\n",
      "Stops_per_Facility                                                                      0.0191      0.058      0.328      0.743      -0.095       0.134\n",
      "==============================================================================\n",
      "Omnibus:                      295.680   Durbin-Watson:                   0.059\n",
      "Prob(Omnibus):                  0.000   Jarque-Bera (JB):              340.607\n",
      "Skew:                           0.786   Prob(JB):                     1.09e-74\n",
      "Kurtosis:                       2.534   Cond. No.                     1.74e+16\n",
      "==============================================================================\n",
      "\n",
      "Notes:\n",
      "[1] R² is computed without centering (uncentered) since the model does not contain a constant.\n",
      "[2] Standard Errors assume that the covariance matrix of the errors is correctly specified.\n",
      "[3] The smallest eigenvalue is 2.27e-28. This might indicate that there are\n",
      "strong multicollinearity problems or that the design matrix is singular.\n"
     ]
    },
    {
     "name": "stderr",
     "output_type": "stream",
     "text": [
      "/state/partition1/llgrid/pkg/anaconda/anaconda3-2022a/lib/python3.8/site-packages/statsmodels/tsa/tsatools.py:142: FutureWarning: In a future version of pandas all arguments of concat except for the argument 'objs' will be keyword-only.\n",
      "  x = pd.concat(x[::order], 1)\n"
     ]
    }
   ],
   "source": [
    "X= df_scaled[socioeconomic+spatial]\n",
    "y = df_scaled['IDX_W2M']\n",
    "x= sm.add_constant(X)\n",
    "slr = sm.OLS(y,X).fit()\n",
    "slr_summary=slr.summary()\n",
    "print(slr.summary())"
   ]
  },
  {
   "cell_type": "code",
   "execution_count": 18,
   "metadata": {},
   "outputs": [
    {
     "data": {
      "text/plain": [
       "0"
      ]
     },
     "execution_count": 18,
     "metadata": {},
     "output_type": "execute_result"
    }
   ],
   "source": [
    "X.isna().sum().max()"
   ]
  },
  {
   "cell_type": "code",
   "execution_count": 19,
   "metadata": {
    "scrolled": true
   },
   "outputs": [
    {
     "data": {
      "text/plain": [
       "% Total Population: Male                 0\n",
       "% Total Population: Female               0\n",
       "% Total Population: Under 5 Years        0\n",
       "% Total Population: 5 to 9 Years         0\n",
       "% Total Population: 10 to 14 Years       0\n",
       "                                        ..\n",
       "Density_Medical_Facilities_Population    0\n",
       "Density_Medical_Facilities_Area          0\n",
       "Density_Transportation_Stops_Pop         0\n",
       "Density_Transportation_Stops_Area        0\n",
       "Stops_per_Facility                       0\n",
       "Length: 113, dtype: int64"
      ]
     },
     "execution_count": 19,
     "metadata": {},
     "output_type": "execute_result"
    }
   ],
   "source": [
    "np.isinf(X).sum()"
   ]
  },
  {
   "cell_type": "markdown",
   "metadata": {},
   "source": [
    "## Reduce columns with VIF"
   ]
  },
  {
   "cell_type": "code",
   "execution_count": null,
   "metadata": {
    "scrolled": false
   },
   "outputs": [],
   "source": [
    "vif = VIF(df_scaled[socioeconomic], 5).round(2)\n",
    "vif"
   ]
  },
  {
   "cell_type": "code",
   "execution_count": null,
   "metadata": {},
   "outputs": [],
   "source": [
    "additional_features=['EP_DISABL', \n",
    "'%Population with Disability','EP_SNGPNT',\n",
    "'% Population 25 Years and Over: Professional School Degree or More',\n",
    "'%NOINT',\n",
    "'% Workers 16 Years and Over: Carpooled']\n"
   ]
  },
  {
   "cell_type": "code",
   "execution_count": null,
   "metadata": {},
   "outputs": [],
   "source": [
    "reduced_features=list(vif['features'])\n",
    "reduced_features"
   ]
  },
  {
   "cell_type": "code",
   "execution_count": null,
   "metadata": {},
   "outputs": [],
   "source": [
    "len(reduced_features)"
   ]
  },
  {
   "cell_type": "markdown",
   "metadata": {
    "id": "mXlnKvQ04RTX"
   },
   "source": [
    "### Feature engineering"
   ]
  },
  {
   "cell_type": "code",
   "execution_count": null,
   "metadata": {
    "id": "AG4uQt7n4cZq"
   },
   "outputs": [],
   "source": [
    "df = df_scaled[targets].copy()"
   ]
  },
  {
   "cell_type": "code",
   "execution_count": null,
   "metadata": {
    "colab": {
     "base_uri": "https://localhost:8080/"
    },
    "executionInfo": {
     "elapsed": 1211,
     "status": "ok",
     "timestamp": 1677795100763,
     "user": {
      "displayName": "Matthias Schumm",
      "userId": "14613872717235634427"
     },
     "user_tz": 300
    },
    "id": "_dyLSReH5Qx-",
    "outputId": "fd95a438-3884-4175-df73-ea5f0db2e2d0",
    "scrolled": true
   },
   "outputs": [],
   "source": [
    "features=[]\n",
    "for s in spatial:\n",
    "  for p in (reduced_features+additional_features):\n",
    "    df[s + \"*\" + p]= df_scaled[s].copy()*df_scaled[p].copy()\n",
    "    features.append(s + \"*\" + p)"
   ]
  },
  {
   "cell_type": "code",
   "execution_count": null,
   "metadata": {},
   "outputs": [],
   "source": [
    "df[reduced_features] = df_scaled[reduced_features]\n",
    "df[additional_features] = df_scaled[additional_features]"
   ]
  },
  {
   "cell_type": "code",
   "execution_count": null,
   "metadata": {},
   "outputs": [],
   "source": [
    "features += reduced_features\n",
    "features += additional_features\n",
    "features"
   ]
  },
  {
   "cell_type": "code",
   "execution_count": null,
   "metadata": {
    "scrolled": true
   },
   "outputs": [],
   "source": [
    "len(features)"
   ]
  },
  {
   "cell_type": "code",
   "execution_count": 20,
   "metadata": {},
   "outputs": [],
   "source": [
    "# Define the variables\n",
    "X= df_scaled[socioeconomic+spatial]\n",
    "y = df_scaled['IDX_W2M']"
   ]
  },
  {
   "cell_type": "code",
   "execution_count": 21,
   "metadata": {},
   "outputs": [],
   "source": [
    "# Calculate the correlation matrix\n",
    "corr_matrix = X.corr().abs()"
   ]
  },
  {
   "cell_type": "code",
   "execution_count": 22,
   "metadata": {},
   "outputs": [],
   "source": [
    "# Get the upper triangle of the correlation matrix\n",
    "upper = corr_matrix.where(np.triu(np.ones(corr_matrix.shape), k=1).astype(bool))"
   ]
  },
  {
   "cell_type": "code",
   "execution_count": 28,
   "metadata": {},
   "outputs": [],
   "source": [
    "# Find the features with correlation greater than the threshold (0.9)\n",
    "to_drop = [column for column in upper.columns if any(upper[column] > 0.6)]"
   ]
  },
  {
   "cell_type": "code",
   "execution_count": 29,
   "metadata": {},
   "outputs": [],
   "source": [
    "# Drop the highly correlated features\n",
    "X_reduced = X.drop(to_drop, axis=1)"
   ]
  },
  {
   "cell_type": "code",
   "execution_count": 30,
   "metadata": {},
   "outputs": [],
   "source": [
    "# Get the features that were kept\n",
    "kept_features = [column for column in X.columns if column not in to_drop]"
   ]
  },
  {
   "cell_type": "code",
   "execution_count": 31,
   "metadata": {},
   "outputs": [
    {
     "name": "stdout",
     "output_type": "stream",
     "text": [
      "Number of features after removing highly correlated features: 39\n",
      "Number of features dropped: 74\n"
     ]
    }
   ],
   "source": [
    "# Print the number of features retained and dropped after removing highly correlated features\n",
    "print(f\"Number of features after removing highly correlated features: {X_reduced.shape[1]}\")\n",
    "print(f\"Number of features dropped: {len(to_drop)}\")"
   ]
  },
  {
   "cell_type": "code",
   "execution_count": 32,
   "metadata": {},
   "outputs": [
    {
     "name": "stdout",
     "output_type": "stream",
     "text": [
      "\n",
      "Kept features:\n",
      "['% Total Population: Male', '% Total Population: Under 5 Years', '% Total Population: 10 to 14 Years', '% Total Population: 15 to 17 Years', '% Total Population: 18 to 24 Years', '% Total Population: 25 to 34 Years', '% Total Population: 35 to 44 Years', '% Total Population: 45 to 54 Years', '% Total Population: 85 Years and Over', '% Total Population: White Alone', '% Total Population: American Indian and Alaska Native Alone', '% Total Population: Asian Alone', '% Total Population: Two or More Races', '% Population 25 Years and Over: Less than High School', '% Population 16 Years and Over: in Labor Force: in Armed Forces', '% Population 16 Years and Over: in Labor Force: Civilian: Unemployed', '% Households: $25,000 to $49,999', '% Households: $50,000 to $74,999', '% Households: $75,000 to $99,999', 'Gini Index', '% Workers 16 Years and Over: Car, Truck, or Van', '% Workers 16 Years and Over: Carpooled', '% Workers 16 Years and Over: Motorcycle', '% Workers 16 Years and Over: Bicycle', '% Workers 16 Years and Over: Other Means', '% Total: No Health Insurance Coverage', 'EP_HBURD', 'EP_CROWD', 'EP_NOVEH', 'F_DISABL', 'F_THEME2', 'F_THEME4', '%DAYPOP', 'EP_TWOMORE', 'EP_OTHERRACE', 'Average Commute to Work (In Min)', 'AREA_SQMI', 'Density_Medical_Facilities_Population', 'Density_Transportation_Stops_Pop']\n"
     ]
    }
   ],
   "source": [
    "# Print the features that were kept\n",
    "print(\"\\nKept features:\")\n",
    "print(kept_features)"
   ]
  },
  {
   "cell_type": "code",
   "execution_count": 33,
   "metadata": {
    "scrolled": true
   },
   "outputs": [
    {
     "name": "stdout",
     "output_type": "stream",
     "text": [
      "\n",
      "Dropped features:\n",
      "['% Total Population: Female', '% Total Population: 5 to 9 Years', '% Total Population: 55 to 64 Years', '% Total Population: 65 to 74 Years', '% Total Population: 75 to 84 Years', '% Total Population: Black or African American Alone', '% Population 25 Years and Over: High School Graduate or More (Includes Equivalency)', '% Population 25 Years and Over: Some College or More', \"% Population 25 Years and Over: Bachelor's Degree or More\", \"% Population 25 Years and Over: Master's Degree or More\", '% Population 25 Years and Over: Professional School Degree or More', '% Population 25 Years and Over: Doctorate Degree', '% Population 16 Years and Over: in Labor Force', '% Population 16 Years and Over: in Labor Force: Civilian', '% Population 16 Years and Over: in Labor Force: Civilian: Employed', '% Population 16 Years and Over: Not in Labor Force', '% Households: Less than $25,000', '% Households: $100,000 or More', 'Median Household Income (In 2021 Inflation Adjusted Dollars)', '% Workers 16 Years and Over: Drove Alone', '% Workers 16 Years and Over: Public Transportation (Includes Taxicab)', '% Workers 16 Years and Over: Walked', '% Workers 16 Years and Over: Worked At Home', '% Total: with Health Insurance Coverage', '% Total: with Health Insurance Coverage: Public Health Coverage', '% Total: with Health Insurance Coverage: Private Health Insurance', 'EP_POV150', 'EP_UNEMP', 'EP_NOHSDP', 'EP_UNINSUR', 'EP_AGE65', 'EP_AGE17', 'EP_SNGPNT', 'EP_LIMENG', 'EP_MINRTY', 'EP_MUNIT', 'EP_MOBILE', 'EP_GROUPQ', 'F_POV150', 'F_UNEMP', 'F_HBURD', 'F_NOHSDP', 'F_UNINSUR', 'F_THEME1', 'F_AGE65', 'F_AGE17', 'F_SNGPNT', 'F_LIMENG', 'F_MINRTY', 'F_THEME3', 'F_MUNIT', 'F_MOBILE', 'F_CROWD', 'F_NOVEH', 'F_GROUPQ', 'F_TOTAL', 'EP_NOINT', 'EP_AFAM', 'EP_HISP', 'EP_ASIAN', 'EP_AIAN', '%Total Child Population', '%Total University', '%Total High school', '%Total Less than High School', '%Total Adult Population', '%Total Elderly Population', '%Population with Disability', '%LIMENG', '%NOINT', 'Population Density (Per Sq. Mile)', 'Density_Medical_Facilities_Area', 'Density_Transportation_Stops_Area', 'Stops_per_Facility']\n"
     ]
    }
   ],
   "source": [
    "# Print the features that were dropped\n",
    "print(\"\\nDropped features:\")\n",
    "print(to_drop)"
   ]
  },
  {
   "cell_type": "code",
   "execution_count": 35,
   "metadata": {},
   "outputs": [],
   "source": [
    "X= df_scaled[kept_features]"
   ]
  },
  {
   "cell_type": "code",
   "execution_count": 36,
   "metadata": {},
   "outputs": [],
   "source": [
    "# Define the base model\n",
    "base_model = RandomForestRegressor(random_state=42)"
   ]
  },
  {
   "cell_type": "code",
   "execution_count": 37,
   "metadata": {},
   "outputs": [],
   "source": [
    "# Define the RFE with cross-validation\n",
    "rfecv = RFECV(estimator=base_model, step=1, cv=KFold(5), scoring='r2')"
   ]
  },
  {
   "cell_type": "code",
   "execution_count": 43,
   "metadata": {},
   "outputs": [
    {
     "data": {
      "text/plain": [
       "RFECV(cv=KFold(n_splits=5, random_state=None, shuffle=False),\n",
       "      estimator=RandomForestRegressor(random_state=42), scoring='r2')"
      ]
     },
     "execution_count": 43,
     "metadata": {},
     "output_type": "execute_result"
    }
   ],
   "source": [
    "# Fit the RFECV to the entire dataset\n",
    "rfecv.fit(X, y)"
   ]
  },
  {
   "cell_type": "code",
   "execution_count": 44,
   "metadata": {},
   "outputs": [
    {
     "name": "stdout",
     "output_type": "stream",
     "text": [
      "Optimal number of features: 38\n"
     ]
    }
   ],
   "source": [
    "# Print the optimal number of features\n",
    "print(\"Optimal number of features: %d\" % rfecv.n_features_)"
   ]
  },
  {
   "cell_type": "code",
   "execution_count": 45,
   "metadata": {},
   "outputs": [],
   "source": [
    "# Get the boolean mask of retained features\n",
    "retained_features_mask = rfecv.support_"
   ]
  },
  {
   "cell_type": "code",
   "execution_count": 46,
   "metadata": {},
   "outputs": [],
   "source": [
    "# Get the feature names from the original dataset\n",
    "feature_names = np.array(X.columns)"
   ]
  },
  {
   "cell_type": "code",
   "execution_count": 47,
   "metadata": {},
   "outputs": [],
   "source": [
    "# Get the names of the retained features\n",
    "retained_features = feature_names[retained_features_mask]"
   ]
  },
  {
   "cell_type": "code",
   "execution_count": 48,
   "metadata": {},
   "outputs": [
    {
     "name": "stdout",
     "output_type": "stream",
     "text": [
      "Retained features:\n",
      "['% Total Population: Male' '% Total Population: Under 5 Years'\n",
      " '% Total Population: 10 to 14 Years' '% Total Population: 15 to 17 Years'\n",
      " '% Total Population: 18 to 24 Years' '% Total Population: 25 to 34 Years'\n",
      " '% Total Population: 35 to 44 Years' '% Total Population: 45 to 54 Years'\n",
      " '% Total Population: 85 Years and Over' '% Total Population: White Alone'\n",
      " '% Total Population: American Indian and Alaska Native Alone'\n",
      " '% Total Population: Asian Alone' '% Total Population: Two or More Races'\n",
      " '% Population 25 Years and Over: Less than High School'\n",
      " '% Population 16 Years and Over: in Labor Force: in Armed Forces'\n",
      " '% Population 16 Years and Over: in Labor Force: Civilian: Unemployed'\n",
      " '% Households: $25,000 to $49,999' '% Households: $50,000 to $74,999'\n",
      " '% Households: $75,000 to $99,999' 'Gini Index'\n",
      " '% Workers 16 Years and Over: Car, Truck, or Van'\n",
      " '% Workers 16 Years and Over: Carpooled'\n",
      " '% Workers 16 Years and Over: Motorcycle'\n",
      " '% Workers 16 Years and Over: Bicycle'\n",
      " '% Workers 16 Years and Over: Other Means'\n",
      " '% Total: No Health Insurance Coverage' 'EP_HBURD' 'EP_CROWD' 'EP_NOVEH'\n",
      " 'F_THEME2' 'F_THEME4' '%DAYPOP' 'EP_TWOMORE' 'EP_OTHERRACE'\n",
      " 'Average Commute to Work (In Min)' 'AREA_SQMI'\n",
      " 'Density_Medical_Facilities_Population'\n",
      " 'Density_Transportation_Stops_Pop']\n"
     ]
    }
   ],
   "source": [
    "# Print the retained features\n",
    "print(\"Retained features:\")\n",
    "print(retained_features)"
   ]
  },
  {
   "cell_type": "code",
   "execution_count": 49,
   "metadata": {},
   "outputs": [],
   "source": [
    "# Transform the dataset to retain only the selected features\n",
    "X_selected = rfecv.transform(X)"
   ]
  },
  {
   "cell_type": "code",
   "execution_count": 50,
   "metadata": {},
   "outputs": [],
   "source": [
    "# Define the hyperparameter grid for the Random Forest regressor\n",
    "param_grid = {\n",
    "    'n_estimators': [10, 50, 100, 200],\n",
    "    'max_depth': [None, 10, 20, 30],\n",
    "    'min_samples_split': [2, 5, 10],\n",
    "    'min_samples_leaf': [1, 2, 4]\n",
    "}"
   ]
  },
  {
   "cell_type": "code",
   "execution_count": 51,
   "metadata": {},
   "outputs": [
    {
     "data": {
      "text/plain": [
       "GridSearchCV(cv=5, estimator=RandomForestRegressor(random_state=42),\n",
       "             param_grid={'max_depth': [None, 10, 20, 30],\n",
       "                         'min_samples_leaf': [1, 2, 4],\n",
       "                         'min_samples_split': [2, 5, 10],\n",
       "                         'n_estimators': [10, 50, 100, 200]},\n",
       "             scoring='r2')"
      ]
     },
     "execution_count": 51,
     "metadata": {},
     "output_type": "execute_result"
    }
   ],
   "source": [
    "# Perform a grid search with cross-validation to find the best hyperparameters\n",
    "grid_search = GridSearchCV(estimator=base_model, param_grid=param_grid, cv=5, scoring='r2')\n",
    "grid_search.fit(X_selected, y)"
   ]
  },
  {
   "cell_type": "code",
   "execution_count": 52,
   "metadata": {},
   "outputs": [],
   "source": [
    "# Train the model with the best hyperparameters on the selected features\n",
    "best_model = base_model.fit(X_selected, y)"
   ]
  },
  {
   "cell_type": "code",
   "execution_count": 53,
   "metadata": {},
   "outputs": [
    {
     "data": {
      "text/plain": [
       "RandomForestRegressor(max_depth=10, n_estimators=200, random_state=42)"
      ]
     },
     "execution_count": 53,
     "metadata": {},
     "output_type": "execute_result"
    }
   ],
   "source": [
    "# Train the model with the best hyperparameters on the selected features\n",
    "best_model = grid_search.best_estimator_\n",
    "best_model.fit(X_selected, y)"
   ]
  },
  {
   "cell_type": "code",
   "execution_count": 54,
   "metadata": {},
   "outputs": [],
   "source": [
    "# Define the evaluation metrics\n",
    "scoring_metrics = ['r2', 'neg_mean_squared_error', 'neg_mean_absolute_error']\n"
   ]
  },
  {
   "cell_type": "code",
   "execution_count": 55,
   "metadata": {},
   "outputs": [],
   "source": [
    "# Perform cross-validation using the best model and selected features\n",
    "cv_results = cross_validate(best_model, X_selected, y, cv=KFold(5), scoring=scoring_metrics)"
   ]
  },
  {
   "cell_type": "code",
   "execution_count": 56,
   "metadata": {},
   "outputs": [
    {
     "name": "stdout",
     "output_type": "stream",
     "text": [
      "Cross-validation results:\n",
      "R2: -0.28\n",
      "Mean squared error: 0.26\n",
      "Mean absolute error: 0.42\n"
     ]
    }
   ],
   "source": [
    "# Print the cross-validation results\n",
    "print(\"Cross-validation results:\")\n",
    "for metric in scoring_metrics:\n",
    "    mean_score = np.mean(cv_results[f'test_{metric}'])\n",
    "    if metric == 'neg_mean_squared_error':\n",
    "        print(f\"Mean squared error: {-mean_score:.2f}\")\n",
    "    elif metric == 'neg_mean_absolute_error':\n",
    "        print(f\"Mean absolute error: {-mean_score:.2f}\")\n",
    "    else:\n",
    "        print(f\"{metric.capitalize()}: {mean_score:.2f}\")\n"
   ]
  },
  {
   "cell_type": "code",
   "execution_count": null,
   "metadata": {},
   "outputs": [],
   "source": []
  },
  {
   "cell_type": "code",
   "execution_count": null,
   "metadata": {},
   "outputs": [],
   "source": []
  }
 ],
 "metadata": {
  "colab": {
   "provenance": [
    {
     "file_id": "11WGYD-oWd7rqYLomrgs9vu9xH1aFO9jp",
     "timestamp": 1675646304252
    }
   ]
  },
  "kernelspec": {
   "display_name": "Python 3 (ipykernel)",
   "language": "python",
   "name": "python3"
  },
  "language_info": {
   "codemirror_mode": {
    "name": "ipython",
    "version": 3
   },
   "file_extension": ".py",
   "mimetype": "text/x-python",
   "name": "python",
   "nbconvert_exporter": "python",
   "pygments_lexer": "ipython3",
   "version": "3.8.13"
  },
  "latex_envs": {
   "LaTeX_envs_menu_present": true,
   "autoclose": false,
   "autocomplete": true,
   "bibliofile": "biblio.bib",
   "cite_by": "apalike",
   "current_citInitial": 1,
   "eqLabelWithNumbers": true,
   "eqNumInitial": 1,
   "hotkeys": {
    "equation": "Ctrl-E",
    "itemize": "Ctrl-I"
   },
   "labels_anchors": false,
   "latex_user_defs": false,
   "report_style_numbering": false,
   "user_envs_cfg": false
  },
  "toc": {
   "base_numbering": 1,
   "nav_menu": {},
   "number_sections": true,
   "sideBar": true,
   "skip_h1_title": false,
   "title_cell": "Table of Contents",
   "title_sidebar": "Contents",
   "toc_cell": false,
   "toc_position": {},
   "toc_section_display": true,
   "toc_window_display": false
  }
 },
 "nbformat": 4,
 "nbformat_minor": 1
}
