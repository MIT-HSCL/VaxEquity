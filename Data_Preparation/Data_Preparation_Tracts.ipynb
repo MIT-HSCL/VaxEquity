{
 "cells": [
  {
   "cell_type": "markdown",
   "metadata": {
    "id": "HxjY0rOgT8QH"
   },
   "source": [
    "# Prepare Workspace"
   ]
  },
  {
   "cell_type": "markdown",
   "metadata": {
    "id": "Qrqe3HndUC6b"
   },
   "source": [
    "## Install required modules"
   ]
  },
  {
   "cell_type": "code",
   "execution_count": 1,
   "metadata": {
    "colab": {
     "base_uri": "https://localhost:8080/"
    },
    "executionInfo": {
     "elapsed": 8203,
     "status": "ok",
     "timestamp": 1677872289738,
     "user": {
      "displayName": "Matthias Schumm",
      "userId": "14613872717235634427"
     },
     "user_tz": 300
    },
    "id": "JN_FNm-DTh3W",
    "outputId": "2545cab0-1c94-495e-c130-eaa3ddff9662"
   },
   "outputs": [],
   "source": [
    "#!pip install geopandas"
   ]
  },
  {
   "cell_type": "markdown",
   "metadata": {
    "id": "T8JAO25dUDoP"
   },
   "source": [
    "## Load required modules"
   ]
  },
  {
   "cell_type": "code",
   "execution_count": 2,
   "metadata": {
    "executionInfo": {
     "elapsed": 2225,
     "status": "ok",
     "timestamp": 1677872291959,
     "user": {
      "displayName": "Matthias Schumm",
      "userId": "14613872717235634427"
     },
     "user_tz": 300
    },
    "id": "6PS1DPXFlzQF"
   },
   "outputs": [],
   "source": [
    "import pandas as pd\n",
    "import numpy as np\n",
    "\n",
    "import datetime\n",
    "\n",
    "import matplotlib.pyplot as plt\n",
    "import seaborn as sns\n",
    "\n",
    "#from sklearn.preprocessing import MinMaxScaler\n",
    "\n",
    "# https://scikit-learn.org/stable/modules/impute.html\n",
    "from sklearn.experimental import enable_iterative_imputer\n",
    "from sklearn.impute import IterativeImputer"
   ]
  },
  {
   "cell_type": "code",
   "execution_count": 3,
   "metadata": {
    "executionInfo": {
     "elapsed": 322,
     "status": "ok",
     "timestamp": 1677872292278,
     "user": {
      "displayName": "Matthias Schumm",
      "userId": "14613872717235634427"
     },
     "user_tz": 300
    },
    "id": "T3Ca0evFQlLb"
   },
   "outputs": [],
   "source": [
    "import geopandas as gpd"
   ]
  },
  {
   "cell_type": "markdown",
   "metadata": {
    "id": "QYpdQ0K2UHh4"
   },
   "source": [
    "## Load files"
   ]
  },
  {
   "cell_type": "markdown",
   "metadata": {
    "id": "yiDnPLxSUN88"
   },
   "source": [
    "### ACS, SVI, Medical Facilities"
   ]
  },
  {
   "cell_type": "code",
   "execution_count": 4,
   "metadata": {
    "executionInfo": {
     "elapsed": 268,
     "status": "ok",
     "timestamp": 1677872344503,
     "user": {
      "displayName": "Matthias Schumm",
      "userId": "14613872717235634427"
     },
     "user_tz": 300
    },
    "id": "epf_a3QXinJ_"
   },
   "outputs": [],
   "source": [
    "acs = pd.read_csv('ACS_Tracts.csv', low_memory=False)\n",
    "svi = pd.read_csv('SVI2020_US_Tract.csv', low_memory=False)"
   ]
  },
  {
   "cell_type": "code",
   "execution_count": 5,
   "metadata": {
    "executionInfo": {
     "elapsed": 28782,
     "status": "ok",
     "timestamp": 1677872373284,
     "user": {
      "displayName": "Matthias Schumm",
      "userId": "14613872717235634427"
     },
     "user_tz": 300
    },
    "id": "DKnuPexZQw2l"
   },
   "outputs": [],
   "source": [
    "facilities = pd.read_csv(\"medical_facilities_tracts.csv\")#gpd.read_file(\"./Tracts_Medical_Facilities/Tracts_Medical_Facilities.shp\")"
   ]
  },
  {
   "cell_type": "code",
   "execution_count": 6,
   "metadata": {},
   "outputs": [],
   "source": [
    "#facilities[\"FIPS\"]=facilities[\"STATEFP\"]+ facilities[\"COUNTYFP\"] + facilities[\"Geo_FIPS\"]\n",
    "#facilities[\"FIPS\"] = facilities.FIPS.astype(int)"
   ]
  },
  {
   "cell_type": "code",
   "execution_count": 7,
   "metadata": {},
   "outputs": [
    {
     "data": {
      "text/html": [
       "<div>\n",
       "<style scoped>\n",
       "    .dataframe tbody tr th:only-of-type {\n",
       "        vertical-align: middle;\n",
       "    }\n",
       "\n",
       "    .dataframe tbody tr th {\n",
       "        vertical-align: top;\n",
       "    }\n",
       "\n",
       "    .dataframe thead th {\n",
       "        text-align: right;\n",
       "    }\n",
       "</style>\n",
       "<table border=\"1\" class=\"dataframe\">\n",
       "  <thead>\n",
       "    <tr style=\"text-align: right;\">\n",
       "      <th></th>\n",
       "      <th>Join_ID</th>\n",
       "      <th>FIPS</th>\n",
       "      <th>Point Coun</th>\n",
       "    </tr>\n",
       "  </thead>\n",
       "  <tbody>\n",
       "    <tr>\n",
       "      <th>0</th>\n",
       "      <td>1</td>\n",
       "      <td>1001020100</td>\n",
       "      <td>NaN</td>\n",
       "    </tr>\n",
       "    <tr>\n",
       "      <th>1</th>\n",
       "      <td>2</td>\n",
       "      <td>1001020200</td>\n",
       "      <td>NaN</td>\n",
       "    </tr>\n",
       "    <tr>\n",
       "      <th>2</th>\n",
       "      <td>3</td>\n",
       "      <td>1001020300</td>\n",
       "      <td>5.0</td>\n",
       "    </tr>\n",
       "    <tr>\n",
       "      <th>3</th>\n",
       "      <td>4</td>\n",
       "      <td>1001020400</td>\n",
       "      <td>6.0</td>\n",
       "    </tr>\n",
       "    <tr>\n",
       "      <th>4</th>\n",
       "      <td>5</td>\n",
       "      <td>1001020501</td>\n",
       "      <td>4.0</td>\n",
       "    </tr>\n",
       "  </tbody>\n",
       "</table>\n",
       "</div>"
      ],
      "text/plain": [
       "   Join_ID        FIPS  Point Coun\n",
       "0        1  1001020100         NaN\n",
       "1        2  1001020200         NaN\n",
       "2        3  1001020300         5.0\n",
       "3        4  1001020400         6.0\n",
       "4        5  1001020501         4.0"
      ]
     },
     "execution_count": 7,
     "metadata": {},
     "output_type": "execute_result"
    }
   ],
   "source": [
    "facilities.head()"
   ]
  },
  {
   "cell_type": "code",
   "execution_count": 8,
   "metadata": {},
   "outputs": [],
   "source": [
    "#facilities.to_excel(\"facilities.xlsx\")\n",
    "facilities = facilities[[\"FIPS\", \"Point Coun\"]].copy()"
   ]
  },
  {
   "cell_type": "code",
   "execution_count": 9,
   "metadata": {
    "executionInfo": {
     "elapsed": 30285,
     "status": "ok",
     "timestamp": 1677872403563,
     "user": {
      "displayName": "Matthias Schumm",
      "userId": "14613872717235634427"
     },
     "user_tz": 300
    },
    "id": "b8OjuHZxwZ1e"
   },
   "outputs": [],
   "source": [
    "transportation = gpd.read_file(\"../Tracts_Transportation/Tracts_Transportation.shp\", include_fields=[\"FIPS\", \"Join_ID\", \"Point_Coun\"])"
   ]
  },
  {
   "cell_type": "code",
   "execution_count": 10,
   "metadata": {},
   "outputs": [],
   "source": [
    "#transportation[\"FIPS\"]=transportation[\"STATEFP\"]+ transportation[\"COUNTYFP\"] + transportation[\"Geo_FIPS\"]\n",
    "#transportation[\"FIPS\"] = transportation.FIPS.astype(int)\n",
    "transportation = transportation[[\"FIPS\", \"Point_Coun\"]].copy()"
   ]
  },
  {
   "cell_type": "code",
   "execution_count": 11,
   "metadata": {},
   "outputs": [
    {
     "data": {
      "text/html": [
       "<div>\n",
       "<style scoped>\n",
       "    .dataframe tbody tr th:only-of-type {\n",
       "        vertical-align: middle;\n",
       "    }\n",
       "\n",
       "    .dataframe tbody tr th {\n",
       "        vertical-align: top;\n",
       "    }\n",
       "\n",
       "    .dataframe thead th {\n",
       "        text-align: right;\n",
       "    }\n",
       "</style>\n",
       "<table border=\"1\" class=\"dataframe\">\n",
       "  <thead>\n",
       "    <tr style=\"text-align: right;\">\n",
       "      <th></th>\n",
       "      <th>FIPS</th>\n",
       "      <th>Point_Coun</th>\n",
       "    </tr>\n",
       "  </thead>\n",
       "  <tbody>\n",
       "    <tr>\n",
       "      <th>471</th>\n",
       "      <td>01073000100</td>\n",
       "      <td>16</td>\n",
       "    </tr>\n",
       "    <tr>\n",
       "      <th>472</th>\n",
       "      <td>01073000300</td>\n",
       "      <td>26</td>\n",
       "    </tr>\n",
       "    <tr>\n",
       "      <th>473</th>\n",
       "      <td>01073000400</td>\n",
       "      <td>23</td>\n",
       "    </tr>\n",
       "    <tr>\n",
       "      <th>474</th>\n",
       "      <td>01073000500</td>\n",
       "      <td>29</td>\n",
       "    </tr>\n",
       "    <tr>\n",
       "      <th>475</th>\n",
       "      <td>01073000700</td>\n",
       "      <td>29</td>\n",
       "    </tr>\n",
       "    <tr>\n",
       "      <th>...</th>\n",
       "      <td>...</td>\n",
       "      <td>...</td>\n",
       "    </tr>\n",
       "    <tr>\n",
       "      <th>83917</th>\n",
       "      <td>55139001801</td>\n",
       "      <td>23</td>\n",
       "    </tr>\n",
       "    <tr>\n",
       "      <th>83918</th>\n",
       "      <td>55139001803</td>\n",
       "      <td>16</td>\n",
       "    </tr>\n",
       "    <tr>\n",
       "      <th>83920</th>\n",
       "      <td>55139001900</td>\n",
       "      <td>3</td>\n",
       "    </tr>\n",
       "    <tr>\n",
       "      <th>83938</th>\n",
       "      <td>55139003300</td>\n",
       "      <td>1</td>\n",
       "    </tr>\n",
       "    <tr>\n",
       "      <th>83939</th>\n",
       "      <td>55139003400</td>\n",
       "      <td>4</td>\n",
       "    </tr>\n",
       "  </tbody>\n",
       "</table>\n",
       "<p>36002 rows × 2 columns</p>\n",
       "</div>"
      ],
      "text/plain": [
       "              FIPS  Point_Coun\n",
       "471    01073000100          16\n",
       "472    01073000300          26\n",
       "473    01073000400          23\n",
       "474    01073000500          29\n",
       "475    01073000700          29\n",
       "...            ...         ...\n",
       "83917  55139001801          23\n",
       "83918  55139001803          16\n",
       "83920  55139001900           3\n",
       "83938  55139003300           1\n",
       "83939  55139003400           4\n",
       "\n",
       "[36002 rows x 2 columns]"
      ]
     },
     "execution_count": 11,
     "metadata": {},
     "output_type": "execute_result"
    }
   ],
   "source": [
    "#transportation[\"Point_Coun\"].sum()\n",
    "transportation[transportation[\"Point_Coun\"]>0]"
   ]
  },
  {
   "cell_type": "markdown",
   "metadata": {
    "id": "S9S-mQE8UTpD"
   },
   "source": [
    "# Prepare Data"
   ]
  },
  {
   "cell_type": "markdown",
   "metadata": {
    "id": "ONBPXmgyVVUV"
   },
   "source": [
    "# Join with ACS and SVI"
   ]
  },
  {
   "cell_type": "markdown",
   "metadata": {
    "id": "u6dV2uICVYKs"
   },
   "source": [
    "## join with ACS"
   ]
  },
  {
   "cell_type": "code",
   "execution_count": 12,
   "metadata": {},
   "outputs": [],
   "source": [
    "acs.drop(0, inplace=True)\n",
    "acs[\"FIPS\"] = acs[\"FIPS\"].astype(int)"
   ]
  },
  {
   "cell_type": "code",
   "execution_count": 13,
   "metadata": {},
   "outputs": [
    {
     "data": {
      "text/plain": [
       "array(['al', 'ak', 'az', 'ar', 'ca', 'co', 'ct', 'de', 'dc', 'fl', 'ga',\n",
       "       'hi', 'id', 'il', 'in', 'ia', 'ks', 'ky', 'la', 'me', 'md', 'ma',\n",
       "       'mi', 'mn', 'ms', 'mo', 'mt', 'ne', 'nv', 'nh', 'nj', 'nm', 'ny',\n",
       "       'nc', 'nd', 'oh', 'ok', 'or', 'pa', 'ri', 'sc', 'sd', 'tn', 'tx',\n",
       "       'ut', 'vt', 'va', 'wa', 'wv', 'wi', 'wy', 'pr'], dtype=object)"
      ]
     },
     "execution_count": 13,
     "metadata": {},
     "output_type": "execute_result"
    }
   ],
   "source": [
    "acs[\"State Postal Abbreviation\"].unique()"
   ]
  },
  {
   "cell_type": "code",
   "execution_count": 14,
   "metadata": {},
   "outputs": [],
   "source": [
    "mask = ((acs[\"State Postal Abbreviation\"]!=\"ak\") & (acs[\"State Postal Abbreviation\"]!=\"hi\"))\n",
    "#ak=Alaska, hi=Hawaii"
   ]
  },
  {
   "cell_type": "code",
   "execution_count": 15,
   "metadata": {},
   "outputs": [
    {
     "data": {
      "text/plain": [
       "1        True\n",
       "2        True\n",
       "3        True\n",
       "4        True\n",
       "5        True\n",
       "         ... \n",
       "85391    True\n",
       "85392    True\n",
       "85393    True\n",
       "85394    True\n",
       "85395    True\n",
       "Name: State Postal Abbreviation, Length: 85395, dtype: bool"
      ]
     },
     "execution_count": 15,
     "metadata": {},
     "output_type": "execute_result"
    }
   ],
   "source": [
    "mask"
   ]
  },
  {
   "cell_type": "code",
   "execution_count": 16,
   "metadata": {},
   "outputs": [],
   "source": [
    "acs = acs[mask]"
   ]
  },
  {
   "cell_type": "code",
   "execution_count": 17,
   "metadata": {},
   "outputs": [
    {
     "data": {
      "text/plain": [
       "array(['al', 'az', 'ar', 'ca', 'co', 'ct', 'de', 'dc', 'fl', 'ga', 'id',\n",
       "       'il', 'in', 'ia', 'ks', 'ky', 'la', 'me', 'md', 'ma', 'mi', 'mn',\n",
       "       'ms', 'mo', 'mt', 'ne', 'nv', 'nh', 'nj', 'nm', 'ny', 'nc', 'nd',\n",
       "       'oh', 'ok', 'or', 'pa', 'ri', 'sc', 'sd', 'tn', 'tx', 'ut', 'vt',\n",
       "       'va', 'wa', 'wv', 'wi', 'wy', 'pr'], dtype=object)"
      ]
     },
     "execution_count": 17,
     "metadata": {},
     "output_type": "execute_result"
    }
   ],
   "source": [
    "acs[\"State Postal Abbreviation\"].unique()"
   ]
  },
  {
   "cell_type": "code",
   "execution_count": 18,
   "metadata": {
    "id": "ldORR3o0tVm6"
   },
   "outputs": [],
   "source": [
    "#df=acs.set_index('FIPS').join(svi.set_index('FIPS'))#.set_index('FIPS'))\n",
    "#df = df.sort_values(by=\"FIPS\", ascending=False)\n",
    "#df=df.reset_index()"
   ]
  },
  {
   "cell_type": "code",
   "execution_count": 19,
   "metadata": {
    "id": "I_AYOL2cYTYB"
   },
   "outputs": [],
   "source": [
    "#np.issubdtype(df[\"FIPS\"].dtype, np.number)\n",
    "#df[[\"FIPS\"]].applymap(np.isreal)\n",
    "#df[[\"FIPS\"]].applymap(lambda x: isinstance(int(x), (int, float)))"
   ]
  },
  {
   "cell_type": "markdown",
   "metadata": {
    "id": "J44G1aWaVjrF"
   },
   "source": [
    "## join with SVI"
   ]
  },
  {
   "cell_type": "code",
   "execution_count": 20,
   "metadata": {},
   "outputs": [],
   "source": [
    "svi.replace([-999], np.nan, inplace=True) # -999 encodes NAN"
   ]
  },
  {
   "cell_type": "code",
   "execution_count": 21,
   "metadata": {
    "id": "dZN1kA2z99NV"
   },
   "outputs": [],
   "source": [
    "#df_merged_copy = df_merged.copy()\n",
    "#df_merged = df.copy()\n",
    "#df=df.reset_index()"
   ]
  },
  {
   "cell_type": "code",
   "execution_count": 22,
   "metadata": {},
   "outputs": [],
   "source": [
    "numeric_cols = list(svi.select_dtypes(include=\"number\"))\n",
    "svi_imputed = svi.copy()"
   ]
  },
  {
   "cell_type": "code",
   "execution_count": 23,
   "metadata": {},
   "outputs": [],
   "source": [
    "#imp = IterativeImputer(missing_values=-999, max_iter=10, random_state=0)\n",
    "#imp.fit(svi[numeric_cols])\n",
    "#IterativeImputer(random_state=0)\n",
    "#svi_imputed[numeric_cols] = imp.transform(svi[numeric_cols])"
   ]
  },
  {
   "cell_type": "code",
   "execution_count": 24,
   "metadata": {},
   "outputs": [],
   "source": [
    "df=acs.set_index('FIPS').join(svi.set_index('FIPS'))#.set_index('FIPS'))\n",
    "df = df.sort_values(by=\"FIPS\", ascending=False)\n",
    "df=df.reset_index()\n",
    "#df['FIPS']=df['FIPS'].astype('int64')\n",
    "#df_merged=df.set_index('FIPS').join(svi_imputed.set_index('FIPS'))"
   ]
  },
  {
   "cell_type": "code",
   "execution_count": 25,
   "metadata": {},
   "outputs": [],
   "source": [
    "#df_merged"
   ]
  },
  {
   "cell_type": "code",
   "execution_count": 26,
   "metadata": {},
   "outputs": [],
   "source": [
    "#df_merged.drop([\"level_0\", \"index\"], inplace=True)"
   ]
  },
  {
   "cell_type": "markdown",
   "metadata": {
    "id": "h4K-Rl3ESo8Y"
   },
   "source": [
    "### join with medical facilities"
   ]
  },
  {
   "cell_type": "code",
   "execution_count": 27,
   "metadata": {
    "id": "EOPJ5ahpUxHL"
   },
   "outputs": [],
   "source": [
    "#df_merged['County of current residence']=df_merged['County of current residence'].astype('int64').copy()\n",
    "facilities['FIPS']=facilities['FIPS'].astype('int64')#.copy()\n",
    "facilities.set_index(\"FIPS\", inplace = True)\n",
    "df.set_index('FIPS', inplace=True)"
   ]
  },
  {
   "cell_type": "code",
   "execution_count": 28,
   "metadata": {},
   "outputs": [],
   "source": [
    "facilities = facilities.fillna(0)"
   ]
  },
  {
   "cell_type": "code",
   "execution_count": 29,
   "metadata": {},
   "outputs": [
    {
     "data": {
      "text/plain": [
       "Int64Index([ 1001020100,  1001020200,  1001020300,  1001020400,  1001020501,\n",
       "             1001020502,  1001020503,  1001020600,  1001020700,  1001020801,\n",
       "            ...\n",
       "            56041975202, 56041975301, 56041975302, 56041975401, 56041975402,\n",
       "            56043000200, 56043000301, 56043000302, 56045951100, 56045951300],\n",
       "           dtype='int64', name='FIPS', length=84122)"
      ]
     },
     "execution_count": 29,
     "metadata": {},
     "output_type": "execute_result"
    }
   ],
   "source": [
    "facilities.index\n",
    "#facilities.reset_index(inplace=True)"
   ]
  },
  {
   "cell_type": "code",
   "execution_count": 30,
   "metadata": {},
   "outputs": [],
   "source": [
    "#facilities[facilities[\"FIPS\"]==15007040500]"
   ]
  },
  {
   "cell_type": "code",
   "execution_count": 31,
   "metadata": {},
   "outputs": [
    {
     "data": {
      "text/plain": [
       "Point Coun    8.0\n",
       "Name: 15007040500, dtype: float64"
      ]
     },
     "execution_count": 31,
     "metadata": {},
     "output_type": "execute_result"
    }
   ],
   "source": [
    "facilities.loc[15007040500]"
   ]
  },
  {
   "cell_type": "code",
   "execution_count": 32,
   "metadata": {},
   "outputs": [],
   "source": [
    "#df.loc[15007040500]"
   ]
  },
  {
   "cell_type": "code",
   "execution_count": 33,
   "metadata": {},
   "outputs": [],
   "source": [
    "df_merged = df.copy()"
   ]
  },
  {
   "cell_type": "code",
   "execution_count": 34,
   "metadata": {
    "id": "_YxcmpNoSoZN"
   },
   "outputs": [],
   "source": [
    "df_merged=df_merged.join(facilities)#.set_index('FIPS'))"
   ]
  },
  {
   "cell_type": "code",
   "execution_count": 35,
   "metadata": {
    "id": "RKRVnhc_TP6S"
   },
   "outputs": [],
   "source": [
    "rename = {'Point Coun': \"Count_Medical_Facilities\"}\n",
    "df_merged.rename(columns=rename, inplace=True)\n",
    "df_merged.reset_index(inplace=True)"
   ]
  },
  {
   "cell_type": "code",
   "execution_count": 36,
   "metadata": {
    "id": "FRKMbBK3WvhB"
   },
   "outputs": [],
   "source": [
    "df_merged_copy = df_merged.copy()\n",
    "df_merged = df_merged_copy.copy()"
   ]
  },
  {
   "cell_type": "code",
   "execution_count": 37,
   "metadata": {},
   "outputs": [
    {
     "data": {
      "text/plain": [
       "177767.0"
      ]
     },
     "execution_count": 37,
     "metadata": {},
     "output_type": "execute_result"
    }
   ],
   "source": [
    "df_merged[\"Count_Medical_Facilities\"].sum()"
   ]
  },
  {
   "cell_type": "code",
   "execution_count": 38,
   "metadata": {},
   "outputs": [],
   "source": [
    "df_merged[\"Count_Medical_Facilities\"].replace([np.nan], 0, inplace=True)"
   ]
  },
  {
   "cell_type": "code",
   "execution_count": 39,
   "metadata": {
    "scrolled": true
   },
   "outputs": [],
   "source": [
    "#list(acs)\n",
    "#acs[(acs['County of current residence'] == \"007\") & (acs['State (FIPS Code)'] == \"15\") & (acs['Census Tract']==\"040702\")].T\n"
   ]
  },
  {
   "cell_type": "markdown",
   "metadata": {
    "id": "AFWB6_LTyh8P"
   },
   "source": [
    "### join transportation"
   ]
  },
  {
   "cell_type": "code",
   "execution_count": 40,
   "metadata": {
    "id": "aWuFPNu_yhvu"
   },
   "outputs": [],
   "source": [
    "transportation['FIPS']=transportation['FIPS'].astype('int64').copy()\n",
    "transportation.set_index(\"FIPS\", inplace=True)\n",
    "df_merged.set_index(\"FIPS\", inplace=True)"
   ]
  },
  {
   "cell_type": "code",
   "execution_count": 41,
   "metadata": {},
   "outputs": [],
   "source": [
    "#transportation.index"
   ]
  },
  {
   "cell_type": "code",
   "execution_count": 42,
   "metadata": {},
   "outputs": [],
   "source": [
    "#transportation.loc[15003009603]"
   ]
  },
  {
   "cell_type": "code",
   "execution_count": 43,
   "metadata": {
    "id": "QetNKF1oyheP"
   },
   "outputs": [],
   "source": [
    "df_merged = df_merged.join(transportation)\n",
    "rename    = {'Point_Coun': \"Count_Transportation_Stops\"}\n",
    "df_merged.rename(columns=rename, inplace=True)\n",
    "#df_merged.reset_index(inplace=True)"
   ]
  },
  {
   "cell_type": "code",
   "execution_count": 44,
   "metadata": {
    "id": "07MRbXoNPg_e",
    "scrolled": true
   },
   "outputs": [
    {
     "data": {
      "text/plain": [
       "1248"
      ]
     },
     "execution_count": 44,
     "metadata": {},
     "output_type": "execute_result"
    }
   ],
   "source": [
    "df_merged[\"Count_Transportation_Stops\"].isna().sum()"
   ]
  },
  {
   "cell_type": "code",
   "execution_count": 45,
   "metadata": {},
   "outputs": [],
   "source": [
    "df_merged[\"Count_Transportation_Stops\"].replace([np.nan], 0, inplace=True)"
   ]
  },
  {
   "cell_type": "code",
   "execution_count": 46,
   "metadata": {},
   "outputs": [],
   "source": [
    "#df_merged.loc[15007040500]"
   ]
  },
  {
   "cell_type": "markdown",
   "metadata": {
    "id": "2APQTkYLV55o"
   },
   "source": [
    "## Calculate columns"
   ]
  },
  {
   "cell_type": "code",
   "execution_count": 47,
   "metadata": {
    "id": "w9LSyGaMSiF9"
   },
   "outputs": [],
   "source": [
    "df_merged[['Total Population: Under 5 Years',\n",
    "           'Total Population: 5 to 9 Years',\n",
    "           'Total Population: 10 to 14 Years',\n",
    "           'Total Population: 15 to 17 Years',\n",
    "           'Total Population:',\n",
    "          'Population 25 Years and Over: Some College or More',\n",
    "          'Population 25 Years and Over: Doctorate Degree',\n",
    "          'Population 25 Years and Over:',\n",
    "          \"Population 25 Years and Over: High School Graduate or More (Includes Equivalency)\",'Population 25 Years and Over: Less than High School', 'Total Population: 18 to 24 Years','Total Population: 25 to 34 Years','Total Population: 35 to 44 Years','Total Population: 45 to 54 Years','Total Population: 55 to 64 Years','Total Population: 65 to 74 Years','Total Population: 75 to 84 Years','Total Population: 85 Years and Over']]=df_merged[['Total Population: Under 5 Years',\n",
    "                                                                         'Total Population: 5 to 9 Years',\n",
    "                                                                         'Total Population: 10 to 14 Years',\n",
    "                                                                         'Total Population: 15 to 17 Years',\n",
    "                                                                         'Total Population:',\n",
    "                                                                                                           'Population 25 Years and Over: Some College or More',\n",
    "                                                                                                           'Population 25 Years and Over: Doctorate Degree',\n",
    "                                                                                                           'Population 25 Years and Over:',\n",
    "                                                                                                          \"Population 25 Years and Over: High School Graduate or More (Includes Equivalency)\",'Population 25 Years and Over: Less than High School','Total Population: 18 to 24 Years','Total Population: 25 to 34 Years','Total Population: 35 to 44 Years','Total Population: 45 to 54 Years','Total Population: 55 to 64 Years','Total Population: 65 to 74 Years','Total Population: 75 to 84 Years','Total Population: 85 Years and Over']].astype('int64')"
   ]
  },
  {
   "cell_type": "code",
   "execution_count": 48,
   "metadata": {
    "id": "BYxWcKUuQ4o4",
    "scrolled": true
   },
   "outputs": [],
   "source": [
    "df_merged['%Total University'] = ((df_merged['Population 25 Years and Over: Some College or More'] - df_merged['Population 25 Years and Over: Doctorate Degree'])/df_merged['Population 25 Years and Over:'])\n",
    "df_merged['%Total High school'] = ((df_merged[\"Population 25 Years and Over: High School Graduate or More (Includes Equivalency)\"]- df_merged['Population 25 Years and Over: Some College or More'])/df_merged['Population 25 Years and Over:'])\n",
    "df_merged['%Total Less than High School']= (df_merged['Population 25 Years and Over: Less than High School']/df_merged['Population 25 Years and Over:'])\n",
    "df_merged['%Total Child Population'] = ((df_merged[ 'Total Population: Under 5 Years']+ df_merged['Total Population: 5 to 9 Years']+ df_merged['Total Population: 10 to 14 Years']+df_merged['Total Population: 15 to 17 Years'])/df_merged['Total Population:'])\n",
    "df_merged['%Total Adult Population'] = ((df_merged[ 'Total Population: 18 to 24 Years']+ df_merged['Total Population: 25 to 34 Years']+ df_merged['Total Population: 35 to 44 Years']+df_merged['Total Population: 45 to 54 Years']+ df_merged['Total Population: 55 to 64 Years'])/df_merged['Total Population:'])\n",
    "df_merged['%Total Elderly Population'] = ((df_merged['Total Population: 65 to 74 Years']+ df_merged['Total Population: 75 to 84 Years']+ df_merged['Total Population: 85 Years and Over'])/df_merged['Total Population:'])\n",
    "df_merged['%Population with Disability']=(df_merged['E_DISABL']/df_merged['E_TOTPOP'])\n",
    "df_merged['%LIMENG']=(df_merged['E_LIMENG']/df_merged['E_TOTPOP'])\n",
    "df_merged['%NOINT']=(df_merged['E_NOINT']/df_merged['E_TOTPOP'])\n",
    "df_merged['%DAYPOP']=(df_merged['E_DAYPOP']/df_merged['E_TOTPOP'])\n",
    "\n",
    "df_merged['Density_Medical_Facilities_Population']=df_merged['Count_Medical_Facilities']/df_merged['E_TOTPOP']\n",
    "df_merged['Density_Medical_Facilities_Area']=df_merged['Count_Medical_Facilities']/df_merged['AREA_SQMI']\n",
    "df_merged[\"Density_Transportation_Stops_Pop\"]=df_merged['Count_Transportation_Stops']/df_merged['E_TOTPOP']\n",
    "df_merged[\"Density_Transportation_Stops_Area\"]=df_merged['Count_Transportation_Stops']/df_merged['AREA_SQMI']\n",
    "\n",
    "df_merged[\"Stops_per_Facility\"]=df_merged['Count_Transportation_Stops']/df_merged['Count_Medical_Facilities']"
   ]
  },
  {
   "cell_type": "code",
   "execution_count": 49,
   "metadata": {},
   "outputs": [
    {
     "data": {
      "text/plain": [
       "179004.0"
      ]
     },
     "execution_count": 49,
     "metadata": {},
     "output_type": "execute_result"
    }
   ],
   "source": [
    "facilities[\"Point Coun\"].sum()"
   ]
  },
  {
   "cell_type": "code",
   "execution_count": 50,
   "metadata": {
    "id": "TIaM7YtL7ve_"
   },
   "outputs": [
    {
     "data": {
      "text/html": [
       "<div>\n",
       "<style scoped>\n",
       "    .dataframe tbody tr th:only-of-type {\n",
       "        vertical-align: middle;\n",
       "    }\n",
       "\n",
       "    .dataframe tbody tr th {\n",
       "        vertical-align: top;\n",
       "    }\n",
       "\n",
       "    .dataframe thead th {\n",
       "        text-align: right;\n",
       "    }\n",
       "</style>\n",
       "<table border=\"1\" class=\"dataframe\">\n",
       "  <thead>\n",
       "    <tr style=\"text-align: right;\">\n",
       "      <th></th>\n",
       "      <th>0</th>\n",
       "    </tr>\n",
       "  </thead>\n",
       "  <tbody>\n",
       "    <tr>\n",
       "      <th>US</th>\n",
       "      <td>84757</td>\n",
       "    </tr>\n",
       "    <tr>\n",
       "      <th>Census Region</th>\n",
       "      <td>84757</td>\n",
       "    </tr>\n",
       "    <tr>\n",
       "      <th>Census Division</th>\n",
       "      <td>84757</td>\n",
       "    </tr>\n",
       "    <tr>\n",
       "      <th>State (Census Code)</th>\n",
       "      <td>84757</td>\n",
       "    </tr>\n",
       "    <tr>\n",
       "      <th>County Subdivision (FIPS)</th>\n",
       "      <td>84757</td>\n",
       "    </tr>\n",
       "    <tr>\n",
       "      <th>...</th>\n",
       "      <td>...</td>\n",
       "    </tr>\n",
       "    <tr>\n",
       "      <th>Density_Medical_Facilities_Population</th>\n",
       "      <td>1670</td>\n",
       "    </tr>\n",
       "    <tr>\n",
       "      <th>Density_Medical_Facilities_Area</th>\n",
       "      <td>1276</td>\n",
       "    </tr>\n",
       "    <tr>\n",
       "      <th>Density_Transportation_Stops_Pop</th>\n",
       "      <td>1554</td>\n",
       "    </tr>\n",
       "    <tr>\n",
       "      <th>Density_Transportation_Stops_Area</th>\n",
       "      <td>1276</td>\n",
       "    </tr>\n",
       "    <tr>\n",
       "      <th>Stops_per_Facility</th>\n",
       "      <td>22742</td>\n",
       "    </tr>\n",
       "  </tbody>\n",
       "</table>\n",
       "<p>271 rows × 1 columns</p>\n",
       "</div>"
      ],
      "text/plain": [
       "                                           0\n",
       "US                                     84757\n",
       "Census Region                          84757\n",
       "Census Division                        84757\n",
       "State (Census Code)                    84757\n",
       "County Subdivision (FIPS)              84757\n",
       "...                                      ...\n",
       "Density_Medical_Facilities_Population   1670\n",
       "Density_Medical_Facilities_Area         1276\n",
       "Density_Transportation_Stops_Pop        1554\n",
       "Density_Transportation_Stops_Area       1276\n",
       "Stops_per_Facility                     22742\n",
       "\n",
       "[271 rows x 1 columns]"
      ]
     },
     "execution_count": 50,
     "metadata": {},
     "output_type": "execute_result"
    }
   ],
   "source": [
    "test = pd.DataFrame(df_merged.isna().sum())\n",
    "test[test[0]>78]"
   ]
  },
  {
   "cell_type": "code",
   "execution_count": 51,
   "metadata": {},
   "outputs": [],
   "source": [
    "df_merged[\"Stops_per_Facility\"].replace([np.nan], 0, inplace=True)\n",
    "#df_merged[\"Density_Medical_Facilities_Population\"].replace([np.nan], -np.inf, inplace=True)\n",
    "#df_merged[\"Density_Medical_Facilities_Area\"].replace([np.nan], -np.inf, inplace=True)\n",
    "#df_merged[\"Density_Transportation_Stops_Pop\"].replace([np.nan], np.inf, inplace=True)\n",
    "#df_merged[\"Density_Transportation_Stops_Area\"].replace([np.nan], np.inf, inplace=True)"
   ]
  },
  {
   "cell_type": "code",
   "execution_count": 52,
   "metadata": {},
   "outputs": [],
   "source": [
    "targets       = []#['MAX_Completeness_pct', 'Weeks2MAX', 'IDX_W2M']\n",
    "spatial       = ['Population Density (Per Sq. Mile)', 'Area (Land)', 'Average Commute to Work (In Min)', 'AREA_SQMI', 'Density_Medical_Facilities_Population', 'Density_Medical_Facilities_Area', 'Density_Transportation_Stops_Pop', 'Density_Transportation_Stops_Area', 'Stops_per_Facility']\n",
    "socioeconomic = [\"Total Population\",\"Total Population:\",\"% Total Population: Male\",\"% Total Population: Female\",\"Total Population:.1\",\"% Total Population: Under 5 Years\",\"% Total Population: 5 to 9 Years\",\"% Total Population: 10 to 14 Years\",\"% Total Population: 15 to 17 Years\",\"% Total Population: 18 to 24 Years\",\"% Total Population: 25 to 34 Years\",\"% Total Population: 35 to 44 Years\",\"% Total Population: 45 to 54 Years\",\"% Total Population: 55 to 64 Years\",\"% Total Population: 65 to 74 Years\",\"% Total Population: 75 to 84 Years\",\"% Total Population: 85 Years and Over\",\"% Total Population: White Alone\",\"% Total Population: Black or African American Alone\",\"% Total Population: American Indian and Alaska Native Alone\",\"% Total Population: Asian Alone\",\"% Total Population: Native Hawaiian and Other Pacific Islander Alone\",\"% Total Population: Some Other Race Alone\",\"% Total Population: Two or More Races\",\"% Population 25 Years and Over: Less than High School\",\"% Population 25 Years and Over: High School Graduate or More (Includes Equivalency)\",\"% Population 25 Years and Over: Some College or More\",\"% Population 25 Years and Over: Bachelor's Degree or More\",\"% Population 25 Years and Over: Master's Degree or More\",\"% Population 25 Years and Over: Professional School Degree or More\",\"% Population 25 Years and Over: Doctorate Degree\",\"% Population 16 Years and Over: in Labor Force\",\"% Population 16 Years and Over: in Labor Force: in Armed Forces\",\"% Population 16 Years and Over: in Labor Force: Civilian\",\"% Population 16 Years and Over: in Labor Force: Civilian: Employed\",\"% Population 16 Years and Over: in Labor Force: Civilian: Unemployed\",\"% Population 16 Years and Over: Not in Labor Force\",\"% Households: Less than $25,000\",\"% Households: $25,000 to $49,999\",\"% Households: $50,000 to $74,999\",\"% Households: $75,000 to $99,999\",\"% Households: $100,000 or More\",\"Median Household Income (In 2021 Inflation Adjusted Dollars)\",\"Gini Index\",\"% Workers 16 Years and Over: Car, Truck, or Van\",\"% Workers 16 Years and Over: Drove Alone\",\"% Workers 16 Years and Over: Carpooled\",\"% Workers 16 Years and Over: Public Transportation (Includes Taxicab)\",\"% Workers 16 Years and Over: Motorcycle\",\"% Workers 16 Years and Over: Bicycle\",\"% Workers 16 Years and Over: Walked\",\"% Workers 16 Years and Over: Other Means\",\"% Workers 16 Years and Over: Worked At Home\",\"% Total: No Health Insurance Coverage\",\"% Total: with Health Insurance Coverage\",\"% Total: with Health Insurance Coverage: Public Health Coverage\",\"% Total: with Health Insurance Coverage: Private Health Insurance\",\"E_TOTPOP\",\"EP_POV150\",\"EP_UNEMP\",\"EP_HBURD\",\"EP_NOHSDP\",\"EP_UNINSUR\",\"EP_AGE65\",\"EP_AGE17\",\"EP_DISABL\",\"EP_SNGPNT\",\"EP_LIMENG\",\"EP_MINRTY\",\"EP_MUNIT\",\"EP_MOBILE\",\"EP_CROWD\",\"EP_NOVEH\",\"EP_GROUPQ\",\"EPL_POV150\",\"EPL_UNEMP\",\"EPL_HBURD\",\"EPL_NOHSDP\",\"EPL_UNINSUR\",\"SPL_THEME1\",\"RPL_THEME1\",\"EPL_AGE65\",\"EPL_AGE17\",\"EPL_DISABL\",\"EPL_SNGPNT\",\"EPL_LIMENG\",\"SPL_THEME2\",\"RPL_THEME2\",\"EPL_MINRTY\",\"SPL_THEME3\",\"RPL_THEME3\",\"EPL_MUNIT\",\"EPL_MOBILE\",\"EPL_CROWD\",\"EPL_NOVEH\",\"EPL_GROUPQ\",\"SPL_THEME4\",\"RPL_THEME4\",\"SPL_THEMES\",\"RPL_THEMES\",\"F_POV150\",\"F_UNEMP\",\"F_HBURD\",\"F_NOHSDP\",\"F_UNINSUR\",\"F_THEME1\",\"F_AGE65\",\"F_AGE17\",\"F_DISABL\",\"F_SNGPNT\",\"F_LIMENG\",\"F_THEME2\",\"F_MINRTY\",\"F_THEME3\",\"F_MUNIT\",\"F_MOBILE\",\"F_CROWD\",\"F_NOVEH\",\"F_GROUPQ\",\"F_THEME4\",\"F_TOTAL\",\"E_DAYPOP\",\"EP_NOINT\",\"EP_AFAM\",\"EP_HISP\",\"EP_ASIAN\",\"EP_AIAN\",\"EP_NHPI\",\"EP_TWOMORE\",\"EP_OTHERRACE\",\"%Total Child Population\",'%Total University','%Total High school','%Total Less than High School','%Total Adult Population','%Total Elderly Population',\"%Population with Disability\",\"%LIMENG\",\"%NOINT\",'%DAYPOP']\n",
    "others        = [\"Qualifying Name\",\"File identification\",\"State Postal Abbreviation\",\"Summary Level\",\"Geographic Component\",\"Logical Record Number\",\"US\",\"Census Region\",\"Census Division\",\"State (Census Code)\",\"State (FIPS Code)\",\"County of current residence\",\"County Subdivision (FIPS)\",\"Place (FIPS Code)\",\"Census Tract\",\"Block Group\",\"Consolidated City\",\"American Indian Area/AlaskaNative Area/ Hawaiian Home Land(Census)\",\"American Indian Area/AlaskaNative Area/ Hawaiian Home Land(FIPS)\",\"American Indian Trust Land/Hawaiian Home Land Indicator\",\"American Indian TribalSubdivision (Census)\",\"American Indian TribalSubdivision (FIPS)\",\"Alaska Native RegionalCorporation (FIPS)\",\"Metropolitan and MicropolitanStatistical Area\",\"Combined Statistical Area\",\"Metropolitan Statistical Area-Metropolitan Division\",\"Metropolitan Area Central City\",\"Metropolitan/MicropolitanIndicator Flag\",\"New England City and Town Area\",\"New England City and TownCombined Statistical Area\",\"New England City and Town AreaDivision\",\"Urban Area\",\"Urban Area Central Place\",\"Current Congressional District ***\",\"State Legislative District Upper\",\"State Legislative District Lower\",\"Voting District\",\"ZIP Code Tabulation Area (3-digit)\",\"5-digit ZIP Code Tabulation Area\",\"Subminor Civil Division (FIPS)\",\"State-School District (Elementary)\",\"State-School District (Secondary)\",\"State-School District (Unified)\",\"Urban/Rural\",\"Principal City Indicator\",\"Traffic Analysis Zone\",\"Urban Growth Area\",\"Public Use Microdata Area â€“ 5%File\",\"Public Use Microdata Area - 1% File\",\"Geographic Identifier\",\"Area Name\",\"Tribal Tract\",\"Tribal Block Group\",\"Place (State FIPS + Place FIPS)\",\"Total Population: Male\",\"Total Population: Female\",\"Total Population: Under 5 Years\",\"Total Population: 5 to 9 Years\",\"Total Population: 10 to 14 Years\",\"Total Population: 15 to 17 Years\",\"Total Population: 18 to 24 Years\",\"Total Population: 25 to 34 Years\",\"Total Population: 35 to 44 Years\",\"Total Population: 45 to 54 Years\",\"Total Population: 55 to 64 Years\",\"Total Population: 65 to 74 Years\",\"Total Population: 75 to 84 Years\",\"Total Population: 85 Years and Over\",\"Total Population:.2\",\"Total Population: White Alone\",\"Total Population: Black or African American Alone\",\"Total Population: American Indian and Alaska Native Alone\",\"Total Population: Asian Alone\",\"Total Population: Native Hawaiian and Other Pacific Islander Alone\",\"Total Population: Some Other Race Alone\",\"Total Population: Two or More Races\",\"Population 25 Years and Over:\",\"Population 25 Years and Over: Less than High School\",\"Population 25 Years and Over: High School Graduate or More (Includes Equivalency)\",\"Population 25 Years and Over: Some College or More\",\"Population 25 Years and Over: Bachelor's Degree or More\",\"Population 25 Years and Over: Master's Degree or More\",\"Population 25 Years and Over: Professional School Degree or More\",\"Population 25 Years and Over: Doctorate Degree\",\"Population 16 Years and Over:\",\"Population 16 Years and Over: in Labor Force\",\"Population 16 Years and Over: in Labor Force: in Armed Forces\",\"Population 16 Years and Over: in Labor Force: Civilian\",\"Population 16 Years and Over: in Labor Force: Civilian: Employed\",\"Population 16 Years and Over: in Labor Force: Civilian: Unemployed\",\"Population 16 Years and Over: Not in Labor Force\",\"Households:\",\"Households: Less than $25,000\",\"Households: $25,000 to $49,999\",\"Households: $50,000 to $74,999\",\"Households: $75,000 to $99,999\",\"Households: $100,000 or More\",\"Workers 16 Years and Over:\",\"Workers 16 Years and Over: Car, Truck, or Van\",\"Workers 16 Years and Over: Drove Alone\",\"Workers 16 Years and Over: Carpooled\",\"Workers 16 Years and Over: Public Transportation (Includes Taxicab)\",\"Workers 16 Years and Over: Motorcycle\",\"Workers 16 Years and Over: Bicycle\",\"Workers 16 Years and Over: Walked\",\"Workers 16 Years and Over: Other Means\",\"Workers 16 Years and Over: Worked At Home\",\"Total:\",\"Total: No Health Insurance Coverage\",\"Total: with Health Insurance Coverage\",\"Total: with Health Insurance Coverage: Public Health Coverage\",\"Total: with Health Insurance Coverage: Private Health Insurance\",\"W\",\"ST\",\"STATE\",\"ST_ABBR\",\"STCNTY\",\"COUNTY\",\"LOCATION\",\"M_TOTPOP\",\"E_HU\",\"M_HU\",\"E_HH\",\"M_HH\",\"E_POV150\",\"M_POV150\",\"E_UNEMP\",\"M_UNEMP\",\"E_HBURD\",\"M_HBURD\",\"E_NOHSDP\",\"M_NOHSDP\",\"E_UNINSUR\",\"M_UNINSUR\",\"E_AGE65\",\"M_AGE65\",\"E_AGE17\",\"M_AGE17\",\"E_DISABL\",\"M_DISABL\",\"E_SNGPNT\",\"M_SNGPNT\",\"E_LIMENG\",\"M_LIMENG\",\"E_MINRTY\",\"M_MINRTY\",\"E_MUNIT\",\"M_MUNIT\",\"E_MOBILE\",\"M_MOBILE\",\"E_CROWD\",\"M_CROWD\",\"E_NOVEH\",\"M_NOVEH\",\"E_GROUPQ\",\"M_GROUPQ\",\"MP_POV150\",\"MP_UNEMP\",\"MP_HBURD\",\"MP_NOHSDP\",\"MP_UNINSUR\",\"MP_AGE65\",\"MP_AGE17\",\"MP_DISABL\",\"MP_SNGPNT\",\"MP_LIMENG\",\"MP_MINRTY\",\"MP_MUNIT\",\"MP_MOBILE\",\"MP_CROWD\",\"MP_NOVEH\",\"MP_GROUPQ\",\"E_NOINT\",\"M_NOINT\",\"E_AFAM\",\"M_AFAM\",\"E_HISP\",\"M_HISP\",\"E_ASIAN\",\"M_ASIAN\",\"E_AIAN\",\"M_AIAN\",\"E_NHPI\",\"M_NHPI\",\"E_TWOMORE\",\"M_TWOMORE\",\"E_OTHERRACE\",\"M_OTHERRACE\",\"MP_NOINT\",\"MP_AFAM\",\"MP_HISP\",\"MP_ASIAN\",\"MP_AIAN\",\"MP_NHPI\",\"MP_TWOMORE\",\"MP_OTHERRACE\",\"Count_Medical_Facilities\",\"Count_Transportation_Stops\"]"
   ]
  },
  {
   "cell_type": "code",
   "execution_count": 58,
   "metadata": {},
   "outputs": [
    {
     "data": {
      "text/plain": [
       "302"
      ]
     },
     "execution_count": 58,
     "metadata": {},
     "output_type": "execute_result"
    }
   ],
   "source": [
    "df_merged[\"County of current residence\"].nunique()"
   ]
  },
  {
   "cell_type": "markdown",
   "metadata": {
    "id": "PqqUR2dpV-fq"
   },
   "source": [
    "## Reduce number of columns"
   ]
  },
  {
   "cell_type": "code",
   "execution_count": null,
   "metadata": {
    "id": "2M8gCuoJOehI"
   },
   "outputs": [],
   "source": [
    "columns_to_keep=  targets + spatial + socioeconomic"
   ]
  },
  {
   "cell_type": "code",
   "execution_count": null,
   "metadata": {
    "id": "MlkZmpuMUQsu"
   },
   "outputs": [],
   "source": [
    "df_merged_full = df_merged.copy()\n",
    "df_merged=df_merged[columns_to_keep].copy()"
   ]
  },
  {
   "cell_type": "code",
   "execution_count": null,
   "metadata": {},
   "outputs": [],
   "source": [
    "#df_merged.dropna(inplace=True)"
   ]
  },
  {
   "cell_type": "code",
   "execution_count": null,
   "metadata": {},
   "outputs": [],
   "source": [
    "pd.DataFrame(df_merged.isna().sum())"
   ]
  },
  {
   "cell_type": "markdown",
   "metadata": {
    "id": "VubDvYLUWWB3"
   },
   "source": [
    "### Download merged DF"
   ]
  },
  {
   "cell_type": "code",
   "execution_count": null,
   "metadata": {
    "id": "2hXZPsoXWMmf"
   },
   "outputs": [],
   "source": [
    "#df_merged.to_excel('df_merged.xlsx')\n",
    "df_merged.to_csv('../df_tracts.csv')"
   ]
  }
 ],
 "metadata": {
  "colab": {
   "provenance": [
    {
     "file_id": "11WGYD-oWd7rqYLomrgs9vu9xH1aFO9jp",
     "timestamp": 1675646304252
    }
   ]
  },
  "kernelspec": {
   "display_name": "Python 3 (ipykernel)",
   "language": "python",
   "name": "python3"
  },
  "language_info": {
   "codemirror_mode": {
    "name": "ipython",
    "version": 3
   },
   "file_extension": ".py",
   "mimetype": "text/x-python",
   "name": "python",
   "nbconvert_exporter": "python",
   "pygments_lexer": "ipython3",
   "version": "3.8.13"
  },
  "latex_envs": {
   "LaTeX_envs_menu_present": true,
   "autoclose": false,
   "autocomplete": true,
   "bibliofile": "biblio.bib",
   "cite_by": "apalike",
   "current_citInitial": 1,
   "eqLabelWithNumbers": true,
   "eqNumInitial": 1,
   "hotkeys": {
    "equation": "Ctrl-E",
    "itemize": "Ctrl-I"
   },
   "labels_anchors": false,
   "latex_user_defs": false,
   "report_style_numbering": false,
   "user_envs_cfg": false
  },
  "toc": {
   "base_numbering": 1,
   "nav_menu": {},
   "number_sections": true,
   "sideBar": true,
   "skip_h1_title": false,
   "title_cell": "Table of Contents",
   "title_sidebar": "Contents",
   "toc_cell": false,
   "toc_position": {},
   "toc_section_display": true,
   "toc_window_display": false
  }
 },
 "nbformat": 4,
 "nbformat_minor": 1
}
